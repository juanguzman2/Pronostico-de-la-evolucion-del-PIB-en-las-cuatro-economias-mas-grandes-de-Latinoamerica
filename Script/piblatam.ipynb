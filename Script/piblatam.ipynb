{
  "cells": [
    {
      "cell_type": "markdown",
      "metadata": {
        "id": "Cya4kfI9rXfb"
      },
      "source": [
        "# Pronostico de la evolución del PIB en las cuatro economías más grandes de Latinoamérica"
      ]
    },
    {
      "cell_type": "markdown",
      "metadata": {
        "id": "-wGxMwz9naZ7"
      },
      "source": [
        "La economía de América Latina ha sido objeto de atención y estudio durante décadas debido a su importancia a nivel mundial. Las cuatro principales economías de la región, Brasil, México, Argentina y Colombia, tienen un impacto significativo en la economía global, tanto en términos de producción como de comercio. En este contexto, el Producto Interno Bruto (PIB) es una medida clave de la salud económica de un país, ya que refleja el valor total de los bienes y servicios producidos en un año.\n",
        "\n",
        "En este estudio, se presentará una proyección del PIB de las cuatro economías más grandes de Latinoamérica, utilizando modelos de predicción de series de tiempo de la familia ARMA. Estos modelos han demostrado ser efectivos para predecir la evolución del PIB, ya que tienen en cuenta tanto la tendencia como la estacionalidad de los datos.\n",
        "\n",
        "Los datos utilizados para este análisis abarcan desde el año 1960 hasta 2021, lo que nos permite obtener una visión general de la evolución histórica del PIB de estas economías\n",
        "\n",
        "Este estudio tiene como objetivo ofrecer una proyección del PIB de las principales economías de Latinoamérica, con el fin de proporcionar información valiosa para los responsables de la toma de decisiones, inversores y otros actores económicos interesados en la región."
      ]
    },
    {
      "cell_type": "markdown",
      "metadata": {
        "id": "3znaBZnaL84D"
      },
      "source": [
        "## Librerias"
      ]
    },
    {
      "cell_type": "code",
      "execution_count": 1,
      "metadata": {
        "id": "izFmvZ9sMLhn"
      },
      "outputs": [],
      "source": [
        "! pip install arch -q\n",
        "! pip install pmdarima -q"
      ]
    },
    {
      "cell_type": "code",
      "execution_count": 2,
      "metadata": {
        "id": "rQ1FijrbMDIi"
      },
      "outputs": [],
      "source": [
        "import numpy as np, pandas as pd\n",
        "import matplotlib.pyplot as plt\n",
        "from scipy.stats import jarque_bera\n",
        "from arch.unitroot import PhillipsPerron , KPSS , ADF\n",
        "from statsmodels.graphics.tsaplots import plot_acf, plot_pacf\n",
        "from statsmodels.tsa.arima_model import ARIMA\n",
        "from statsmodels.tsa.statespace.sarimax import SARIMAX\n",
        "import plotly.graph_objs as go\n",
        "from plotly.subplots import make_subplots\n",
        "from statsmodels.tools.eval_measures import rmse ,mse\n",
        "from pmdarima import auto_arima"
      ]
    },
    {
      "cell_type": "code",
      "execution_count": 3,
      "metadata": {
        "id": "xNLSLrtbIAGY"
      },
      "outputs": [],
      "source": [
        "import warnings\n",
        "warnings.filterwarnings(\"ignore\")"
      ]
    },
    {
      "cell_type": "markdown",
      "metadata": {
        "id": "UwX-f26QFV-i"
      },
      "source": [
        "## Importacion de los datos"
      ]
    },
    {
      "cell_type": "markdown",
      "metadata": {
        "id": "VkD8v9JUi-od"
      },
      "source": [
        "Los datos utilizados en este estudio fueron obtenidos de la página web del [Banco Mundial](https://data.worldbank.org/indicator/NY.GDP.MKTP.CD), a través del indicador de Producto Interno Bruto (PIB) en dólares estadounidenses. Esta fuente de datos es reconocida internacionalmente como una de las más confiables y completas en términos de información económica mundial.\n",
        "\n",
        "En consecuencia, los resultados obtenidos en este estudio se basan en datos precisos y actualizados que permiten realizar una evaluación rigurosa de la evolución del PIB de las principales economías latinoamericanas."
      ]
    },
    {
      "cell_type": "code",
      "execution_count": 4,
      "metadata": {},
      "outputs": [
        {
          "data": {
            "text/html": [
              "<div>\n",
              "<style scoped>\n",
              "    .dataframe tbody tr th:only-of-type {\n",
              "        vertical-align: middle;\n",
              "    }\n",
              "\n",
              "    .dataframe tbody tr th {\n",
              "        vertical-align: top;\n",
              "    }\n",
              "\n",
              "    .dataframe thead th {\n",
              "        text-align: right;\n",
              "    }\n",
              "</style>\n",
              "<table border=\"1\" class=\"dataframe\">\n",
              "  <thead>\n",
              "    <tr style=\"text-align: right;\">\n",
              "      <th></th>\n",
              "      <th>Country Name</th>\n",
              "      <th>Country Code</th>\n",
              "      <th>Indicator Name</th>\n",
              "      <th>Indicator Code</th>\n",
              "      <th>1960</th>\n",
              "      <th>1961</th>\n",
              "      <th>1962</th>\n",
              "      <th>1963</th>\n",
              "      <th>1964</th>\n",
              "      <th>1965</th>\n",
              "      <th>...</th>\n",
              "      <th>2012</th>\n",
              "      <th>2013</th>\n",
              "      <th>2014</th>\n",
              "      <th>2015</th>\n",
              "      <th>2016</th>\n",
              "      <th>2017</th>\n",
              "      <th>2018</th>\n",
              "      <th>2019</th>\n",
              "      <th>2020</th>\n",
              "      <th>2021</th>\n",
              "    </tr>\n",
              "  </thead>\n",
              "  <tbody>\n",
              "    <tr>\n",
              "      <th>0</th>\n",
              "      <td>Aruba</td>\n",
              "      <td>ABW</td>\n",
              "      <td>GDP (current US$)</td>\n",
              "      <td>NY.GDP.MKTP.CD</td>\n",
              "      <td>NaN</td>\n",
              "      <td>NaN</td>\n",
              "      <td>NaN</td>\n",
              "      <td>NaN</td>\n",
              "      <td>NaN</td>\n",
              "      <td>NaN</td>\n",
              "      <td>...</td>\n",
              "      <td>2.615084e+09</td>\n",
              "      <td>2.727933e+09</td>\n",
              "      <td>2.791061e+09</td>\n",
              "      <td>2.963128e+09</td>\n",
              "      <td>2.983799e+09</td>\n",
              "      <td>3.092179e+09</td>\n",
              "      <td>3.202235e+09</td>\n",
              "      <td>3.368970e+09</td>\n",
              "      <td>2.610039e+09</td>\n",
              "      <td>3.126019e+09</td>\n",
              "    </tr>\n",
              "    <tr>\n",
              "      <th>1</th>\n",
              "      <td>Africa Eastern and Southern</td>\n",
              "      <td>AFE</td>\n",
              "      <td>GDP (current US$)</td>\n",
              "      <td>NY.GDP.MKTP.CD</td>\n",
              "      <td>2.129081e+10</td>\n",
              "      <td>2.180870e+10</td>\n",
              "      <td>2.370727e+10</td>\n",
              "      <td>2.821034e+10</td>\n",
              "      <td>2.611906e+10</td>\n",
              "      <td>2.968249e+10</td>\n",
              "      <td>...</td>\n",
              "      <td>9.725734e+11</td>\n",
              "      <td>9.834729e+11</td>\n",
              "      <td>1.003768e+12</td>\n",
              "      <td>9.245228e+11</td>\n",
              "      <td>8.827213e+11</td>\n",
              "      <td>1.021119e+12</td>\n",
              "      <td>1.007240e+12</td>\n",
              "      <td>1.001017e+12</td>\n",
              "      <td>9.274845e+11</td>\n",
              "      <td>1.080712e+12</td>\n",
              "    </tr>\n",
              "    <tr>\n",
              "      <th>2</th>\n",
              "      <td>Afghanistan</td>\n",
              "      <td>AFG</td>\n",
              "      <td>GDP (current US$)</td>\n",
              "      <td>NY.GDP.MKTP.CD</td>\n",
              "      <td>5.377778e+08</td>\n",
              "      <td>5.488889e+08</td>\n",
              "      <td>5.466667e+08</td>\n",
              "      <td>7.511112e+08</td>\n",
              "      <td>8.000000e+08</td>\n",
              "      <td>1.006667e+09</td>\n",
              "      <td>...</td>\n",
              "      <td>2.020357e+10</td>\n",
              "      <td>2.056449e+10</td>\n",
              "      <td>2.055058e+10</td>\n",
              "      <td>1.999816e+10</td>\n",
              "      <td>1.801956e+10</td>\n",
              "      <td>1.889635e+10</td>\n",
              "      <td>1.841885e+10</td>\n",
              "      <td>1.890449e+10</td>\n",
              "      <td>2.014344e+10</td>\n",
              "      <td>1.478686e+10</td>\n",
              "    </tr>\n",
              "    <tr>\n",
              "      <th>3</th>\n",
              "      <td>Africa Western and Central</td>\n",
              "      <td>AFW</td>\n",
              "      <td>GDP (current US$)</td>\n",
              "      <td>NY.GDP.MKTP.CD</td>\n",
              "      <td>1.040414e+10</td>\n",
              "      <td>1.112789e+10</td>\n",
              "      <td>1.194319e+10</td>\n",
              "      <td>1.267633e+10</td>\n",
              "      <td>1.383837e+10</td>\n",
              "      <td>1.486223e+10</td>\n",
              "      <td>...</td>\n",
              "      <td>7.360399e+11</td>\n",
              "      <td>8.322169e+11</td>\n",
              "      <td>8.924979e+11</td>\n",
              "      <td>7.669580e+11</td>\n",
              "      <td>6.905454e+11</td>\n",
              "      <td>6.837480e+11</td>\n",
              "      <td>7.663597e+11</td>\n",
              "      <td>7.947191e+11</td>\n",
              "      <td>7.847997e+11</td>\n",
              "      <td>8.401873e+11</td>\n",
              "    </tr>\n",
              "    <tr>\n",
              "      <th>4</th>\n",
              "      <td>Angola</td>\n",
              "      <td>AGO</td>\n",
              "      <td>GDP (current US$)</td>\n",
              "      <td>NY.GDP.MKTP.CD</td>\n",
              "      <td>NaN</td>\n",
              "      <td>NaN</td>\n",
              "      <td>NaN</td>\n",
              "      <td>NaN</td>\n",
              "      <td>NaN</td>\n",
              "      <td>NaN</td>\n",
              "      <td>...</td>\n",
              "      <td>1.249982e+11</td>\n",
              "      <td>1.334016e+11</td>\n",
              "      <td>1.372444e+11</td>\n",
              "      <td>8.721930e+10</td>\n",
              "      <td>4.984049e+10</td>\n",
              "      <td>6.897277e+10</td>\n",
              "      <td>7.779294e+10</td>\n",
              "      <td>6.930911e+10</td>\n",
              "      <td>5.361907e+10</td>\n",
              "      <td>6.740429e+10</td>\n",
              "    </tr>\n",
              "  </tbody>\n",
              "</table>\n",
              "<p>5 rows × 66 columns</p>\n",
              "</div>"
            ],
            "text/plain": [
              "                  Country Name Country Code     Indicator Name  \\\n",
              "0                        Aruba          ABW  GDP (current US$)   \n",
              "1  Africa Eastern and Southern          AFE  GDP (current US$)   \n",
              "2                  Afghanistan          AFG  GDP (current US$)   \n",
              "3   Africa Western and Central          AFW  GDP (current US$)   \n",
              "4                       Angola          AGO  GDP (current US$)   \n",
              "\n",
              "   Indicator Code          1960          1961          1962          1963  \\\n",
              "0  NY.GDP.MKTP.CD           NaN           NaN           NaN           NaN   \n",
              "1  NY.GDP.MKTP.CD  2.129081e+10  2.180870e+10  2.370727e+10  2.821034e+10   \n",
              "2  NY.GDP.MKTP.CD  5.377778e+08  5.488889e+08  5.466667e+08  7.511112e+08   \n",
              "3  NY.GDP.MKTP.CD  1.040414e+10  1.112789e+10  1.194319e+10  1.267633e+10   \n",
              "4  NY.GDP.MKTP.CD           NaN           NaN           NaN           NaN   \n",
              "\n",
              "           1964          1965  ...          2012          2013          2014  \\\n",
              "0           NaN           NaN  ...  2.615084e+09  2.727933e+09  2.791061e+09   \n",
              "1  2.611906e+10  2.968249e+10  ...  9.725734e+11  9.834729e+11  1.003768e+12   \n",
              "2  8.000000e+08  1.006667e+09  ...  2.020357e+10  2.056449e+10  2.055058e+10   \n",
              "3  1.383837e+10  1.486223e+10  ...  7.360399e+11  8.322169e+11  8.924979e+11   \n",
              "4           NaN           NaN  ...  1.249982e+11  1.334016e+11  1.372444e+11   \n",
              "\n",
              "           2015          2016          2017          2018          2019  \\\n",
              "0  2.963128e+09  2.983799e+09  3.092179e+09  3.202235e+09  3.368970e+09   \n",
              "1  9.245228e+11  8.827213e+11  1.021119e+12  1.007240e+12  1.001017e+12   \n",
              "2  1.999816e+10  1.801956e+10  1.889635e+10  1.841885e+10  1.890449e+10   \n",
              "3  7.669580e+11  6.905454e+11  6.837480e+11  7.663597e+11  7.947191e+11   \n",
              "4  8.721930e+10  4.984049e+10  6.897277e+10  7.779294e+10  6.930911e+10   \n",
              "\n",
              "           2020          2021  \n",
              "0  2.610039e+09  3.126019e+09  \n",
              "1  9.274845e+11  1.080712e+12  \n",
              "2  2.014344e+10  1.478686e+10  \n",
              "3  7.847997e+11  8.401873e+11  \n",
              "4  5.361907e+10  6.740429e+10  \n",
              "\n",
              "[5 rows x 66 columns]"
            ]
          },
          "execution_count": 4,
          "metadata": {},
          "output_type": "execute_result"
        }
      ],
      "source": [
        "url = \"https://github.com/juanguzman2/Pronostico-de-la-evolucion-del-PIB-en-las-cuatro-economias-mas-grandes-de-Latinoamerica/blob/master/datos/gdpe.xls?raw=true\"\n",
        "\n",
        "df_base = pd.read_excel(url)\n",
        "df_base.head()"
      ]
    },
    {
      "cell_type": "code",
      "execution_count": 5,
      "metadata": {
        "colab": {
          "base_uri": "https://localhost:8080/"
        },
        "id": "Fi1qnla1Hzp9",
        "outputId": "13687a97-fcff-4446-df49-9c87761bf327"
      },
      "outputs": [
        {
          "data": {
            "text/plain": [
              "(266, 66)"
            ]
          },
          "execution_count": 5,
          "metadata": {},
          "output_type": "execute_result"
        }
      ],
      "source": [
        "df_base.shape # 266 filas = paises y 66 columnas = numero de años"
      ]
    },
    {
      "cell_type": "markdown",
      "metadata": {
        "id": "C-RkbKf084iB"
      },
      "source": [
        "La base de datos utilizada en este estudio contiene información de 266 países, lo que equivale al número de filas, y abarca un período de 61 años, lo que corresponde al número de columnas."
      ]
    },
    {
      "cell_type": "markdown",
      "metadata": {
        "id": "U4P12anFHofg"
      },
      "source": [
        "## Tratamiento de los datos"
      ]
    },
    {
      "cell_type": "code",
      "execution_count": 6,
      "metadata": {
        "colab": {
          "base_uri": "https://localhost:8080/",
          "height": 206
        },
        "id": "Q9absklRxnxJ",
        "outputId": "c0a73d54-6867-4bf9-b8d7-7b41f62dba6a"
      },
      "outputs": [
        {
          "data": {
            "text/html": [
              "<div>\n",
              "<style scoped>\n",
              "    .dataframe tbody tr th:only-of-type {\n",
              "        vertical-align: middle;\n",
              "    }\n",
              "\n",
              "    .dataframe tbody tr th {\n",
              "        vertical-align: top;\n",
              "    }\n",
              "\n",
              "    .dataframe thead th {\n",
              "        text-align: right;\n",
              "    }\n",
              "</style>\n",
              "<table border=\"1\" class=\"dataframe\">\n",
              "  <thead>\n",
              "    <tr style=\"text-align: right;\">\n",
              "      <th></th>\n",
              "      <th>bra</th>\n",
              "      <th>mex</th>\n",
              "      <th>arg</th>\n",
              "      <th>col</th>\n",
              "    </tr>\n",
              "  </thead>\n",
              "  <tbody>\n",
              "    <tr>\n",
              "      <th>1960</th>\n",
              "      <td>1.703047e+10</td>\n",
              "      <td>1.304000e+10</td>\n",
              "      <td>NaN</td>\n",
              "      <td>4.031153e+09</td>\n",
              "    </tr>\n",
              "    <tr>\n",
              "      <th>1961</th>\n",
              "      <td>1.727594e+10</td>\n",
              "      <td>1.416000e+10</td>\n",
              "      <td>NaN</td>\n",
              "      <td>4.540448e+09</td>\n",
              "    </tr>\n",
              "    <tr>\n",
              "      <th>1962</th>\n",
              "      <td>1.923175e+10</td>\n",
              "      <td>1.520000e+10</td>\n",
              "      <td>2.445060e+10</td>\n",
              "      <td>4.955544e+09</td>\n",
              "    </tr>\n",
              "    <tr>\n",
              "      <th>1963</th>\n",
              "      <td>2.328771e+10</td>\n",
              "      <td>1.696000e+10</td>\n",
              "      <td>1.827212e+10</td>\n",
              "      <td>4.836167e+09</td>\n",
              "    </tr>\n",
              "    <tr>\n",
              "      <th>1964</th>\n",
              "      <td>2.096373e+10</td>\n",
              "      <td>2.008000e+10</td>\n",
              "      <td>2.560525e+10</td>\n",
              "      <td>5.973367e+09</td>\n",
              "    </tr>\n",
              "  </tbody>\n",
              "</table>\n",
              "</div>"
            ],
            "text/plain": [
              "               bra           mex           arg           col\n",
              "1960  1.703047e+10  1.304000e+10           NaN  4.031153e+09\n",
              "1961  1.727594e+10  1.416000e+10           NaN  4.540448e+09\n",
              "1962  1.923175e+10  1.520000e+10  2.445060e+10  4.955544e+09\n",
              "1963  2.328771e+10  1.696000e+10  1.827212e+10  4.836167e+09\n",
              "1964  2.096373e+10  2.008000e+10  2.560525e+10  5.973367e+09"
            ]
          },
          "execution_count": 6,
          "metadata": {},
          "output_type": "execute_result"
        }
      ],
      "source": [
        "paises_selec = ['BRA', 'MEX', 'ARG', 'COL']\n",
        "\n",
        "columnas = [pais.lower() for pais in paises_selec]\n",
        "recopilacion_paises = {}\n",
        "for pais, col in zip(paises_selec, columnas):\n",
        "    recopilacion_paises[col] = df_base.loc[df_base['Country Code'] == pais, '1960':'2021'].T\n",
        "df_paises_selec = pd.concat(recopilacion_paises.values(), axis=1)\n",
        "df_paises_selec.columns = recopilacion_paises.keys()\n",
        "df_paises_selec.head()"
      ]
    },
    {
      "cell_type": "markdown",
      "metadata": {
        "id": "bZ8n9J06F-Hr"
      },
      "source": [
        "Como se puede apreciar, en la serie de datos de Argentina los dos primeros valores se encuentran como \"NaN\", es decir, son valores faltantes o desconocidos. Para solucionar este problema, se procederá a realizar una imputación de datos que consistirá en reemplazar los valores faltantes por el promedio de los cinco valores siguientes en la serie. Esta elección se realiza para otorgarle mayor coherencia a la serie y evitar que la imputación afecte los análisis que se realicen con ella. Es importante tener en cuenta que cualquier imputación de datos introduce cierto nivel de incertidumbre en la serie, ya que se están haciendo suposiciones sobre los valores faltantes."
      ]
    },
    {
      "cell_type": "code",
      "execution_count": 7,
      "metadata": {
        "colab": {
          "base_uri": "https://localhost:8080/",
          "height": 206
        },
        "id": "t7ZSGeqSEbSd",
        "outputId": "3b33ee31-2bbc-446c-943b-9c4da3333482"
      },
      "outputs": [
        {
          "data": {
            "text/html": [
              "<div>\n",
              "<style scoped>\n",
              "    .dataframe tbody tr th:only-of-type {\n",
              "        vertical-align: middle;\n",
              "    }\n",
              "\n",
              "    .dataframe tbody tr th {\n",
              "        vertical-align: top;\n",
              "    }\n",
              "\n",
              "    .dataframe thead th {\n",
              "        text-align: right;\n",
              "    }\n",
              "</style>\n",
              "<table border=\"1\" class=\"dataframe\">\n",
              "  <thead>\n",
              "    <tr style=\"text-align: right;\">\n",
              "      <th></th>\n",
              "      <th>bra</th>\n",
              "      <th>mex</th>\n",
              "      <th>arg</th>\n",
              "      <th>col</th>\n",
              "    </tr>\n",
              "  </thead>\n",
              "  <tbody>\n",
              "    <tr>\n",
              "      <th>1960</th>\n",
              "      <td>1.703047e+10</td>\n",
              "      <td>1.304000e+10</td>\n",
              "      <td>2.277599e+10</td>\n",
              "      <td>4.031153e+09</td>\n",
              "    </tr>\n",
              "    <tr>\n",
              "      <th>1961</th>\n",
              "      <td>1.727594e+10</td>\n",
              "      <td>1.416000e+10</td>\n",
              "      <td>2.277599e+10</td>\n",
              "      <td>4.540448e+09</td>\n",
              "    </tr>\n",
              "    <tr>\n",
              "      <th>1962</th>\n",
              "      <td>1.923175e+10</td>\n",
              "      <td>1.520000e+10</td>\n",
              "      <td>2.445060e+10</td>\n",
              "      <td>4.955544e+09</td>\n",
              "    </tr>\n",
              "    <tr>\n",
              "      <th>1963</th>\n",
              "      <td>2.328771e+10</td>\n",
              "      <td>1.696000e+10</td>\n",
              "      <td>1.827212e+10</td>\n",
              "      <td>4.836167e+09</td>\n",
              "    </tr>\n",
              "    <tr>\n",
              "      <th>1964</th>\n",
              "      <td>2.096373e+10</td>\n",
              "      <td>2.008000e+10</td>\n",
              "      <td>2.560525e+10</td>\n",
              "      <td>5.973367e+09</td>\n",
              "    </tr>\n",
              "  </tbody>\n",
              "</table>\n",
              "</div>"
            ],
            "text/plain": [
              "               bra           mex           arg           col\n",
              "1960  1.703047e+10  1.304000e+10  2.277599e+10  4.031153e+09\n",
              "1961  1.727594e+10  1.416000e+10  2.277599e+10  4.540448e+09\n",
              "1962  1.923175e+10  1.520000e+10  2.445060e+10  4.955544e+09\n",
              "1963  2.328771e+10  1.696000e+10  1.827212e+10  4.836167e+09\n",
              "1964  2.096373e+10  2.008000e+10  2.560525e+10  5.973367e+09"
            ]
          },
          "execution_count": 7,
          "metadata": {},
          "output_type": "execute_result"
        }
      ],
      "source": [
        "promedio = df_paises_selec['arg'].iloc[2:5].mean()\n",
        "df_paises_selec['arg'].loc[:2] = promedio\n",
        "df_paises_selec.head()"
      ]
    },
    {
      "cell_type": "code",
      "execution_count": 8,
      "metadata": {
        "colab": {
          "base_uri": "https://localhost:8080/",
          "height": 206
        },
        "id": "RxYfTSmtEsh-",
        "outputId": "c9111309-ea90-4939-a926-507c5be5fc94"
      },
      "outputs": [
        {
          "data": {
            "text/html": [
              "<div>\n",
              "<style scoped>\n",
              "    .dataframe tbody tr th:only-of-type {\n",
              "        vertical-align: middle;\n",
              "    }\n",
              "\n",
              "    .dataframe tbody tr th {\n",
              "        vertical-align: top;\n",
              "    }\n",
              "\n",
              "    .dataframe thead th {\n",
              "        text-align: right;\n",
              "    }\n",
              "</style>\n",
              "<table border=\"1\" class=\"dataframe\">\n",
              "  <thead>\n",
              "    <tr style=\"text-align: right;\">\n",
              "      <th></th>\n",
              "      <th>bra</th>\n",
              "      <th>mex</th>\n",
              "      <th>arg</th>\n",
              "      <th>col</th>\n",
              "    </tr>\n",
              "  </thead>\n",
              "  <tbody>\n",
              "    <tr>\n",
              "      <th>1960</th>\n",
              "      <td>1.703047e+10</td>\n",
              "      <td>1.304000e+10</td>\n",
              "      <td>2.277599e+10</td>\n",
              "      <td>4.031153e+09</td>\n",
              "    </tr>\n",
              "    <tr>\n",
              "      <th>1961</th>\n",
              "      <td>1.727594e+10</td>\n",
              "      <td>1.416000e+10</td>\n",
              "      <td>2.277599e+10</td>\n",
              "      <td>4.540448e+09</td>\n",
              "    </tr>\n",
              "    <tr>\n",
              "      <th>1962</th>\n",
              "      <td>1.923175e+10</td>\n",
              "      <td>1.520000e+10</td>\n",
              "      <td>2.445060e+10</td>\n",
              "      <td>4.955544e+09</td>\n",
              "    </tr>\n",
              "    <tr>\n",
              "      <th>1963</th>\n",
              "      <td>2.328771e+10</td>\n",
              "      <td>1.696000e+10</td>\n",
              "      <td>1.827212e+10</td>\n",
              "      <td>4.836167e+09</td>\n",
              "    </tr>\n",
              "    <tr>\n",
              "      <th>1964</th>\n",
              "      <td>2.096373e+10</td>\n",
              "      <td>2.008000e+10</td>\n",
              "      <td>2.560525e+10</td>\n",
              "      <td>5.973367e+09</td>\n",
              "    </tr>\n",
              "  </tbody>\n",
              "</table>\n",
              "</div>"
            ],
            "text/plain": [
              "               bra           mex           arg           col\n",
              "1960  1.703047e+10  1.304000e+10  2.277599e+10  4.031153e+09\n",
              "1961  1.727594e+10  1.416000e+10  2.277599e+10  4.540448e+09\n",
              "1962  1.923175e+10  1.520000e+10  2.445060e+10  4.955544e+09\n",
              "1963  2.328771e+10  1.696000e+10  1.827212e+10  4.836167e+09\n",
              "1964  2.096373e+10  2.008000e+10  2.560525e+10  5.973367e+09"
            ]
          },
          "execution_count": 8,
          "metadata": {},
          "output_type": "execute_result"
        }
      ],
      "source": [
        "df_paises_selec.head()"
      ]
    },
    {
      "cell_type": "code",
      "execution_count": 9,
      "metadata": {
        "id": "76WRqWg0C54-"
      },
      "outputs": [],
      "source": [
        "df_original = df_paises_selec.copy()"
      ]
    },
    {
      "cell_type": "code",
      "execution_count": 10,
      "metadata": {
        "colab": {
          "base_uri": "https://localhost:8080/",
          "height": 206
        },
        "id": "4a906i2FyVcm",
        "outputId": "7294561a-9c9c-44fd-f9b2-7d0c14f31e0e"
      },
      "outputs": [
        {
          "data": {
            "text/html": [
              "<div>\n",
              "<style scoped>\n",
              "    .dataframe tbody tr th:only-of-type {\n",
              "        vertical-align: middle;\n",
              "    }\n",
              "\n",
              "    .dataframe tbody tr th {\n",
              "        vertical-align: top;\n",
              "    }\n",
              "\n",
              "    .dataframe thead th {\n",
              "        text-align: right;\n",
              "    }\n",
              "</style>\n",
              "<table border=\"1\" class=\"dataframe\">\n",
              "  <thead>\n",
              "    <tr style=\"text-align: right;\">\n",
              "      <th></th>\n",
              "      <th>bra</th>\n",
              "      <th>mex</th>\n",
              "      <th>arg</th>\n",
              "      <th>col</th>\n",
              "    </tr>\n",
              "  </thead>\n",
              "  <tbody>\n",
              "    <tr>\n",
              "      <th>2017</th>\n",
              "      <td>2.063508e+12</td>\n",
              "      <td>1.158913e+12</td>\n",
              "      <td>6.436287e+11</td>\n",
              "      <td>3.118837e+11</td>\n",
              "    </tr>\n",
              "    <tr>\n",
              "      <th>2018</th>\n",
              "      <td>1.916947e+12</td>\n",
              "      <td>1.222408e+12</td>\n",
              "      <td>5.248197e+11</td>\n",
              "      <td>3.341982e+11</td>\n",
              "    </tr>\n",
              "    <tr>\n",
              "      <th>2019</th>\n",
              "      <td>1.873274e+12</td>\n",
              "      <td>1.269012e+12</td>\n",
              "      <td>4.477546e+11</td>\n",
              "      <td>3.231095e+11</td>\n",
              "    </tr>\n",
              "    <tr>\n",
              "      <th>2020</th>\n",
              "      <td>1.448560e+12</td>\n",
              "      <td>1.090515e+12</td>\n",
              "      <td>3.855402e+11</td>\n",
              "      <td>2.703000e+11</td>\n",
              "    </tr>\n",
              "    <tr>\n",
              "      <th>2021</th>\n",
              "      <td>1.608981e+12</td>\n",
              "      <td>1.272839e+12</td>\n",
              "      <td>4.872273e+11</td>\n",
              "      <td>3.144641e+11</td>\n",
              "    </tr>\n",
              "  </tbody>\n",
              "</table>\n",
              "</div>"
            ],
            "text/plain": [
              "               bra           mex           arg           col\n",
              "2017  2.063508e+12  1.158913e+12  6.436287e+11  3.118837e+11\n",
              "2018  1.916947e+12  1.222408e+12  5.248197e+11  3.341982e+11\n",
              "2019  1.873274e+12  1.269012e+12  4.477546e+11  3.231095e+11\n",
              "2020  1.448560e+12  1.090515e+12  3.855402e+11  2.703000e+11\n",
              "2021  1.608981e+12  1.272839e+12  4.872273e+11  3.144641e+11"
            ]
          },
          "execution_count": 10,
          "metadata": {},
          "output_type": "execute_result"
        }
      ],
      "source": [
        "df_originalperiod = df_paises_selec.copy()\n",
        "df_originalperiod.index = pd.period_range(start='1960', end='2021', freq='Y')\n",
        "df_originalperiod.tail()"
      ]
    },
    {
      "cell_type": "code",
      "execution_count": 11,
      "metadata": {
        "colab": {
          "base_uri": "https://localhost:8080/"
        },
        "id": "YCrLLGAdAqX_",
        "outputId": "33ab9d8b-b070-43cf-e9c4-9c89c72c522d"
      },
      "outputs": [
        {
          "name": "stdout",
          "output_type": "stream",
          "text": [
            "<class 'pandas.core.frame.DataFrame'>\n",
            "PeriodIndex: 62 entries, 1960 to 2021\n",
            "Freq: A-DEC\n",
            "Data columns (total 4 columns):\n",
            " #   Column  Non-Null Count  Dtype  \n",
            "---  ------  --------------  -----  \n",
            " 0   bra     62 non-null     float64\n",
            " 1   mex     62 non-null     float64\n",
            " 2   arg     62 non-null     float64\n",
            " 3   col     62 non-null     float64\n",
            "dtypes: float64(4)\n",
            "memory usage: 2.4 KB\n"
          ]
        }
      ],
      "source": [
        "df_originalperiod.info()"
      ]
    },
    {
      "cell_type": "markdown",
      "metadata": {
        "id": "xnlbSAPBwefc"
      },
      "source": [
        "### Datos de entrenamiento"
      ]
    },
    {
      "cell_type": "markdown",
      "metadata": {
        "id": "Z6eQ43rBwlRx"
      },
      "source": [
        "Para el entrenamiento del modelo se utilizarán los datos correspondientes al período 1960-2016, lo que equivale a aproximadamente el 90% de los datos disponibles. Se ha elegido este rango de tiempo debido a que la serie de tiempo del PIB de las economías latinoamericanas presenta una alta variabilidad y fluctuaciones significativas a lo largo del tiempo. Por lo tanto, es importante contar con una gran cantidad de datos históricos para poder identificar patrones y tendencias estables en la serie y poder hacer predicciones más precisas. Asimismo, el hecho de incluir los datos más recientes en el entrenamiento del modelo permite que éste esté actualizado y refleje la situación más reciente de la economía. "
      ]
    },
    {
      "cell_type": "code",
      "execution_count": 12,
      "metadata": {
        "colab": {
          "base_uri": "https://localhost:8080/",
          "height": 206
        },
        "id": "-pOkgsxxAKMp",
        "outputId": "7a3fcde0-e890-40a8-f02b-6d9e31268959"
      },
      "outputs": [
        {
          "data": {
            "text/html": [
              "<div>\n",
              "<style scoped>\n",
              "    .dataframe tbody tr th:only-of-type {\n",
              "        vertical-align: middle;\n",
              "    }\n",
              "\n",
              "    .dataframe tbody tr th {\n",
              "        vertical-align: top;\n",
              "    }\n",
              "\n",
              "    .dataframe thead th {\n",
              "        text-align: right;\n",
              "    }\n",
              "</style>\n",
              "<table border=\"1\" class=\"dataframe\">\n",
              "  <thead>\n",
              "    <tr style=\"text-align: right;\">\n",
              "      <th></th>\n",
              "      <th>bra</th>\n",
              "      <th>mex</th>\n",
              "      <th>arg</th>\n",
              "      <th>col</th>\n",
              "    </tr>\n",
              "  </thead>\n",
              "  <tbody>\n",
              "    <tr>\n",
              "      <th>2009</th>\n",
              "      <td>1.667020e+12</td>\n",
              "      <td>9.000454e+11</td>\n",
              "      <td>3.329765e+11</td>\n",
              "      <td>2.323978e+11</td>\n",
              "    </tr>\n",
              "    <tr>\n",
              "      <th>2010</th>\n",
              "      <td>2.208872e+12</td>\n",
              "      <td>1.057801e+12</td>\n",
              "      <td>4.236274e+11</td>\n",
              "      <td>2.865631e+11</td>\n",
              "    </tr>\n",
              "    <tr>\n",
              "      <th>2011</th>\n",
              "      <td>2.616202e+12</td>\n",
              "      <td>1.180490e+12</td>\n",
              "      <td>5.301633e+11</td>\n",
              "      <td>3.349439e+11</td>\n",
              "    </tr>\n",
              "    <tr>\n",
              "      <th>2012</th>\n",
              "      <td>2.465189e+12</td>\n",
              "      <td>1.201090e+12</td>\n",
              "      <td>5.459824e+11</td>\n",
              "      <td>3.709213e+11</td>\n",
              "    </tr>\n",
              "    <tr>\n",
              "      <th>2013</th>\n",
              "      <td>2.472807e+12</td>\n",
              "      <td>1.274443e+12</td>\n",
              "      <td>5.520251e+11</td>\n",
              "      <td>3.821161e+11</td>\n",
              "    </tr>\n",
              "  </tbody>\n",
              "</table>\n",
              "</div>"
            ],
            "text/plain": [
              "               bra           mex           arg           col\n",
              "2009  1.667020e+12  9.000454e+11  3.329765e+11  2.323978e+11\n",
              "2010  2.208872e+12  1.057801e+12  4.236274e+11  2.865631e+11\n",
              "2011  2.616202e+12  1.180490e+12  5.301633e+11  3.349439e+11\n",
              "2012  2.465189e+12  1.201090e+12  5.459824e+11  3.709213e+11\n",
              "2013  2.472807e+12  1.274443e+12  5.520251e+11  3.821161e+11"
            ]
          },
          "execution_count": 12,
          "metadata": {},
          "output_type": "execute_result"
        }
      ],
      "source": [
        "df_train = df_originalperiod.iloc[:54,:]\n",
        "df_train.tail()"
      ]
    },
    {
      "cell_type": "code",
      "execution_count": 13,
      "metadata": {
        "colab": {
          "base_uri": "https://localhost:8080/"
        },
        "id": "78yiJdvZohww",
        "outputId": "bc54e750-a9b1-41f0-cec6-62ec1a1bc41d"
      },
      "outputs": [
        {
          "data": {
            "text/plain": [
              "(54, 4)"
            ]
          },
          "execution_count": 13,
          "metadata": {},
          "output_type": "execute_result"
        }
      ],
      "source": [
        "df_train.shape"
      ]
    },
    {
      "cell_type": "markdown",
      "metadata": {
        "id": "1oWDYN9_wism"
      },
      "source": [
        "### Datos de prueba"
      ]
    },
    {
      "cell_type": "markdown",
      "metadata": {
        "id": "KjBBZLExxBc5"
      },
      "source": [
        "Para los datos de prueba haremos uso desde el año 2016 al 2021"
      ]
    },
    {
      "cell_type": "code",
      "execution_count": 14,
      "metadata": {
        "colab": {
          "base_uri": "https://localhost:8080/",
          "height": 206
        },
        "id": "1iGD6Y0xBJSO",
        "outputId": "38701f0a-eaad-4065-c689-71a38e4bad06"
      },
      "outputs": [
        {
          "data": {
            "text/html": [
              "<div>\n",
              "<style scoped>\n",
              "    .dataframe tbody tr th:only-of-type {\n",
              "        vertical-align: middle;\n",
              "    }\n",
              "\n",
              "    .dataframe tbody tr th {\n",
              "        vertical-align: top;\n",
              "    }\n",
              "\n",
              "    .dataframe thead th {\n",
              "        text-align: right;\n",
              "    }\n",
              "</style>\n",
              "<table border=\"1\" class=\"dataframe\">\n",
              "  <thead>\n",
              "    <tr style=\"text-align: right;\">\n",
              "      <th></th>\n",
              "      <th>bra</th>\n",
              "      <th>mex</th>\n",
              "      <th>arg</th>\n",
              "      <th>col</th>\n",
              "    </tr>\n",
              "  </thead>\n",
              "  <tbody>\n",
              "    <tr>\n",
              "      <th>2017</th>\n",
              "      <td>2.063508e+12</td>\n",
              "      <td>1.158913e+12</td>\n",
              "      <td>6.436287e+11</td>\n",
              "      <td>3.118837e+11</td>\n",
              "    </tr>\n",
              "    <tr>\n",
              "      <th>2018</th>\n",
              "      <td>1.916947e+12</td>\n",
              "      <td>1.222408e+12</td>\n",
              "      <td>5.248197e+11</td>\n",
              "      <td>3.341982e+11</td>\n",
              "    </tr>\n",
              "    <tr>\n",
              "      <th>2019</th>\n",
              "      <td>1.873274e+12</td>\n",
              "      <td>1.269012e+12</td>\n",
              "      <td>4.477546e+11</td>\n",
              "      <td>3.231095e+11</td>\n",
              "    </tr>\n",
              "    <tr>\n",
              "      <th>2020</th>\n",
              "      <td>1.448560e+12</td>\n",
              "      <td>1.090515e+12</td>\n",
              "      <td>3.855402e+11</td>\n",
              "      <td>2.703000e+11</td>\n",
              "    </tr>\n",
              "    <tr>\n",
              "      <th>2021</th>\n",
              "      <td>1.608981e+12</td>\n",
              "      <td>1.272839e+12</td>\n",
              "      <td>4.872273e+11</td>\n",
              "      <td>3.144641e+11</td>\n",
              "    </tr>\n",
              "  </tbody>\n",
              "</table>\n",
              "</div>"
            ],
            "text/plain": [
              "               bra           mex           arg           col\n",
              "2017  2.063508e+12  1.158913e+12  6.436287e+11  3.118837e+11\n",
              "2018  1.916947e+12  1.222408e+12  5.248197e+11  3.341982e+11\n",
              "2019  1.873274e+12  1.269012e+12  4.477546e+11  3.231095e+11\n",
              "2020  1.448560e+12  1.090515e+12  3.855402e+11  2.703000e+11\n",
              "2021  1.608981e+12  1.272839e+12  4.872273e+11  3.144641e+11"
            ]
          },
          "execution_count": 14,
          "metadata": {},
          "output_type": "execute_result"
        }
      ],
      "source": [
        "df_test = df_originalperiod.iloc[54:,:]\n",
        "df_test.tail()"
      ]
    },
    {
      "cell_type": "code",
      "execution_count": 15,
      "metadata": {
        "colab": {
          "base_uri": "https://localhost:8080/"
        },
        "id": "MkpPLqKjBM-d",
        "outputId": "64bb4a12-6880-4375-aa10-7c3f89ca31b3"
      },
      "outputs": [
        {
          "data": {
            "text/plain": [
              "(8, 4)"
            ]
          },
          "execution_count": 15,
          "metadata": {},
          "output_type": "execute_result"
        }
      ],
      "source": [
        "df_test.shape"
      ]
    },
    {
      "cell_type": "markdown",
      "metadata": {
        "id": "9qjItIE5GTJo"
      },
      "source": [
        "## Analisis exploratorio de los datos"
      ]
    },
    {
      "cell_type": "code",
      "execution_count": 16,
      "metadata": {
        "colab": {
          "base_uri": "https://localhost:8080/",
          "height": 206
        },
        "id": "c_Ix-MMTxjkZ",
        "outputId": "57f643c5-af47-4af9-a176-f929d2bc7aab"
      },
      "outputs": [
        {
          "data": {
            "text/html": [
              "<div>\n",
              "<style scoped>\n",
              "    .dataframe tbody tr th:only-of-type {\n",
              "        vertical-align: middle;\n",
              "    }\n",
              "\n",
              "    .dataframe tbody tr th {\n",
              "        vertical-align: top;\n",
              "    }\n",
              "\n",
              "    .dataframe thead th {\n",
              "        text-align: right;\n",
              "    }\n",
              "</style>\n",
              "<table border=\"1\" class=\"dataframe\">\n",
              "  <thead>\n",
              "    <tr style=\"text-align: right;\">\n",
              "      <th></th>\n",
              "      <th>bra</th>\n",
              "      <th>mex</th>\n",
              "      <th>arg</th>\n",
              "      <th>col</th>\n",
              "    </tr>\n",
              "  </thead>\n",
              "  <tbody>\n",
              "    <tr>\n",
              "      <th>1960</th>\n",
              "      <td>1.703047e+10</td>\n",
              "      <td>1.304000e+10</td>\n",
              "      <td>2.277599e+10</td>\n",
              "      <td>4.031153e+09</td>\n",
              "    </tr>\n",
              "    <tr>\n",
              "      <th>1961</th>\n",
              "      <td>1.727594e+10</td>\n",
              "      <td>1.416000e+10</td>\n",
              "      <td>2.277599e+10</td>\n",
              "      <td>4.540448e+09</td>\n",
              "    </tr>\n",
              "    <tr>\n",
              "      <th>1962</th>\n",
              "      <td>1.923175e+10</td>\n",
              "      <td>1.520000e+10</td>\n",
              "      <td>2.445060e+10</td>\n",
              "      <td>4.955544e+09</td>\n",
              "    </tr>\n",
              "    <tr>\n",
              "      <th>1963</th>\n",
              "      <td>2.328771e+10</td>\n",
              "      <td>1.696000e+10</td>\n",
              "      <td>1.827212e+10</td>\n",
              "      <td>4.836167e+09</td>\n",
              "    </tr>\n",
              "    <tr>\n",
              "      <th>1964</th>\n",
              "      <td>2.096373e+10</td>\n",
              "      <td>2.008000e+10</td>\n",
              "      <td>2.560525e+10</td>\n",
              "      <td>5.973367e+09</td>\n",
              "    </tr>\n",
              "  </tbody>\n",
              "</table>\n",
              "</div>"
            ],
            "text/plain": [
              "               bra           mex           arg           col\n",
              "1960  1.703047e+10  1.304000e+10  2.277599e+10  4.031153e+09\n",
              "1961  1.727594e+10  1.416000e+10  2.277599e+10  4.540448e+09\n",
              "1962  1.923175e+10  1.520000e+10  2.445060e+10  4.955544e+09\n",
              "1963  2.328771e+10  1.696000e+10  1.827212e+10  4.836167e+09\n",
              "1964  2.096373e+10  2.008000e+10  2.560525e+10  5.973367e+09"
            ]
          },
          "execution_count": 16,
          "metadata": {},
          "output_type": "execute_result"
        }
      ],
      "source": [
        "df_originalperiod.head()"
      ]
    },
    {
      "cell_type": "code",
      "execution_count": 17,
      "metadata": {
        "colab": {
          "base_uri": "https://localhost:8080/",
          "height": 542
        },
        "id": "RH7fOzxHIIGA",
        "outputId": "007c24b2-09b1-4754-c32c-3abb2027384c"
      },
      "outputs": [
        {
          "data": {
            "application/vnd.plotly.v1+json": {
              "config": {
                "plotlyServerURL": "https://plot.ly"
              },
              "data": [
                {
                  "name": "bra",
                  "type": "scatter",
                  "x": [
                    "1960-01",
                    "1961-01",
                    "1962-01",
                    "1963-01",
                    "1964-01",
                    "1965-01",
                    "1966-01",
                    "1967-01",
                    "1968-01",
                    "1969-01",
                    "1970-01",
                    "1971-01",
                    "1972-01",
                    "1973-01",
                    "1974-01",
                    "1975-01",
                    "1976-01",
                    "1977-01",
                    "1978-01",
                    "1979-01",
                    "1980-01",
                    "1981-01",
                    "1982-01",
                    "1983-01",
                    "1984-01",
                    "1985-01",
                    "1986-01",
                    "1987-01",
                    "1988-01",
                    "1989-01",
                    "1990-01",
                    "1991-01",
                    "1992-01",
                    "1993-01",
                    "1994-01",
                    "1995-01",
                    "1996-01",
                    "1997-01",
                    "1998-01",
                    "1999-01",
                    "2000-01",
                    "2001-01",
                    "2002-01",
                    "2003-01",
                    "2004-01",
                    "2005-01",
                    "2006-01",
                    "2007-01",
                    "2008-01",
                    "2009-01",
                    "2010-01",
                    "2011-01",
                    "2012-01",
                    "2013-01",
                    "2014-01",
                    "2015-01",
                    "2016-01",
                    "2017-01",
                    "2018-01",
                    "2019-01",
                    "2020-01",
                    "2021-01"
                  ],
                  "xaxis": "x",
                  "y": [
                    17030465539.390615,
                    17275940449.383743,
                    19231747851.533188,
                    23287712878.20023,
                    20963733694.974895,
                    22465522884.098793,
                    28283323733.11135,
                    31086389194.96098,
                    33930457425.261284,
                    37171640818.58632,
                    42327664793.69339,
                    48869830901.78776,
                    58434858374.8696,
                    83592275862.9982,
                    109794519727.53831,
                    129203555238.82715,
                    153168949208.2069,
                    176344101401.94095,
                    200278646123.5813,
                    221338204480.22247,
                    237393489892.63696,
                    258015174748.64758,
                    271314113768.41696,
                    189656506321.4308,
                    188339974086.58005,
                    176123719326.59256,
                    215878631802.7797,
                    237517984427.80588,
                    258816125587.50485,
                    347028139590.2275,
                    390725626002.86566,
                    342609231342.78314,
                    328187960871.95056,
                    368295778245.09015,
                    525369851353.7422,
                    769333330411.5753,
                    850426432991.7421,
                    883206452805.5039,
                    863711007313.8772,
                    599642075029.8354,
                    655448188237.3712,
                    559991261406.1968,
                    509788814956.8552,
                    558229210852.9651,
                    669293772178.7289,
                    891630177209.99,
                    1107640289661.196,
                    1397084349956.3452,
                    1695824565928.6726,
                    1667019783635.0906,
                    2208871646202.8193,
                    2616201578192.2524,
                    2465188674415.032,
                    2472806919901.6743,
                    2455993625159.3706,
                    1802214373741.3206,
                    1795700168991.4932,
                    2063507864886.8835,
                    1916947014067.5461,
                    1873274432754.4683,
                    1448559976218.1875,
                    1608981456325.078
                  ],
                  "yaxis": "y"
                },
                {
                  "name": "mex",
                  "type": "scatter",
                  "x": [
                    "1960-01",
                    "1961-01",
                    "1962-01",
                    "1963-01",
                    "1964-01",
                    "1965-01",
                    "1966-01",
                    "1967-01",
                    "1968-01",
                    "1969-01",
                    "1970-01",
                    "1971-01",
                    "1972-01",
                    "1973-01",
                    "1974-01",
                    "1975-01",
                    "1976-01",
                    "1977-01",
                    "1978-01",
                    "1979-01",
                    "1980-01",
                    "1981-01",
                    "1982-01",
                    "1983-01",
                    "1984-01",
                    "1985-01",
                    "1986-01",
                    "1987-01",
                    "1988-01",
                    "1989-01",
                    "1990-01",
                    "1991-01",
                    "1992-01",
                    "1993-01",
                    "1994-01",
                    "1995-01",
                    "1996-01",
                    "1997-01",
                    "1998-01",
                    "1999-01",
                    "2000-01",
                    "2001-01",
                    "2002-01",
                    "2003-01",
                    "2004-01",
                    "2005-01",
                    "2006-01",
                    "2007-01",
                    "2008-01",
                    "2009-01",
                    "2010-01",
                    "2011-01",
                    "2012-01",
                    "2013-01",
                    "2014-01",
                    "2015-01",
                    "2016-01",
                    "2017-01",
                    "2018-01",
                    "2019-01",
                    "2020-01",
                    "2021-01"
                  ],
                  "xaxis": "x2",
                  "y": [
                    13040000000,
                    14160000000,
                    15200000000,
                    16960000000,
                    20080000000,
                    21840000000,
                    24320000000,
                    26560000000,
                    29360000000,
                    32480000000,
                    35520000000,
                    39200000000,
                    45200000000,
                    55280000000,
                    72000000000,
                    88000000000,
                    89025974025.97403,
                    81814159292.0354,
                    102500000000,
                    134561403508.77193,
                    205139086956.52173,
                    263959336734.69388,
                    184609157801.41846,
                    156159198584.5129,
                    184261495828.3671,
                    195219789801.47916,
                    134550096436.74403,
                    147540738281.81686,
                    181611549975.804,
                    221400669713.58926,
                    261253582805.94467,
                    313142768453.4853,
                    363157598242.26953,
                    500736065605.3408,
                    527813238126.2777,
                    360073909243.85455,
                    410975595310.15607,
                    500413483109.17474,
                    526502129378.28375,
                    600232874042.9271,
                    707906744574.6436,
                    756706300589.7905,
                    772106378935.377,
                    729336319677.4492,
                    782240601984.7599,
                    877476221382.1012,
                    975387131716.0892,
                    1052696282278.8748,
                    1109989063586.6196,
                    900045350649.3506,
                    1057801295584.0457,
                    1180489601957.612,
                    1201089987015.4524,
                    1274443084716.5674,
                    1315351183524.544,
                    1171867608197.7246,
                    1078490651625.3127,
                    1158913035796.37,
                    1222408203104.296,
                    1269011767478.5605,
                    1090515389749.4135,
                    1272839334119.2952
                  ],
                  "yaxis": "y2"
                },
                {
                  "name": "arg",
                  "type": "scatter",
                  "x": [
                    "1960-01",
                    "1961-01",
                    "1962-01",
                    "1963-01",
                    "1964-01",
                    "1965-01",
                    "1966-01",
                    "1967-01",
                    "1968-01",
                    "1969-01",
                    "1970-01",
                    "1971-01",
                    "1972-01",
                    "1973-01",
                    "1974-01",
                    "1975-01",
                    "1976-01",
                    "1977-01",
                    "1978-01",
                    "1979-01",
                    "1980-01",
                    "1981-01",
                    "1982-01",
                    "1983-01",
                    "1984-01",
                    "1985-01",
                    "1986-01",
                    "1987-01",
                    "1988-01",
                    "1989-01",
                    "1990-01",
                    "1991-01",
                    "1992-01",
                    "1993-01",
                    "1994-01",
                    "1995-01",
                    "1996-01",
                    "1997-01",
                    "1998-01",
                    "1999-01",
                    "2000-01",
                    "2001-01",
                    "2002-01",
                    "2003-01",
                    "2004-01",
                    "2005-01",
                    "2006-01",
                    "2007-01",
                    "2008-01",
                    "2009-01",
                    "2010-01",
                    "2011-01",
                    "2012-01",
                    "2013-01",
                    "2014-01",
                    "2015-01",
                    "2016-01",
                    "2017-01",
                    "2018-01",
                    "2019-01",
                    "2020-01",
                    "2021-01"
                  ],
                  "xaxis": "x3",
                  "y": [
                    22775992641.27978,
                    22775992641.27978,
                    24450604877.608116,
                    18272123664.47152,
                    25605249381.75971,
                    28344705966.63891,
                    28630474727.90226,
                    24256667553.25692,
                    26436857247.498184,
                    31256284543.61548,
                    31584210365.54465,
                    33293199095.488117,
                    34733000536.28621,
                    52544000116.90373,
                    72436777342.45541,
                    52438647921.9226,
                    51169499892.17222,
                    56781000101.08483,
                    58082870156.329,
                    69252328951.6441,
                    76961923741.0701,
                    78676842366.5529,
                    84307486836.72401,
                    103979106777.91101,
                    79092001998.03204,
                    88416668900.2596,
                    110934442762.69357,
                    111106191358.19745,
                    126206817196.09116,
                    76636898036.47118,
                    141352368714.6913,
                    189719984268.48453,
                    228788617201.69592,
                    236741715015.015,
                    257440000000,
                    258031750000,
                    272149750000,
                    292859000000,
                    298948250000,
                    283523000000,
                    284203750000,
                    268696750000,
                    97724004251.8602,
                    127586973492.17664,
                    164657930452.78662,
                    198737095012.28165,
                    232557260817.3077,
                    287530508430.568,
                    361558037110.41925,
                    332976484577.6189,
                    423627422092.4897,
                    530163281574.65753,
                    545982375701.128,
                    552025140252.2463,
                    526319673731.6383,
                    594749285413.2124,
                    557531376217.9669,
                    643628665302.1549,
                    524819742918.6688,
                    447754609218.6783,
                    385540224628.2918,
                    487227339102.67004
                  ],
                  "yaxis": "y3"
                },
                {
                  "name": "col",
                  "type": "scatter",
                  "x": [
                    "1960-01",
                    "1961-01",
                    "1962-01",
                    "1963-01",
                    "1964-01",
                    "1965-01",
                    "1966-01",
                    "1967-01",
                    "1968-01",
                    "1969-01",
                    "1970-01",
                    "1971-01",
                    "1972-01",
                    "1973-01",
                    "1974-01",
                    "1975-01",
                    "1976-01",
                    "1977-01",
                    "1978-01",
                    "1979-01",
                    "1980-01",
                    "1981-01",
                    "1982-01",
                    "1983-01",
                    "1984-01",
                    "1985-01",
                    "1986-01",
                    "1987-01",
                    "1988-01",
                    "1989-01",
                    "1990-01",
                    "1991-01",
                    "1992-01",
                    "1993-01",
                    "1994-01",
                    "1995-01",
                    "1996-01",
                    "1997-01",
                    "1998-01",
                    "1999-01",
                    "2000-01",
                    "2001-01",
                    "2002-01",
                    "2003-01",
                    "2004-01",
                    "2005-01",
                    "2006-01",
                    "2007-01",
                    "2008-01",
                    "2009-01",
                    "2010-01",
                    "2011-01",
                    "2012-01",
                    "2013-01",
                    "2014-01",
                    "2015-01",
                    "2016-01",
                    "2017-01",
                    "2018-01",
                    "2019-01",
                    "2020-01",
                    "2021-01"
                  ],
                  "xaxis": "x4",
                  "y": [
                    4031152976.6390357,
                    4540447761.19403,
                    4955543963.368689,
                    4836166666.666667,
                    5973366666.666667,
                    5760761904.761905,
                    5428518518.518518,
                    5825170438.487043,
                    5960212869.12968,
                    6450175213.749228,
                    7198360460.198871,
                    7820380970.53674,
                    8671358732.684858,
                    10315760000.33939,
                    12370029583.641897,
                    13098633901.867271,
                    15341403660.469809,
                    19470960619.129715,
                    23263511958.050903,
                    27940411250.27322,
                    33400735644.048115,
                    36388366869.03093,
                    38968039721.74803,
                    38729822781.599724,
                    38253120737.96712,
                    34894411351.98301,
                    34942489683.97124,
                    36373307085.088745,
                    39212550050.42228,
                    39540080200.393814,
                    47844090709.990845,
                    49175565911.06548,
                    58418985443.317154,
                    66446804802.5747,
                    81703500846.03638,
                    92507279383.03873,
                    97160109277.80867,
                    106659508271.25496,
                    98443739941.1664,
                    86186158684.7685,
                    99886577330.72711,
                    98211749595.54419,
                    97963003804.7851,
                    94641378693.22304,
                    117081522349.67728,
                    145619193046.0941,
                    161618580752.94565,
                    206181823187.6746,
                    242186949772.53314,
                    232397835356.3565,
                    286563099757.48175,
                    334943877377.47156,
                    370921317942.56396,
                    382116120909.2182,
                    381112110485.38477,
                    293481753078.868,
                    282825012368.25525,
                    311883730442.0454,
                    334198218100.71857,
                    323109540251.855,
                    270299984937.97015,
                    314464137241.3301
                  ],
                  "yaxis": "y4"
                }
              ],
              "layout": {
                "template": {
                  "data": {
                    "bar": [
                      {
                        "error_x": {
                          "color": "#2a3f5f"
                        },
                        "error_y": {
                          "color": "#2a3f5f"
                        },
                        "marker": {
                          "line": {
                            "color": "#E5ECF6",
                            "width": 0.5
                          },
                          "pattern": {
                            "fillmode": "overlay",
                            "size": 10,
                            "solidity": 0.2
                          }
                        },
                        "type": "bar"
                      }
                    ],
                    "barpolar": [
                      {
                        "marker": {
                          "line": {
                            "color": "#E5ECF6",
                            "width": 0.5
                          },
                          "pattern": {
                            "fillmode": "overlay",
                            "size": 10,
                            "solidity": 0.2
                          }
                        },
                        "type": "barpolar"
                      }
                    ],
                    "carpet": [
                      {
                        "aaxis": {
                          "endlinecolor": "#2a3f5f",
                          "gridcolor": "white",
                          "linecolor": "white",
                          "minorgridcolor": "white",
                          "startlinecolor": "#2a3f5f"
                        },
                        "baxis": {
                          "endlinecolor": "#2a3f5f",
                          "gridcolor": "white",
                          "linecolor": "white",
                          "minorgridcolor": "white",
                          "startlinecolor": "#2a3f5f"
                        },
                        "type": "carpet"
                      }
                    ],
                    "choropleth": [
                      {
                        "colorbar": {
                          "outlinewidth": 0,
                          "ticks": ""
                        },
                        "type": "choropleth"
                      }
                    ],
                    "contour": [
                      {
                        "colorbar": {
                          "outlinewidth": 0,
                          "ticks": ""
                        },
                        "colorscale": [
                          [
                            0,
                            "#0d0887"
                          ],
                          [
                            0.1111111111111111,
                            "#46039f"
                          ],
                          [
                            0.2222222222222222,
                            "#7201a8"
                          ],
                          [
                            0.3333333333333333,
                            "#9c179e"
                          ],
                          [
                            0.4444444444444444,
                            "#bd3786"
                          ],
                          [
                            0.5555555555555556,
                            "#d8576b"
                          ],
                          [
                            0.6666666666666666,
                            "#ed7953"
                          ],
                          [
                            0.7777777777777778,
                            "#fb9f3a"
                          ],
                          [
                            0.8888888888888888,
                            "#fdca26"
                          ],
                          [
                            1,
                            "#f0f921"
                          ]
                        ],
                        "type": "contour"
                      }
                    ],
                    "contourcarpet": [
                      {
                        "colorbar": {
                          "outlinewidth": 0,
                          "ticks": ""
                        },
                        "type": "contourcarpet"
                      }
                    ],
                    "heatmap": [
                      {
                        "colorbar": {
                          "outlinewidth": 0,
                          "ticks": ""
                        },
                        "colorscale": [
                          [
                            0,
                            "#0d0887"
                          ],
                          [
                            0.1111111111111111,
                            "#46039f"
                          ],
                          [
                            0.2222222222222222,
                            "#7201a8"
                          ],
                          [
                            0.3333333333333333,
                            "#9c179e"
                          ],
                          [
                            0.4444444444444444,
                            "#bd3786"
                          ],
                          [
                            0.5555555555555556,
                            "#d8576b"
                          ],
                          [
                            0.6666666666666666,
                            "#ed7953"
                          ],
                          [
                            0.7777777777777778,
                            "#fb9f3a"
                          ],
                          [
                            0.8888888888888888,
                            "#fdca26"
                          ],
                          [
                            1,
                            "#f0f921"
                          ]
                        ],
                        "type": "heatmap"
                      }
                    ],
                    "heatmapgl": [
                      {
                        "colorbar": {
                          "outlinewidth": 0,
                          "ticks": ""
                        },
                        "colorscale": [
                          [
                            0,
                            "#0d0887"
                          ],
                          [
                            0.1111111111111111,
                            "#46039f"
                          ],
                          [
                            0.2222222222222222,
                            "#7201a8"
                          ],
                          [
                            0.3333333333333333,
                            "#9c179e"
                          ],
                          [
                            0.4444444444444444,
                            "#bd3786"
                          ],
                          [
                            0.5555555555555556,
                            "#d8576b"
                          ],
                          [
                            0.6666666666666666,
                            "#ed7953"
                          ],
                          [
                            0.7777777777777778,
                            "#fb9f3a"
                          ],
                          [
                            0.8888888888888888,
                            "#fdca26"
                          ],
                          [
                            1,
                            "#f0f921"
                          ]
                        ],
                        "type": "heatmapgl"
                      }
                    ],
                    "histogram": [
                      {
                        "marker": {
                          "pattern": {
                            "fillmode": "overlay",
                            "size": 10,
                            "solidity": 0.2
                          }
                        },
                        "type": "histogram"
                      }
                    ],
                    "histogram2d": [
                      {
                        "colorbar": {
                          "outlinewidth": 0,
                          "ticks": ""
                        },
                        "colorscale": [
                          [
                            0,
                            "#0d0887"
                          ],
                          [
                            0.1111111111111111,
                            "#46039f"
                          ],
                          [
                            0.2222222222222222,
                            "#7201a8"
                          ],
                          [
                            0.3333333333333333,
                            "#9c179e"
                          ],
                          [
                            0.4444444444444444,
                            "#bd3786"
                          ],
                          [
                            0.5555555555555556,
                            "#d8576b"
                          ],
                          [
                            0.6666666666666666,
                            "#ed7953"
                          ],
                          [
                            0.7777777777777778,
                            "#fb9f3a"
                          ],
                          [
                            0.8888888888888888,
                            "#fdca26"
                          ],
                          [
                            1,
                            "#f0f921"
                          ]
                        ],
                        "type": "histogram2d"
                      }
                    ],
                    "histogram2dcontour": [
                      {
                        "colorbar": {
                          "outlinewidth": 0,
                          "ticks": ""
                        },
                        "colorscale": [
                          [
                            0,
                            "#0d0887"
                          ],
                          [
                            0.1111111111111111,
                            "#46039f"
                          ],
                          [
                            0.2222222222222222,
                            "#7201a8"
                          ],
                          [
                            0.3333333333333333,
                            "#9c179e"
                          ],
                          [
                            0.4444444444444444,
                            "#bd3786"
                          ],
                          [
                            0.5555555555555556,
                            "#d8576b"
                          ],
                          [
                            0.6666666666666666,
                            "#ed7953"
                          ],
                          [
                            0.7777777777777778,
                            "#fb9f3a"
                          ],
                          [
                            0.8888888888888888,
                            "#fdca26"
                          ],
                          [
                            1,
                            "#f0f921"
                          ]
                        ],
                        "type": "histogram2dcontour"
                      }
                    ],
                    "mesh3d": [
                      {
                        "colorbar": {
                          "outlinewidth": 0,
                          "ticks": ""
                        },
                        "type": "mesh3d"
                      }
                    ],
                    "parcoords": [
                      {
                        "line": {
                          "colorbar": {
                            "outlinewidth": 0,
                            "ticks": ""
                          }
                        },
                        "type": "parcoords"
                      }
                    ],
                    "pie": [
                      {
                        "automargin": true,
                        "type": "pie"
                      }
                    ],
                    "scatter": [
                      {
                        "fillpattern": {
                          "fillmode": "overlay",
                          "size": 10,
                          "solidity": 0.2
                        },
                        "type": "scatter"
                      }
                    ],
                    "scatter3d": [
                      {
                        "line": {
                          "colorbar": {
                            "outlinewidth": 0,
                            "ticks": ""
                          }
                        },
                        "marker": {
                          "colorbar": {
                            "outlinewidth": 0,
                            "ticks": ""
                          }
                        },
                        "type": "scatter3d"
                      }
                    ],
                    "scattercarpet": [
                      {
                        "marker": {
                          "colorbar": {
                            "outlinewidth": 0,
                            "ticks": ""
                          }
                        },
                        "type": "scattercarpet"
                      }
                    ],
                    "scattergeo": [
                      {
                        "marker": {
                          "colorbar": {
                            "outlinewidth": 0,
                            "ticks": ""
                          }
                        },
                        "type": "scattergeo"
                      }
                    ],
                    "scattergl": [
                      {
                        "marker": {
                          "colorbar": {
                            "outlinewidth": 0,
                            "ticks": ""
                          }
                        },
                        "type": "scattergl"
                      }
                    ],
                    "scattermapbox": [
                      {
                        "marker": {
                          "colorbar": {
                            "outlinewidth": 0,
                            "ticks": ""
                          }
                        },
                        "type": "scattermapbox"
                      }
                    ],
                    "scatterpolar": [
                      {
                        "marker": {
                          "colorbar": {
                            "outlinewidth": 0,
                            "ticks": ""
                          }
                        },
                        "type": "scatterpolar"
                      }
                    ],
                    "scatterpolargl": [
                      {
                        "marker": {
                          "colorbar": {
                            "outlinewidth": 0,
                            "ticks": ""
                          }
                        },
                        "type": "scatterpolargl"
                      }
                    ],
                    "scatterternary": [
                      {
                        "marker": {
                          "colorbar": {
                            "outlinewidth": 0,
                            "ticks": ""
                          }
                        },
                        "type": "scatterternary"
                      }
                    ],
                    "surface": [
                      {
                        "colorbar": {
                          "outlinewidth": 0,
                          "ticks": ""
                        },
                        "colorscale": [
                          [
                            0,
                            "#0d0887"
                          ],
                          [
                            0.1111111111111111,
                            "#46039f"
                          ],
                          [
                            0.2222222222222222,
                            "#7201a8"
                          ],
                          [
                            0.3333333333333333,
                            "#9c179e"
                          ],
                          [
                            0.4444444444444444,
                            "#bd3786"
                          ],
                          [
                            0.5555555555555556,
                            "#d8576b"
                          ],
                          [
                            0.6666666666666666,
                            "#ed7953"
                          ],
                          [
                            0.7777777777777778,
                            "#fb9f3a"
                          ],
                          [
                            0.8888888888888888,
                            "#fdca26"
                          ],
                          [
                            1,
                            "#f0f921"
                          ]
                        ],
                        "type": "surface"
                      }
                    ],
                    "table": [
                      {
                        "cells": {
                          "fill": {
                            "color": "#EBF0F8"
                          },
                          "line": {
                            "color": "white"
                          }
                        },
                        "header": {
                          "fill": {
                            "color": "#C8D4E3"
                          },
                          "line": {
                            "color": "white"
                          }
                        },
                        "type": "table"
                      }
                    ]
                  },
                  "layout": {
                    "annotationdefaults": {
                      "arrowcolor": "#2a3f5f",
                      "arrowhead": 0,
                      "arrowwidth": 1
                    },
                    "autotypenumbers": "strict",
                    "coloraxis": {
                      "colorbar": {
                        "outlinewidth": 0,
                        "ticks": ""
                      }
                    },
                    "colorscale": {
                      "diverging": [
                        [
                          0,
                          "#8e0152"
                        ],
                        [
                          0.1,
                          "#c51b7d"
                        ],
                        [
                          0.2,
                          "#de77ae"
                        ],
                        [
                          0.3,
                          "#f1b6da"
                        ],
                        [
                          0.4,
                          "#fde0ef"
                        ],
                        [
                          0.5,
                          "#f7f7f7"
                        ],
                        [
                          0.6,
                          "#e6f5d0"
                        ],
                        [
                          0.7,
                          "#b8e186"
                        ],
                        [
                          0.8,
                          "#7fbc41"
                        ],
                        [
                          0.9,
                          "#4d9221"
                        ],
                        [
                          1,
                          "#276419"
                        ]
                      ],
                      "sequential": [
                        [
                          0,
                          "#0d0887"
                        ],
                        [
                          0.1111111111111111,
                          "#46039f"
                        ],
                        [
                          0.2222222222222222,
                          "#7201a8"
                        ],
                        [
                          0.3333333333333333,
                          "#9c179e"
                        ],
                        [
                          0.4444444444444444,
                          "#bd3786"
                        ],
                        [
                          0.5555555555555556,
                          "#d8576b"
                        ],
                        [
                          0.6666666666666666,
                          "#ed7953"
                        ],
                        [
                          0.7777777777777778,
                          "#fb9f3a"
                        ],
                        [
                          0.8888888888888888,
                          "#fdca26"
                        ],
                        [
                          1,
                          "#f0f921"
                        ]
                      ],
                      "sequentialminus": [
                        [
                          0,
                          "#0d0887"
                        ],
                        [
                          0.1111111111111111,
                          "#46039f"
                        ],
                        [
                          0.2222222222222222,
                          "#7201a8"
                        ],
                        [
                          0.3333333333333333,
                          "#9c179e"
                        ],
                        [
                          0.4444444444444444,
                          "#bd3786"
                        ],
                        [
                          0.5555555555555556,
                          "#d8576b"
                        ],
                        [
                          0.6666666666666666,
                          "#ed7953"
                        ],
                        [
                          0.7777777777777778,
                          "#fb9f3a"
                        ],
                        [
                          0.8888888888888888,
                          "#fdca26"
                        ],
                        [
                          1,
                          "#f0f921"
                        ]
                      ]
                    },
                    "colorway": [
                      "#636efa",
                      "#EF553B",
                      "#00cc96",
                      "#ab63fa",
                      "#FFA15A",
                      "#19d3f3",
                      "#FF6692",
                      "#B6E880",
                      "#FF97FF",
                      "#FECB52"
                    ],
                    "font": {
                      "color": "#2a3f5f"
                    },
                    "geo": {
                      "bgcolor": "white",
                      "lakecolor": "white",
                      "landcolor": "#E5ECF6",
                      "showlakes": true,
                      "showland": true,
                      "subunitcolor": "white"
                    },
                    "hoverlabel": {
                      "align": "left"
                    },
                    "hovermode": "closest",
                    "mapbox": {
                      "style": "light"
                    },
                    "paper_bgcolor": "white",
                    "plot_bgcolor": "#E5ECF6",
                    "polar": {
                      "angularaxis": {
                        "gridcolor": "white",
                        "linecolor": "white",
                        "ticks": ""
                      },
                      "bgcolor": "#E5ECF6",
                      "radialaxis": {
                        "gridcolor": "white",
                        "linecolor": "white",
                        "ticks": ""
                      }
                    },
                    "scene": {
                      "xaxis": {
                        "backgroundcolor": "#E5ECF6",
                        "gridcolor": "white",
                        "gridwidth": 2,
                        "linecolor": "white",
                        "showbackground": true,
                        "ticks": "",
                        "zerolinecolor": "white"
                      },
                      "yaxis": {
                        "backgroundcolor": "#E5ECF6",
                        "gridcolor": "white",
                        "gridwidth": 2,
                        "linecolor": "white",
                        "showbackground": true,
                        "ticks": "",
                        "zerolinecolor": "white"
                      },
                      "zaxis": {
                        "backgroundcolor": "#E5ECF6",
                        "gridcolor": "white",
                        "gridwidth": 2,
                        "linecolor": "white",
                        "showbackground": true,
                        "ticks": "",
                        "zerolinecolor": "white"
                      }
                    },
                    "shapedefaults": {
                      "line": {
                        "color": "#2a3f5f"
                      }
                    },
                    "ternary": {
                      "aaxis": {
                        "gridcolor": "white",
                        "linecolor": "white",
                        "ticks": ""
                      },
                      "baxis": {
                        "gridcolor": "white",
                        "linecolor": "white",
                        "ticks": ""
                      },
                      "bgcolor": "#E5ECF6",
                      "caxis": {
                        "gridcolor": "white",
                        "linecolor": "white",
                        "ticks": ""
                      }
                    },
                    "title": {
                      "x": 0.05
                    },
                    "xaxis": {
                      "automargin": true,
                      "gridcolor": "white",
                      "linecolor": "white",
                      "ticks": "",
                      "title": {
                        "standoff": 15
                      },
                      "zerolinecolor": "white",
                      "zerolinewidth": 2
                    },
                    "yaxis": {
                      "automargin": true,
                      "gridcolor": "white",
                      "linecolor": "white",
                      "ticks": "",
                      "title": {
                        "standoff": 15
                      },
                      "zerolinecolor": "white",
                      "zerolinewidth": 2
                    }
                  }
                },
                "title": {
                  "text": "GDP por país"
                },
                "xaxis": {
                  "anchor": "y",
                  "domain": [
                    0,
                    1
                  ],
                  "matches": "x4",
                  "showticklabels": false,
                  "title": {
                    "text": "Año"
                  }
                },
                "xaxis2": {
                  "anchor": "y2",
                  "domain": [
                    0,
                    1
                  ],
                  "matches": "x4",
                  "showticklabels": false
                },
                "xaxis3": {
                  "anchor": "y3",
                  "domain": [
                    0,
                    1
                  ],
                  "matches": "x4",
                  "showticklabels": false
                },
                "xaxis4": {
                  "anchor": "y4",
                  "domain": [
                    0,
                    1
                  ]
                },
                "yaxis": {
                  "anchor": "x",
                  "domain": [
                    0.80625,
                    1
                  ],
                  "title": {
                    "text": "GDP"
                  }
                },
                "yaxis2": {
                  "anchor": "x2",
                  "domain": [
                    0.5375,
                    0.73125
                  ]
                },
                "yaxis3": {
                  "anchor": "x3",
                  "domain": [
                    0.26875,
                    0.4625
                  ]
                },
                "yaxis4": {
                  "anchor": "x4",
                  "domain": [
                    0,
                    0.19375
                  ]
                }
              }
            }
          },
          "metadata": {},
          "output_type": "display_data"
        }
      ],
      "source": [
        "paises = ['bra', 'mex', 'arg', 'col']\n",
        "# dfcompleto\n",
        "x_data = [str(index.to_timestamp().date())[:-3] for index in df_originalperiod.index]\n",
        "data = [go.Scatter(x=x_data, y=df_originalperiod[pais], name=pais) for pais in paises]\n",
        "\n",
        "fig = make_subplots(rows=len(paises), cols=1, shared_xaxes=True)\n",
        "for i in range(len(paises)):\n",
        "    fig.add_trace(data[i], row=i+1, col=1)\n",
        "\n",
        "fig.update_layout(\n",
        "    title='GDP por país',\n",
        "    xaxis_title='Año',\n",
        "    yaxis_title='GDP'\n",
        ")\n",
        "\n",
        "fig.show()"
      ]
    },
    {
      "attachments": {},
      "cell_type": "markdown",
      "metadata": {},
      "source": [
        "Para observar la grafica sin ejecutar el codigo dirigase al siguiente link\n",
        "\n",
        "[Valores reales de cada pais](https://github.com/juanguzman2/Proyecto1/blob/master/Imagenes/plotPIBcompleto.png)"
      ]
    },
    {
      "cell_type": "markdown",
      "metadata": {
        "id": "zFckFlqmKxtK"
      },
      "source": [
        "En general, se puede observar que:\n",
        "* las economías de cada país han presentado un crecimiento a lo largo del tiempo, lo que indica un desarrollo económico en la región.\n",
        "* En el año 2008 se presentó una recesión económica debido a la crisis financiera global, lo que generó una contracción en las economías latinoamericanas. \n",
        "* A partir de 2019, todas las economías de la región empezaron a presentar una desaceleración debido a la pandemia del COVID-19, que afectó significativamente la actividad económica mundial. \n",
        "* pesar de la difícil situación económica, para el año 2020 se observaron muestras de recuperación en todas las economías de la región, lo que indica una capacidad de adaptación y resiliencia ante las adversidades."
      ]
    },
    {
      "cell_type": "code",
      "execution_count": 18,
      "metadata": {
        "colab": {
          "base_uri": "https://localhost:8080/",
          "height": 301
        },
        "id": "NZVtbvWRLlZA",
        "outputId": "4b86b4c3-0200-4ddd-92f8-eab3db06d9e3"
      },
      "outputs": [
        {
          "data": {
            "text/html": [
              "<div>\n",
              "<style scoped>\n",
              "    .dataframe tbody tr th:only-of-type {\n",
              "        vertical-align: middle;\n",
              "    }\n",
              "\n",
              "    .dataframe tbody tr th {\n",
              "        vertical-align: top;\n",
              "    }\n",
              "\n",
              "    .dataframe thead th {\n",
              "        text-align: right;\n",
              "    }\n",
              "</style>\n",
              "<table border=\"1\" class=\"dataframe\">\n",
              "  <thead>\n",
              "    <tr style=\"text-align: right;\">\n",
              "      <th></th>\n",
              "      <th>bra</th>\n",
              "      <th>mex</th>\n",
              "      <th>arg</th>\n",
              "      <th>col</th>\n",
              "    </tr>\n",
              "  </thead>\n",
              "  <tbody>\n",
              "    <tr>\n",
              "      <th>count</th>\n",
              "      <td>6.200000e+01</td>\n",
              "      <td>6.200000e+01</td>\n",
              "      <td>6.200000e+01</td>\n",
              "      <td>6.200000e+01</td>\n",
              "    </tr>\n",
              "    <tr>\n",
              "      <th>mean</th>\n",
              "      <td>7.131592e+11</td>\n",
              "      <td>4.863382e+11</td>\n",
              "      <td>2.054289e+11</td>\n",
              "      <td>1.086485e+11</td>\n",
              "    </tr>\n",
              "    <tr>\n",
              "      <th>std</th>\n",
              "      <td>7.807156e+11</td>\n",
              "      <td>4.539626e+11</td>\n",
              "      <td>1.828916e+11</td>\n",
              "      <td>1.200698e+11</td>\n",
              "    </tr>\n",
              "    <tr>\n",
              "      <th>min</th>\n",
              "      <td>1.703047e+10</td>\n",
              "      <td>1.304000e+10</td>\n",
              "      <td>1.827212e+10</td>\n",
              "      <td>4.031153e+09</td>\n",
              "    </tr>\n",
              "    <tr>\n",
              "      <th>25%</th>\n",
              "      <td>1.351949e+11</td>\n",
              "      <td>8.336062e+10</td>\n",
              "      <td>5.360325e+10</td>\n",
              "      <td>1.365933e+10</td>\n",
              "    </tr>\n",
              "    <tr>\n",
              "      <th>50%</th>\n",
              "      <td>3.448187e+11</td>\n",
              "      <td>2.885511e+11</td>\n",
              "      <td>1.268969e+11</td>\n",
              "      <td>4.850983e+10</td>\n",
              "    </tr>\n",
              "    <tr>\n",
              "      <th>75%</th>\n",
              "      <td>1.053638e+12</td>\n",
              "      <td>8.944031e+11</td>\n",
              "      <td>2.915269e+11</td>\n",
              "      <td>1.576187e+11</td>\n",
              "    </tr>\n",
              "    <tr>\n",
              "      <th>max</th>\n",
              "      <td>2.616202e+12</td>\n",
              "      <td>1.315351e+12</td>\n",
              "      <td>6.436287e+11</td>\n",
              "      <td>3.821161e+11</td>\n",
              "    </tr>\n",
              "  </tbody>\n",
              "</table>\n",
              "</div>"
            ],
            "text/plain": [
              "                bra           mex           arg           col\n",
              "count  6.200000e+01  6.200000e+01  6.200000e+01  6.200000e+01\n",
              "mean   7.131592e+11  4.863382e+11  2.054289e+11  1.086485e+11\n",
              "std    7.807156e+11  4.539626e+11  1.828916e+11  1.200698e+11\n",
              "min    1.703047e+10  1.304000e+10  1.827212e+10  4.031153e+09\n",
              "25%    1.351949e+11  8.336062e+10  5.360325e+10  1.365933e+10\n",
              "50%    3.448187e+11  2.885511e+11  1.268969e+11  4.850983e+10\n",
              "75%    1.053638e+12  8.944031e+11  2.915269e+11  1.576187e+11\n",
              "max    2.616202e+12  1.315351e+12  6.436287e+11  3.821161e+11"
            ]
          },
          "execution_count": 18,
          "metadata": {},
          "output_type": "execute_result"
        }
      ],
      "source": [
        "df_originalperiod.describe()"
      ]
    },
    {
      "cell_type": "code",
      "execution_count": 19,
      "metadata": {
        "colab": {
          "base_uri": "https://localhost:8080/"
        },
        "id": "7H75punm8sGz",
        "outputId": "e9acf600-3efa-402d-c70f-ad3df7dd6620"
      },
      "outputs": [
        {
          "name": "stdout",
          "output_type": "stream",
          "text": [
            "el p_valor para bra es : 0.0021\n",
            "el p_valor para mex es : 0.0269\n",
            "el p_valor para arg es : 0.0162\n",
            "el p_valor para col es : 0.0024\n"
          ]
        }
      ],
      "source": [
        "for i in paises:\n",
        "  test=jarque_bera(df_originalperiod[f'{i}'])\n",
        "  print(f'el p_valor para {i} es : {round((test.pvalue),4)}')"
      ]
    },
    {
      "cell_type": "markdown",
      "metadata": {
        "id": "LWgo0BWO9tTK"
      },
      "source": [
        "Test de jarque-bera:\n",
        "\n",
        "$H_o$ = los residuos distribuyen normal.\n",
        "\n",
        "$H_1$ = Los residuos no distribuyen normal.\n",
        "\n"
      ]
    },
    {
      "cell_type": "markdown",
      "metadata": {
        "id": "UZ9bYzE9y59P"
      },
      "source": [
        "Debido a que el p-valor obtenido para cada país es inferior a 0.05, se rechaza la hipótesis nula ($H_0$), lo que indica que los residuos no se distribuyen de manera normal para cada país. En otras palabras, los datos no cumplen con los supuestos necesarios para la aplicación de ciertos modelos estadísticos, lo que podría afectar la precisión de las predicciones. Por lo tanto, se deben buscar alternativas para el análisis y la modelación de los datos."
      ]
    },
    {
      "cell_type": "markdown",
      "metadata": {
        "id": "jCM9IPz6aak5"
      },
      "source": [
        "## Análisis de estacionariedad de la variable mediante ACF y pruebas de raíz unitaria\n",
        "\n",
        "\n",
        "\n"
      ]
    },
    {
      "cell_type": "markdown",
      "metadata": {
        "id": "MDEo_u_ZMEN4"
      },
      "source": [
        "### Test de estacionariedad"
      ]
    },
    {
      "cell_type": "markdown",
      "metadata": {
        "id": "uaIhMvzUPRO3"
      },
      "source": [
        "* ADF : \n",
        "  \n",
        "  $H_o$ = El proceso contiene raiz unitaria\n",
        "  \n",
        "  $H_1$ = El proceso es debilmente estacionario\n",
        "\n",
        "* PP:\n",
        "  \n",
        "  $H_o$ = El proceso contiene raiz unitaria\n",
        "  \n",
        "  $H_1$ = El proceso es debilmente estacionario\n",
        "* KPSS : \n",
        "  \n",
        "  $H_o$ = El proceso es debilmente estacionario\n",
        "  \n",
        "  $H_1$ = El proceso contiene raiz unitaria\n",
        "\n",
        "El objetivo es rechazar la hipótesis nula de los tests ADF y PP, y no rechazar la hipótesis nula de KPSS. Esto se debe a que si se logra este resultado, se puede considerar que la serie es estacionaria y no es necesario aplicar diferenciación. En otras palabras, si la serie es estacionaria, no presenta cambios significativos en su comportamiento estadístico a lo largo del tiempo y puede ser modelada con mayor precisión."
      ]
    },
    {
      "cell_type": "code",
      "execution_count": 20,
      "metadata": {
        "id": "JSmY_7iPOuU4"
      },
      "outputs": [],
      "source": [
        "def Tests_estadisticos(df, pais):\n",
        "  \"\"\"\n",
        "  Realiza el test ADF, PP, KPSS sobre una serie de tiempo indicada en df \n",
        "  y una columna en especifico indicada en pais\n",
        "  \"\"\"\n",
        "  adf = round(ADF(df).pvalue, 3)\n",
        "  pp = round(PhillipsPerron(df).pvalue, 3)\n",
        "  kpss = round(KPSS(df).pvalue, 3)\n",
        "  data = {pais: [adf, pp, kpss]}\n",
        "  dftests = pd.DataFrame(data, index=['ADF', 'PP', 'KPSS']).T\n",
        "  dftests.index.name = 'Pais'\n",
        "  return dftests"
      ]
    },
    {
      "cell_type": "code",
      "execution_count": 21,
      "metadata": {
        "colab": {
          "base_uri": "https://localhost:8080/",
          "height": 206
        },
        "id": "aWE8EB6NPsQp",
        "outputId": "dbfbbb1c-7207-4ccd-a337-93c872558830"
      },
      "outputs": [
        {
          "data": {
            "text/html": [
              "<div>\n",
              "<style scoped>\n",
              "    .dataframe tbody tr th:only-of-type {\n",
              "        vertical-align: middle;\n",
              "    }\n",
              "\n",
              "    .dataframe tbody tr th {\n",
              "        vertical-align: top;\n",
              "    }\n",
              "\n",
              "    .dataframe thead th {\n",
              "        text-align: right;\n",
              "    }\n",
              "</style>\n",
              "<table border=\"1\" class=\"dataframe\">\n",
              "  <thead>\n",
              "    <tr style=\"text-align: right;\">\n",
              "      <th></th>\n",
              "      <th>ADF</th>\n",
              "      <th>PP</th>\n",
              "      <th>KPSS</th>\n",
              "    </tr>\n",
              "    <tr>\n",
              "      <th>Estadistico</th>\n",
              "      <th></th>\n",
              "      <th></th>\n",
              "      <th></th>\n",
              "    </tr>\n",
              "  </thead>\n",
              "  <tbody>\n",
              "    <tr>\n",
              "      <th>bra</th>\n",
              "      <td>0.999</td>\n",
              "      <td>0.817</td>\n",
              "      <td>0.004</td>\n",
              "    </tr>\n",
              "    <tr>\n",
              "      <th>mex</th>\n",
              "      <td>0.989</td>\n",
              "      <td>0.989</td>\n",
              "      <td>0.002</td>\n",
              "    </tr>\n",
              "    <tr>\n",
              "      <th>arg</th>\n",
              "      <td>0.997</td>\n",
              "      <td>0.896</td>\n",
              "      <td>0.003</td>\n",
              "    </tr>\n",
              "    <tr>\n",
              "      <th>col</th>\n",
              "      <td>1.000</td>\n",
              "      <td>0.965</td>\n",
              "      <td>0.003</td>\n",
              "    </tr>\n",
              "  </tbody>\n",
              "</table>\n",
              "</div>"
            ],
            "text/plain": [
              "               ADF     PP   KPSS\n",
              "Estadistico                     \n",
              "bra          0.999  0.817  0.004\n",
              "mex          0.989  0.989  0.002\n",
              "arg          0.997  0.896  0.003\n",
              "col          1.000  0.965  0.003"
            ]
          },
          "execution_count": 21,
          "metadata": {},
          "output_type": "execute_result"
        }
      ],
      "source": [
        "testsndif = []\n",
        "for pais in paises:\n",
        "  testsndif.append(Tests_estadisticos(df_originalperiod[pais], pais))\n",
        "\n",
        "teststotalndif = pd.concat(testsndif, axis=0)\n",
        "teststotalndif.index.name = 'Estadistico'\n",
        "teststotalndif.head(4)"
      ]
    },
    {
      "cell_type": "markdown",
      "metadata": {
        "id": "cgpXk5kxzaHv"
      },
      "source": [
        "Al analizar los resultados de los tests, podemos concluir lo siguiente:\n",
        "\n",
        "1. Tanto el test de Dickey-Fuller aumentado como el test de Phillips-Perron rechazan la hipótesis nula, lo que indica que la serie de tiempo tiene raíz unitaria y necesita ser diferenciada para ser estacionaria.\n",
        "2. El test KPSS acepta la hipótesis nula, lo que sugiere que el proceso es débilmente estacionario.\n",
        "\n",
        "Se recomienda aplicar una diferencia de primer orden en la serie de tiempo para lograr la estacionariedad y poder realizar pronósticos más precisos."
      ]
    },
    {
      "cell_type": "markdown",
      "metadata": {
        "id": "VjzzsfD4LGFA"
      },
      "source": [
        "### Grafica acf y pacf"
      ]
    },
    {
      "cell_type": "code",
      "execution_count": 22,
      "metadata": {
        "colab": {
          "base_uri": "https://localhost:8080/",
          "height": 604
        },
        "id": "cuIZfJFvXyud",
        "outputId": "b3d7ff8b-2f38-488d-afc0-75cc3a7375a1"
      },
      "outputs": [
        {
          "data": {
            "image/png": "[encoded data removed]",
            "text/plain": [
              "<Figure size 1080x600 with 8 Axes>"
            ]
          },
          "metadata": {},
          "output_type": "display_data"
        }
      ],
      "source": [
        "plt.rcParams.update({'figure.figsize':(9,5), 'figure.dpi':120})\n",
        "\n",
        "fig, axes = plt.subplots(len(paises), 2, sharex=True)\n",
        "\n",
        "for i, pais in enumerate(paises):\n",
        "    axes[i, 0].plot(df_original[pais])\n",
        "    axes[i, 0].set_title(f'{pais} - serie original')\n",
        "    axes[i, 0].set_xticks(range(0, len(df_original[pais]), 10))\n",
        "    axes[i, 1].plot(df_original[pais].diff().dropna())\n",
        "    axes[i, 1].set_title(f'{pais} - Primera diferencia')\n",
        "    axes[i, 1].set_xticks(range(0, len(df_original[pais].diff().dropna()), 10))\n",
        "\n",
        "fig.tight_layout()\n",
        "plt.show()"
      ]
    },
    {
      "cell_type": "markdown",
      "metadata": {
        "id": "ZNall8vf0GXH"
      },
      "source": [
        "Aquí podemos comparar la serie original con la serie que resulta de aplicar una diferenciación de primer orden. Al diferenciar la serie, podemos observar que en la mayoría de los casos se elimina la tendencia y se estabiliza la media, lo que sugiere que una sola diferenciación es suficiente para alcanzar la estacionariedad de la serie."
      ]
    },
    {
      "cell_type": "code",
      "execution_count": 23,
      "metadata": {
        "colab": {
          "base_uri": "https://localhost:8080/",
          "height": 604
        },
        "id": "EQMPFguXzavO",
        "outputId": "7ac25285-5d0b-40fe-90e4-b795eef2c3be"
      },
      "outputs": [
        {
          "data": {
            "image/png": "[encoded data removed]",
            "text/plain": [
              "<Figure size 1080x600 with 8 Axes>"
            ]
          },
          "metadata": {},
          "output_type": "display_data"
        }
      ],
      "source": [
        "plt.rcParams.update({'figure.figsize':(9,5), 'figure.dpi':120})\n",
        "fig, axes = plt.subplots(len(paises), 2, sharex=True)\n",
        "\n",
        "for i, pais in enumerate(paises):\n",
        "    # serie original\n",
        "    plot_acf(df_originalperiod[pais], ax=axes[i,0])\n",
        "    axes[i,0].set_title(f'{pais}: serie original')\n",
        "    \n",
        "    # primera diferencia\n",
        "    plot_acf(df_originalperiod[pais].diff().dropna(), ax=axes[i,1])\n",
        "    axes[i,1].set_title(f'{pais}: 1ra diff')\n",
        "\n",
        "fig.tight_layout()\n",
        "plt.show()"
      ]
    },
    {
      "cell_type": "markdown",
      "metadata": {
        "id": "1pVCceWF0a3A"
      },
      "source": [
        "La interpretación de la gráfica ACF sugiere que, al realizar la primera diferenciación de la serie de datos, se observa que todos los rezagos de la variable convergen rápidamente al intervalo de confianza. Esto indica que la serie diferenciada no presenta una correlación serial significativa y que los valores de la serie para diferentes intervalos de tiempo son independientes entre sí."
      ]
    },
    {
      "cell_type": "code",
      "execution_count": 24,
      "metadata": {
        "colab": {
          "base_uri": "https://localhost:8080/",
          "height": 604
        },
        "id": "Psd2SB3dNiOc",
        "outputId": "d7d75806-3b1c-4b4b-b219-516c2c3785a1"
      },
      "outputs": [
        {
          "data": {
            "image/png": "[encoded data removed]",
            "text/plain": [
              "<Figure size 1080x600 with 8 Axes>"
            ]
          },
          "metadata": {},
          "output_type": "display_data"
        }
      ],
      "source": [
        "plt.rcParams.update({'figure.figsize':(9,5), 'figure.dpi':120})\n",
        "fig, axes = plt.subplots(len(paises), 2, sharex=True)\n",
        "\n",
        "for i, pais in enumerate(paises):\n",
        "    # serie original\n",
        "    plot_pacf(df_originalperiod[pais], ax=axes[i,0])\n",
        "    axes[i,0].set_title(f'{pais}: serie original')\n",
        "    \n",
        "    # primera diferencia\n",
        "    plot_pacf(df_originalperiod[pais].diff().dropna(), ax=axes[i,1])\n",
        "    axes[i,1].set_title(f'{pais}: 1ra diff')\n",
        "\n",
        "fig.tight_layout()\n",
        "plt.show();"
      ]
    },
    {
      "cell_type": "markdown",
      "metadata": {
        "id": "vE_rgap8a3Nv"
      },
      "source": [
        "La gráfica PACF muestra que todos los coeficientes de autocorrelación parcial son pequeños y se encuentran dentro del intervalo de confianza, esto indica que la correlación residual entre la observación actual y sus valores pasados es prácticamente nula. Esta es una buena señal para continuar con el análisis, ya que sugiere que la serie de datos se encuentra bien modelada por un proceso estocástico estacionario."
      ]
    },
    {
      "cell_type": "markdown",
      "metadata": {
        "id": "wUjTIFPWnfHd"
      },
      "source": [
        "Si bien las gráficas de la función de autocorrelación (ACF) y la función de autocorrelación parcial (PACF) pueden ser útiles para determinar el orden de una serie de datos, se recomienda utilizar funciones más precisas y automatizadas como auto_arima para obtener resultados más precisos y confiables."
      ]
    },
    {
      "cell_type": "code",
      "execution_count": 25,
      "metadata": {
        "colab": {
          "base_uri": "https://localhost:8080/",
          "height": 206
        },
        "id": "VZnI96agz0Qm",
        "outputId": "a30dbf8e-e5ea-4f0a-c702-be937d04e2c7"
      },
      "outputs": [
        {
          "data": {
            "text/html": [
              "<div>\n",
              "<style scoped>\n",
              "    .dataframe tbody tr th:only-of-type {\n",
              "        vertical-align: middle;\n",
              "    }\n",
              "\n",
              "    .dataframe tbody tr th {\n",
              "        vertical-align: top;\n",
              "    }\n",
              "\n",
              "    .dataframe thead th {\n",
              "        text-align: right;\n",
              "    }\n",
              "</style>\n",
              "<table border=\"1\" class=\"dataframe\">\n",
              "  <thead>\n",
              "    <tr style=\"text-align: right;\">\n",
              "      <th></th>\n",
              "      <th>ADF</th>\n",
              "      <th>PP</th>\n",
              "      <th>KPSS</th>\n",
              "    </tr>\n",
              "    <tr>\n",
              "      <th>Estadistico</th>\n",
              "      <th></th>\n",
              "      <th></th>\n",
              "      <th></th>\n",
              "    </tr>\n",
              "  </thead>\n",
              "  <tbody>\n",
              "    <tr>\n",
              "      <th>bra</th>\n",
              "      <td>0.074</td>\n",
              "      <td>0.0</td>\n",
              "      <td>0.605</td>\n",
              "    </tr>\n",
              "    <tr>\n",
              "      <th>mex</th>\n",
              "      <td>0.000</td>\n",
              "      <td>0.0</td>\n",
              "      <td>0.169</td>\n",
              "    </tr>\n",
              "    <tr>\n",
              "      <th>arg</th>\n",
              "      <td>0.001</td>\n",
              "      <td>0.0</td>\n",
              "      <td>0.704</td>\n",
              "    </tr>\n",
              "    <tr>\n",
              "      <th>col</th>\n",
              "      <td>0.980</td>\n",
              "      <td>0.0</td>\n",
              "      <td>0.284</td>\n",
              "    </tr>\n",
              "  </tbody>\n",
              "</table>\n",
              "</div>"
            ],
            "text/plain": [
              "               ADF   PP   KPSS\n",
              "Estadistico                   \n",
              "bra          0.074  0.0  0.605\n",
              "mex          0.000  0.0  0.169\n",
              "arg          0.001  0.0  0.704\n",
              "col          0.980  0.0  0.284"
            ]
          },
          "execution_count": 25,
          "metadata": {},
          "output_type": "execute_result"
        }
      ],
      "source": [
        "testsdif = []\n",
        "for pais in paises:\n",
        "    df_diff = df_originalperiod[pais].diff().dropna()\n",
        "    testsdif.append(Tests_estadisticos(df_diff, pais))\n",
        "\n",
        "testsdif = pd.concat(testsdif, axis=0)\n",
        "testsdif.index.name = 'Estadistico'\n",
        "\n",
        "testsdif.head()"
      ]
    },
    {
      "cell_type": "markdown",
      "metadata": {
        "id": "nGiULiolkVYT"
      },
      "source": [
        "A grandes rasgos, al utilizar estas pruebas y comparar los tres estadísticos, podemos concluir que realizar una sola diferenciación es suficiente para obtener un buen pronóstico."
      ]
    },
    {
      "cell_type": "markdown",
      "metadata": {
        "id": "Gz1VGdSW-2Fo"
      },
      "source": [
        "## Identificación de los órdenes p, d y q en la modelización de series de tiempo"
      ]
    },
    {
      "cell_type": "markdown",
      "metadata": {
        "id": "T5ho9GIXoYXQ"
      },
      "source": [
        "A continuación, utilizaremos la función `auto_arima` del paquete `arq` para obtener con mayor precisión los valores óptimos de los parámetros del modelo ARIMA (p, d, q). Es importante destacar que, tras analizar las series de tiempo, hemos observado que todas ellas funcionan mejor con un orden de diferenciación de 1, lo que se reflejará en cada modelo que se ajuste."
      ]
    },
    {
      "cell_type": "code",
      "execution_count": 26,
      "metadata": {
        "id": "kq0e2cPsJx8j"
      },
      "outputs": [],
      "source": [
        "def stepwise_fit(df):\n",
        "    \"\"\"\n",
        "    Realiza un ajuste automático de un modelo ARIMA sobre los datos de la serie de timepo contenidos en el DataFrame 'df'.\n",
        "    \"\"\"    \n",
        "    stepwise_fit = auto_arima(df, start_p=1, start_q=1, max_p=3, max_q=3, m=12,\n",
        "                              start_P=0, seasonal=True, d=None, D=1, trace=True,\n",
        "                              error_action='ignore', suppress_warnings=True, stepwise=True)\n",
        "    \n",
        "    return stepwise_fit.summary()"
      ]
    },
    {
      "cell_type": "code",
      "execution_count": 27,
      "metadata": {
        "colab": {
          "base_uri": "https://localhost:8080/",
          "height": 748
        },
        "id": "x-smcvjDJ1dC",
        "outputId": "47b8f0cd-5a9e-4f35-9b3c-b807fb28a34b"
      },
      "outputs": [
        {
          "name": "stdout",
          "output_type": "stream",
          "text": [
            "Performing stepwise search to minimize aic\n",
            " ARIMA(1,1,1)(0,1,1)[12]             : AIC=2697.865, Time=0.29 sec\n",
            " ARIMA(0,1,0)(0,1,0)[12]             : AIC=2705.235, Time=0.02 sec\n",
            " ARIMA(1,1,0)(1,1,0)[12]             : AIC=inf, Time=0.13 sec\n",
            " ARIMA(0,1,1)(0,1,1)[12]             : AIC=2696.108, Time=0.14 sec\n",
            " ARIMA(0,1,1)(0,1,0)[12]             : AIC=2703.077, Time=0.03 sec\n",
            " ARIMA(0,1,1)(1,1,1)[12]             : AIC=2691.793, Time=0.31 sec\n",
            " ARIMA(0,1,1)(1,1,0)[12]             : AIC=2690.754, Time=0.19 sec\n",
            " ARIMA(0,1,1)(2,1,0)[12]             : AIC=2691.840, Time=0.38 sec\n",
            " ARIMA(0,1,1)(2,1,1)[12]             : AIC=2693.791, Time=0.64 sec\n",
            " ARIMA(0,1,0)(1,1,0)[12]             : AIC=inf, Time=0.12 sec\n",
            " ARIMA(1,1,1)(1,1,0)[12]             : AIC=2691.321, Time=0.32 sec\n",
            " ARIMA(0,1,2)(1,1,0)[12]             : AIC=2692.495, Time=0.21 sec\n",
            " ARIMA(1,1,2)(1,1,0)[12]             : AIC=2693.517, Time=0.35 sec\n",
            " ARIMA(0,1,1)(1,1,0)[12] intercept   : AIC=2692.773, Time=0.17 sec\n",
            "\n",
            "Best model:  ARIMA(0,1,1)(1,1,0)[12]          \n",
            "Total fit time: 3.434 seconds\n"
          ]
        },
        {
          "data": {
            "text/html": [
              "<table class=\"simpletable\">\n",
              "<caption>SARIMAX Results</caption>\n",
              "<tr>\n",
              "  <th>Dep. Variable:</th>                  <td>y</td>                <th>  No. Observations:  </th>    <td>62</td>    \n",
              "</tr>\n",
              "<tr>\n",
              "  <th>Model:</th>           <td>SARIMAX(0, 1, 1)x(1, 1, [], 12)</td> <th>  Log Likelihood     </th> <td>-1342.377</td>\n",
              "</tr>\n",
              "<tr>\n",
              "  <th>Date:</th>                   <td>Sun, 21 May 2023</td>         <th>  AIC                </th> <td>2690.754</td> \n",
              "</tr>\n",
              "<tr>\n",
              "  <th>Time:</th>                       <td>20:56:06</td>             <th>  BIC                </th> <td>2696.429</td> \n",
              "</tr>\n",
              "<tr>\n",
              "  <th>Sample:</th>                    <td>01-01-1960</td>            <th>  HQIC               </th> <td>2692.907</td> \n",
              "</tr>\n",
              "<tr>\n",
              "  <th></th>                          <td>- 01-01-2021</td>           <th>                     </th>     <td> </td>    \n",
              "</tr>\n",
              "<tr>\n",
              "  <th>Covariance Type:</th>               <td>opg</td>               <th>                     </th>     <td> </td>    \n",
              "</tr>\n",
              "</table>\n",
              "<table class=\"simpletable\">\n",
              "<tr>\n",
              "      <td></td>        <th>coef</th>     <th>std err</th>      <th>z</th>      <th>P>|z|</th>  <th>[0.025</th>    <th>0.975]</th>  \n",
              "</tr>\n",
              "<tr>\n",
              "  <th>ma.L1</th>    <td>    0.4508</td> <td>    0.203</td> <td>    2.225</td> <td> 0.026</td> <td>    0.054</td> <td>    0.848</td>\n",
              "</tr>\n",
              "<tr>\n",
              "  <th>ar.S.L12</th> <td>   -0.9999</td> <td>    0.334</td> <td>   -2.990</td> <td> 0.003</td> <td>   -1.655</td> <td>   -0.344</td>\n",
              "</tr>\n",
              "<tr>\n",
              "  <th>sigma2</th>   <td> 5.364e+22</td> <td> 5.44e-24</td> <td> 9.86e+45</td> <td> 0.000</td> <td> 5.36e+22</td> <td> 5.36e+22</td>\n",
              "</tr>\n",
              "</table>\n",
              "<table class=\"simpletable\">\n",
              "<tr>\n",
              "  <th>Ljung-Box (L1) (Q):</th>      <td>0.18</td>  <th>  Jarque-Bera (JB):  </th> <td>15.48</td>\n",
              "</tr>\n",
              "<tr>\n",
              "  <th>Prob(Q):</th>                 <td>0.67</td>  <th>  Prob(JB):          </th> <td>0.00</td> \n",
              "</tr>\n",
              "<tr>\n",
              "  <th>Heteroskedasticity (H):</th> <td>105.00</td> <th>  Skew:              </th> <td>-0.50</td>\n",
              "</tr>\n",
              "<tr>\n",
              "  <th>Prob(H) (two-sided):</th>     <td>0.00</td>  <th>  Kurtosis:          </th> <td>5.56</td> \n",
              "</tr>\n",
              "</table><br/><br/>Warnings:<br/>[1] Covariance matrix calculated using the outer product of gradients (complex-step).<br/>[2] Covariance matrix is singular or near-singular, with condition number 3.69e+61. Standard errors may be unstable."
            ],
            "text/plain": [
              "<class 'statsmodels.iolib.summary.Summary'>\n",
              "\"\"\"\n",
              "                                      SARIMAX Results                                      \n",
              "===========================================================================================\n",
              "Dep. Variable:                                   y   No. Observations:                   62\n",
              "Model:             SARIMAX(0, 1, 1)x(1, 1, [], 12)   Log Likelihood               -1342.377\n",
              "Date:                             Sun, 21 May 2023   AIC                           2690.754\n",
              "Time:                                     20:56:06   BIC                           2696.429\n",
              "Sample:                                 01-01-1960   HQIC                          2692.907\n",
              "                                      - 01-01-2021                                         \n",
              "Covariance Type:                               opg                                         \n",
              "==============================================================================\n",
              "                 coef    std err          z      P>|z|      [0.025      0.975]\n",
              "------------------------------------------------------------------------------\n",
              "ma.L1          0.4508      0.203      2.225      0.026       0.054       0.848\n",
              "ar.S.L12      -0.9999      0.334     -2.990      0.003      -1.655      -0.344\n",
              "sigma2      5.364e+22   5.44e-24   9.86e+45      0.000    5.36e+22    5.36e+22\n",
              "===================================================================================\n",
              "Ljung-Box (L1) (Q):                   0.18   Jarque-Bera (JB):                15.48\n",
              "Prob(Q):                              0.67   Prob(JB):                         0.00\n",
              "Heteroskedasticity (H):             105.00   Skew:                            -0.50\n",
              "Prob(H) (two-sided):                  0.00   Kurtosis:                         5.56\n",
              "===================================================================================\n",
              "\n",
              "Warnings:\n",
              "[1] Covariance matrix calculated using the outer product of gradients (complex-step).\n",
              "[2] Covariance matrix is singular or near-singular, with condition number 3.69e+61. Standard errors may be unstable.\n",
              "\"\"\""
            ]
          },
          "execution_count": 27,
          "metadata": {},
          "output_type": "execute_result"
        }
      ],
      "source": [
        "stepwise_fit(df_original['bra'])"
      ]
    },
    {
      "cell_type": "code",
      "execution_count": 28,
      "metadata": {
        "colab": {
          "base_uri": "https://localhost:8080/",
          "height": 977
        },
        "id": "SfNUGn27rmfp",
        "outputId": "743bb3ad-023d-445a-927e-3414e7686b33"
      },
      "outputs": [
        {
          "name": "stdout",
          "output_type": "stream",
          "text": [
            "Performing stepwise search to minimize aic\n",
            " ARIMA(1,1,1)(0,1,1)[12]             : AIC=2619.975, Time=0.19 sec\n",
            " ARIMA(0,1,0)(0,1,0)[12]             : AIC=2628.249, Time=0.03 sec\n",
            " ARIMA(1,1,0)(1,1,0)[12]             : AIC=2619.389, Time=0.08 sec\n",
            " ARIMA(0,1,1)(0,1,1)[12]             : AIC=2618.437, Time=0.11 sec\n",
            " ARIMA(0,1,1)(0,1,0)[12]             : AIC=2625.870, Time=0.04 sec\n",
            " ARIMA(0,1,1)(1,1,1)[12]             : AIC=2620.089, Time=0.14 sec\n",
            " ARIMA(0,1,1)(0,1,2)[12]             : AIC=2620.111, Time=0.14 sec\n",
            " ARIMA(0,1,1)(1,1,0)[12]             : AIC=2619.807, Time=0.10 sec\n",
            " ARIMA(0,1,1)(1,1,2)[12]             : AIC=2622.014, Time=0.29 sec\n",
            " ARIMA(0,1,0)(0,1,1)[12]             : AIC=2637.914, Time=0.06 sec\n",
            " ARIMA(0,1,2)(0,1,1)[12]             : AIC=2620.055, Time=0.16 sec\n",
            " ARIMA(1,1,0)(0,1,1)[12]             : AIC=2617.884, Time=0.11 sec\n",
            " ARIMA(1,1,0)(0,1,0)[12]             : AIC=2627.235, Time=0.04 sec\n",
            " ARIMA(1,1,0)(1,1,1)[12]             : AIC=2619.384, Time=0.22 sec\n",
            " ARIMA(1,1,0)(0,1,2)[12]             : AIC=2619.409, Time=0.21 sec\n",
            " ARIMA(1,1,0)(1,1,2)[12]             : AIC=2621.309, Time=0.38 sec\n",
            " ARIMA(2,1,0)(0,1,1)[12]             : AIC=2616.941, Time=0.21 sec\n",
            " ARIMA(2,1,0)(0,1,0)[12]             : AIC=2624.309, Time=0.04 sec\n",
            " ARIMA(2,1,0)(1,1,1)[12]             : AIC=2618.781, Time=0.21 sec\n",
            " ARIMA(2,1,0)(0,1,2)[12]             : AIC=2618.766, Time=0.19 sec\n",
            " ARIMA(2,1,0)(1,1,0)[12]             : AIC=2619.292, Time=0.12 sec\n",
            " ARIMA(2,1,0)(1,1,2)[12]             : AIC=2620.722, Time=0.67 sec\n",
            " ARIMA(3,1,0)(0,1,1)[12]             : AIC=2619.177, Time=0.23 sec\n",
            " ARIMA(2,1,1)(0,1,1)[12]             : AIC=2619.506, Time=0.20 sec\n",
            " ARIMA(3,1,1)(0,1,1)[12]             : AIC=2621.501, Time=0.27 sec\n",
            " ARIMA(2,1,0)(0,1,1)[12] intercept   : AIC=2616.955, Time=0.21 sec\n",
            "\n",
            "Best model:  ARIMA(2,1,0)(0,1,1)[12]          \n",
            "Total fit time: 4.683 seconds\n"
          ]
        },
        {
          "data": {
            "text/html": [
              "<table class=\"simpletable\">\n",
              "<caption>SARIMAX Results</caption>\n",
              "<tr>\n",
              "  <th>Dep. Variable:</th>                   <td>y</td>                <th>  No. Observations:  </th>    <td>62</td>    \n",
              "</tr>\n",
              "<tr>\n",
              "  <th>Model:</th>           <td>SARIMAX(2, 1, 0)x(0, 1, [1], 12)</td> <th>  Log Likelihood     </th> <td>-1304.471</td>\n",
              "</tr>\n",
              "<tr>\n",
              "  <th>Date:</th>                    <td>Sun, 21 May 2023</td>         <th>  AIC                </th> <td>2616.941</td> \n",
              "</tr>\n",
              "<tr>\n",
              "  <th>Time:</th>                        <td>20:56:10</td>             <th>  BIC                </th> <td>2624.508</td> \n",
              "</tr>\n",
              "<tr>\n",
              "  <th>Sample:</th>                     <td>01-01-1960</td>            <th>  HQIC               </th> <td>2619.812</td> \n",
              "</tr>\n",
              "<tr>\n",
              "  <th></th>                           <td>- 01-01-2021</td>           <th>                     </th>     <td> </td>    \n",
              "</tr>\n",
              "<tr>\n",
              "  <th>Covariance Type:</th>                <td>opg</td>               <th>                     </th>     <td> </td>    \n",
              "</tr>\n",
              "</table>\n",
              "<table class=\"simpletable\">\n",
              "<tr>\n",
              "      <td></td>        <th>coef</th>     <th>std err</th>      <th>z</th>      <th>P>|z|</th>  <th>[0.025</th>    <th>0.975]</th>  \n",
              "</tr>\n",
              "<tr>\n",
              "  <th>ar.L1</th>    <td>   -0.1031</td> <td>    0.158</td> <td>   -0.653</td> <td> 0.514</td> <td>   -0.413</td> <td>    0.206</td>\n",
              "</tr>\n",
              "<tr>\n",
              "  <th>ar.L2</th>    <td>   -0.2594</td> <td>    0.231</td> <td>   -1.124</td> <td> 0.261</td> <td>   -0.711</td> <td>    0.193</td>\n",
              "</tr>\n",
              "<tr>\n",
              "  <th>ma.S.L12</th> <td>   -0.6798</td> <td>    0.229</td> <td>   -2.964</td> <td> 0.003</td> <td>   -1.129</td> <td>   -0.230</td>\n",
              "</tr>\n",
              "<tr>\n",
              "  <th>sigma2</th>   <td> 9.805e+21</td> <td> 7.39e-23</td> <td> 1.33e+44</td> <td> 0.000</td> <td> 9.81e+21</td> <td> 9.81e+21</td>\n",
              "</tr>\n",
              "</table>\n",
              "<table class=\"simpletable\">\n",
              "<tr>\n",
              "  <th>Ljung-Box (L1) (Q):</th>     <td>0.09</td>  <th>  Jarque-Bera (JB):  </th> <td>6.46</td> \n",
              "</tr>\n",
              "<tr>\n",
              "  <th>Prob(Q):</th>                <td>0.77</td>  <th>  Prob(JB):          </th> <td>0.04</td> \n",
              "</tr>\n",
              "<tr>\n",
              "  <th>Heteroskedasticity (H):</th> <td>13.06</td> <th>  Skew:              </th> <td>-0.64</td>\n",
              "</tr>\n",
              "<tr>\n",
              "  <th>Prob(H) (two-sided):</th>    <td>0.00</td>  <th>  Kurtosis:          </th> <td>4.24</td> \n",
              "</tr>\n",
              "</table><br/><br/>Warnings:<br/>[1] Covariance matrix calculated using the outer product of gradients (complex-step).<br/>[2] Covariance matrix is singular or near-singular, with condition number 6.08e+57. Standard errors may be unstable."
            ],
            "text/plain": [
              "<class 'statsmodels.iolib.summary.Summary'>\n",
              "\"\"\"\n",
              "                                      SARIMAX Results                                       \n",
              "============================================================================================\n",
              "Dep. Variable:                                    y   No. Observations:                   62\n",
              "Model:             SARIMAX(2, 1, 0)x(0, 1, [1], 12)   Log Likelihood               -1304.471\n",
              "Date:                              Sun, 21 May 2023   AIC                           2616.941\n",
              "Time:                                      20:56:10   BIC                           2624.508\n",
              "Sample:                                  01-01-1960   HQIC                          2619.812\n",
              "                                       - 01-01-2021                                         \n",
              "Covariance Type:                                opg                                         \n",
              "==============================================================================\n",
              "                 coef    std err          z      P>|z|      [0.025      0.975]\n",
              "------------------------------------------------------------------------------\n",
              "ar.L1         -0.1031      0.158     -0.653      0.514      -0.413       0.206\n",
              "ar.L2         -0.2594      0.231     -1.124      0.261      -0.711       0.193\n",
              "ma.S.L12      -0.6798      0.229     -2.964      0.003      -1.129      -0.230\n",
              "sigma2      9.805e+21   7.39e-23   1.33e+44      0.000    9.81e+21    9.81e+21\n",
              "===================================================================================\n",
              "Ljung-Box (L1) (Q):                   0.09   Jarque-Bera (JB):                 6.46\n",
              "Prob(Q):                              0.77   Prob(JB):                         0.04\n",
              "Heteroskedasticity (H):              13.06   Skew:                            -0.64\n",
              "Prob(H) (two-sided):                  0.00   Kurtosis:                         4.24\n",
              "===================================================================================\n",
              "\n",
              "Warnings:\n",
              "[1] Covariance matrix calculated using the outer product of gradients (complex-step).\n",
              "[2] Covariance matrix is singular or near-singular, with condition number 6.08e+57. Standard errors may be unstable.\n",
              "\"\"\""
            ]
          },
          "execution_count": 28,
          "metadata": {},
          "output_type": "execute_result"
        }
      ],
      "source": [
        "stepwise_fit(df_original['mex'])"
      ]
    },
    {
      "cell_type": "code",
      "execution_count": 29,
      "metadata": {
        "colab": {
          "base_uri": "https://localhost:8080/",
          "height": 748
        },
        "id": "kvYCEFArIUKb",
        "outputId": "2d162a4d-7bfd-4eb8-b7a0-3f009fa1dae4"
      },
      "outputs": [
        {
          "name": "stdout",
          "output_type": "stream",
          "text": [
            "Performing stepwise search to minimize aic\n",
            " ARIMA(1,1,1)(0,1,1)[12]             : AIC=2575.123, Time=0.16 sec\n",
            " ARIMA(0,1,0)(0,1,0)[12]             : AIC=2583.687, Time=0.02 sec\n",
            " ARIMA(1,1,0)(1,1,0)[12]             : AIC=inf, Time=0.07 sec\n",
            " ARIMA(0,1,1)(0,1,1)[12]             : AIC=2573.209, Time=0.07 sec\n",
            " ARIMA(0,1,1)(0,1,0)[12]             : AIC=2583.949, Time=0.03 sec\n",
            " ARIMA(0,1,1)(1,1,1)[12]             : AIC=2572.452, Time=0.10 sec\n",
            " ARIMA(0,1,1)(1,1,0)[12]             : AIC=2570.662, Time=0.10 sec\n",
            " ARIMA(0,1,1)(2,1,0)[12]             : AIC=2572.130, Time=0.20 sec\n",
            " ARIMA(0,1,1)(2,1,1)[12]             : AIC=inf, Time=1.20 sec\n",
            " ARIMA(0,1,0)(1,1,0)[12]             : AIC=inf, Time=0.06 sec\n",
            " ARIMA(1,1,1)(1,1,0)[12]             : AIC=2572.627, Time=0.22 sec\n",
            " ARIMA(0,1,2)(1,1,0)[12]             : AIC=2573.773, Time=0.35 sec\n",
            " ARIMA(1,1,2)(1,1,0)[12]             : AIC=2572.868, Time=0.36 sec\n",
            " ARIMA(0,1,1)(1,1,0)[12] intercept   : AIC=2572.517, Time=0.06 sec\n",
            "\n",
            "Best model:  ARIMA(0,1,1)(1,1,0)[12]          \n",
            "Total fit time: 3.027 seconds\n"
          ]
        },
        {
          "data": {
            "text/html": [
              "<table class=\"simpletable\">\n",
              "<caption>SARIMAX Results</caption>\n",
              "<tr>\n",
              "  <th>Dep. Variable:</th>                  <td>y</td>                <th>  No. Observations:  </th>    <td>62</td>    \n",
              "</tr>\n",
              "<tr>\n",
              "  <th>Model:</th>           <td>SARIMAX(0, 1, 1)x(1, 1, [], 12)</td> <th>  Log Likelihood     </th> <td>-1282.331</td>\n",
              "</tr>\n",
              "<tr>\n",
              "  <th>Date:</th>                   <td>Sun, 21 May 2023</td>         <th>  AIC                </th> <td>2570.662</td> \n",
              "</tr>\n",
              "<tr>\n",
              "  <th>Time:</th>                       <td>20:56:13</td>             <th>  BIC                </th> <td>2576.337</td> \n",
              "</tr>\n",
              "<tr>\n",
              "  <th>Sample:</th>                    <td>01-01-1960</td>            <th>  HQIC               </th> <td>2572.815</td> \n",
              "</tr>\n",
              "<tr>\n",
              "  <th></th>                          <td>- 01-01-2021</td>           <th>                     </th>     <td> </td>    \n",
              "</tr>\n",
              "<tr>\n",
              "  <th>Covariance Type:</th>               <td>opg</td>               <th>                     </th>     <td> </td>    \n",
              "</tr>\n",
              "</table>\n",
              "<table class=\"simpletable\">\n",
              "<tr>\n",
              "      <td></td>        <th>coef</th>     <th>std err</th>      <th>z</th>      <th>P>|z|</th>  <th>[0.025</th>    <th>0.975]</th>  \n",
              "</tr>\n",
              "<tr>\n",
              "  <th>ma.L1</th>    <td>   -0.0229</td> <td>    0.215</td> <td>   -0.107</td> <td> 0.915</td> <td>   -0.444</td> <td>    0.398</td>\n",
              "</tr>\n",
              "<tr>\n",
              "  <th>ar.S.L12</th> <td>   -0.9514</td> <td>    0.208</td> <td>   -4.573</td> <td> 0.000</td> <td>   -1.359</td> <td>   -0.544</td>\n",
              "</tr>\n",
              "<tr>\n",
              "  <th>sigma2</th>   <td> 4.653e+21</td> <td> 1.14e-23</td> <td> 4.07e+44</td> <td> 0.000</td> <td> 4.65e+21</td> <td> 4.65e+21</td>\n",
              "</tr>\n",
              "</table>\n",
              "<table class=\"simpletable\">\n",
              "<tr>\n",
              "  <th>Ljung-Box (L1) (Q):</th>     <td>0.00</td>  <th>  Jarque-Bera (JB):  </th> <td>16.42</td>\n",
              "</tr>\n",
              "<tr>\n",
              "  <th>Prob(Q):</th>                <td>0.97</td>  <th>  Prob(JB):          </th> <td>0.00</td> \n",
              "</tr>\n",
              "<tr>\n",
              "  <th>Heteroskedasticity (H):</th> <td>20.06</td> <th>  Skew:              </th> <td>-1.01</td>\n",
              "</tr>\n",
              "<tr>\n",
              "  <th>Prob(H) (two-sided):</th>    <td>0.00</td>  <th>  Kurtosis:          </th> <td>4.98</td> \n",
              "</tr>\n",
              "</table><br/><br/>Warnings:<br/>[1] Covariance matrix calculated using the outer product of gradients (complex-step).<br/>[2] Covariance matrix is singular or near-singular, with condition number 5.97e+60. Standard errors may be unstable."
            ],
            "text/plain": [
              "<class 'statsmodels.iolib.summary.Summary'>\n",
              "\"\"\"\n",
              "                                      SARIMAX Results                                      \n",
              "===========================================================================================\n",
              "Dep. Variable:                                   y   No. Observations:                   62\n",
              "Model:             SARIMAX(0, 1, 1)x(1, 1, [], 12)   Log Likelihood               -1282.331\n",
              "Date:                             Sun, 21 May 2023   AIC                           2570.662\n",
              "Time:                                     20:56:13   BIC                           2576.337\n",
              "Sample:                                 01-01-1960   HQIC                          2572.815\n",
              "                                      - 01-01-2021                                         \n",
              "Covariance Type:                               opg                                         \n",
              "==============================================================================\n",
              "                 coef    std err          z      P>|z|      [0.025      0.975]\n",
              "------------------------------------------------------------------------------\n",
              "ma.L1         -0.0229      0.215     -0.107      0.915      -0.444       0.398\n",
              "ar.S.L12      -0.9514      0.208     -4.573      0.000      -1.359      -0.544\n",
              "sigma2      4.653e+21   1.14e-23   4.07e+44      0.000    4.65e+21    4.65e+21\n",
              "===================================================================================\n",
              "Ljung-Box (L1) (Q):                   0.00   Jarque-Bera (JB):                16.42\n",
              "Prob(Q):                              0.97   Prob(JB):                         0.00\n",
              "Heteroskedasticity (H):              20.06   Skew:                            -1.01\n",
              "Prob(H) (two-sided):                  0.00   Kurtosis:                         4.98\n",
              "===================================================================================\n",
              "\n",
              "Warnings:\n",
              "[1] Covariance matrix calculated using the outer product of gradients (complex-step).\n",
              "[2] Covariance matrix is singular or near-singular, with condition number 5.97e+60. Standard errors may be unstable.\n",
              "\"\"\""
            ]
          },
          "execution_count": 29,
          "metadata": {},
          "output_type": "execute_result"
        }
      ],
      "source": [
        "stepwise_fit(df_original['arg'])"
      ]
    },
    {
      "cell_type": "code",
      "execution_count": 30,
      "metadata": {
        "colab": {
          "base_uri": "https://localhost:8080/",
          "height": 748
        },
        "id": "rtkYBLrpIZwU",
        "outputId": "64048e09-a9d4-4bff-c626-8427c48eb92b"
      },
      "outputs": [
        {
          "name": "stdout",
          "output_type": "stream",
          "text": [
            "Performing stepwise search to minimize aic\n",
            " ARIMA(1,1,1)(0,1,1)[12]             : AIC=2486.538, Time=0.14 sec\n",
            " ARIMA(0,1,0)(0,1,0)[12]             : AIC=2494.869, Time=0.03 sec\n",
            " ARIMA(1,1,0)(1,1,0)[12]             : AIC=inf, Time=0.20 sec\n",
            " ARIMA(0,1,1)(0,1,1)[12]             : AIC=2485.901, Time=0.09 sec\n",
            " ARIMA(0,1,1)(0,1,0)[12]             : AIC=2490.013, Time=0.04 sec\n",
            " ARIMA(0,1,1)(1,1,1)[12]             : AIC=2481.587, Time=0.35 sec\n",
            " ARIMA(0,1,1)(1,1,0)[12]             : AIC=2479.806, Time=0.16 sec\n",
            " ARIMA(0,1,1)(2,1,0)[12]             : AIC=2481.562, Time=0.37 sec\n",
            " ARIMA(0,1,1)(2,1,1)[12]             : AIC=inf, Time=0.35 sec\n",
            " ARIMA(0,1,0)(1,1,0)[12]             : AIC=inf, Time=0.10 sec\n",
            " ARIMA(1,1,1)(1,1,0)[12]             : AIC=2480.760, Time=0.26 sec\n",
            " ARIMA(0,1,2)(1,1,0)[12]             : AIC=2483.191, Time=0.26 sec\n",
            " ARIMA(1,1,2)(1,1,0)[12]             : AIC=2485.098, Time=0.24 sec\n",
            " ARIMA(0,1,1)(1,1,0)[12] intercept   : AIC=2481.387, Time=0.18 sec\n",
            "\n",
            "Best model:  ARIMA(0,1,1)(1,1,0)[12]          \n",
            "Total fit time: 2.772 seconds\n"
          ]
        },
        {
          "data": {
            "text/html": [
              "<table class=\"simpletable\">\n",
              "<caption>SARIMAX Results</caption>\n",
              "<tr>\n",
              "  <th>Dep. Variable:</th>                  <td>y</td>                <th>  No. Observations:  </th>    <td>62</td>    \n",
              "</tr>\n",
              "<tr>\n",
              "  <th>Model:</th>           <td>SARIMAX(0, 1, 1)x(1, 1, [], 12)</td> <th>  Log Likelihood     </th> <td>-1236.903</td>\n",
              "</tr>\n",
              "<tr>\n",
              "  <th>Date:</th>                   <td>Sun, 21 May 2023</td>         <th>  AIC                </th> <td>2479.806</td> \n",
              "</tr>\n",
              "<tr>\n",
              "  <th>Time:</th>                       <td>20:56:16</td>             <th>  BIC                </th> <td>2485.482</td> \n",
              "</tr>\n",
              "<tr>\n",
              "  <th>Sample:</th>                    <td>01-01-1960</td>            <th>  HQIC               </th> <td>2481.960</td> \n",
              "</tr>\n",
              "<tr>\n",
              "  <th></th>                          <td>- 01-01-2021</td>           <th>                     </th>     <td> </td>    \n",
              "</tr>\n",
              "<tr>\n",
              "  <th>Covariance Type:</th>               <td>opg</td>               <th>                     </th>     <td> </td>    \n",
              "</tr>\n",
              "</table>\n",
              "<table class=\"simpletable\">\n",
              "<tr>\n",
              "      <td></td>        <th>coef</th>     <th>std err</th>      <th>z</th>      <th>P>|z|</th>  <th>[0.025</th>    <th>0.975]</th>  \n",
              "</tr>\n",
              "<tr>\n",
              "  <th>ma.L1</th>    <td>    0.4287</td> <td>    0.212</td> <td>    2.018</td> <td> 0.044</td> <td>    0.012</td> <td>    0.845</td>\n",
              "</tr>\n",
              "<tr>\n",
              "  <th>ar.S.L12</th> <td>   -0.9999</td> <td>    0.351</td> <td>   -2.847</td> <td> 0.004</td> <td>   -1.688</td> <td>   -0.311</td>\n",
              "</tr>\n",
              "<tr>\n",
              "  <th>sigma2</th>   <td> 6.863e+20</td> <td> 3.23e-22</td> <td> 2.12e+42</td> <td> 0.000</td> <td> 6.86e+20</td> <td> 6.86e+20</td>\n",
              "</tr>\n",
              "</table>\n",
              "<table class=\"simpletable\">\n",
              "<tr>\n",
              "  <th>Ljung-Box (L1) (Q):</th>      <td>0.02</td>  <th>  Jarque-Bera (JB):  </th> <td>78.97</td>\n",
              "</tr>\n",
              "<tr>\n",
              "  <th>Prob(Q):</th>                 <td>0.89</td>  <th>  Prob(JB):          </th> <td>0.00</td> \n",
              "</tr>\n",
              "<tr>\n",
              "  <th>Heteroskedasticity (H):</th> <td>244.00</td> <th>  Skew:              </th> <td>-0.93</td>\n",
              "</tr>\n",
              "<tr>\n",
              "  <th>Prob(H) (two-sided):</th>     <td>0.00</td>  <th>  Kurtosis:          </th> <td>8.94</td> \n",
              "</tr>\n",
              "</table><br/><br/>Warnings:<br/>[1] Covariance matrix calculated using the outer product of gradients (complex-step).<br/>[2] Covariance matrix is singular or near-singular, with condition number 4.56e+57. Standard errors may be unstable."
            ],
            "text/plain": [
              "<class 'statsmodels.iolib.summary.Summary'>\n",
              "\"\"\"\n",
              "                                      SARIMAX Results                                      \n",
              "===========================================================================================\n",
              "Dep. Variable:                                   y   No. Observations:                   62\n",
              "Model:             SARIMAX(0, 1, 1)x(1, 1, [], 12)   Log Likelihood               -1236.903\n",
              "Date:                             Sun, 21 May 2023   AIC                           2479.806\n",
              "Time:                                     20:56:16   BIC                           2485.482\n",
              "Sample:                                 01-01-1960   HQIC                          2481.960\n",
              "                                      - 01-01-2021                                         \n",
              "Covariance Type:                               opg                                         \n",
              "==============================================================================\n",
              "                 coef    std err          z      P>|z|      [0.025      0.975]\n",
              "------------------------------------------------------------------------------\n",
              "ma.L1          0.4287      0.212      2.018      0.044       0.012       0.845\n",
              "ar.S.L12      -0.9999      0.351     -2.847      0.004      -1.688      -0.311\n",
              "sigma2      6.863e+20   3.23e-22   2.12e+42      0.000    6.86e+20    6.86e+20\n",
              "===================================================================================\n",
              "Ljung-Box (L1) (Q):                   0.02   Jarque-Bera (JB):                78.97\n",
              "Prob(Q):                              0.89   Prob(JB):                         0.00\n",
              "Heteroskedasticity (H):             244.00   Skew:                            -0.93\n",
              "Prob(H) (two-sided):                  0.00   Kurtosis:                         8.94\n",
              "===================================================================================\n",
              "\n",
              "Warnings:\n",
              "[1] Covariance matrix calculated using the outer product of gradients (complex-step).\n",
              "[2] Covariance matrix is singular or near-singular, with condition number 4.56e+57. Standard errors may be unstable.\n",
              "\"\"\""
            ]
          },
          "execution_count": 30,
          "metadata": {},
          "output_type": "execute_result"
        }
      ],
      "source": [
        "stepwise_fit(df_original['col'])"
      ]
    },
    {
      "cell_type": "markdown",
      "metadata": {
        "id": "nABc67PNt6PR"
      },
      "source": [
        "Los modelos arrojados son los siguientes\n",
        "1. Brasil : SARIMAX(0,1,1)(1,1,0,12)\n",
        "2. Mexico : SARIMAX(2,1,0)(0,1,1,12)\n",
        "3. Argentinca : SARIMAX(0,1,1)(0,1,1,12)\n",
        "4. Colombia : SARIMAX(0,1,1)(1,1,0,12)"
      ]
    },
    {
      "cell_type": "markdown",
      "metadata": {
        "id": "vdKnxdVtIqUL"
      },
      "source": [
        "## Entrenamiento del modelo"
      ]
    },
    {
      "cell_type": "markdown",
      "metadata": {
        "id": "AYQQc_iso0-D"
      },
      "source": [
        "Se procederá a realizar la estimación del modelo y a obtener un resumen del mismo mediante la función `SARIMAX` de la biblioteca `Statsmodels`. Con esta herramienta, podremos ajustar un modelo SARIMAX a nuestros datos y obtener información resumida sobre el modelo estimado, como sus parámetros, el ajuste a los datos y las estadísticas de diagnóstico"
      ]
    },
    {
      "cell_type": "code",
      "execution_count": 31,
      "metadata": {
        "colab": {
          "base_uri": "https://localhost:8080/"
        },
        "id": "mnT3SlHOQanL",
        "outputId": "eea34cfe-19c4-46e9-d895-46382242ed5d"
      },
      "outputs": [
        {
          "name": "stdout",
          "output_type": "stream",
          "text": [
            "                                      SARIMAX Results                                      \n",
            "===========================================================================================\n",
            "Dep. Variable:                                 bra   No. Observations:                   54\n",
            "Model:             SARIMAX(0, 1, 1)x(1, 1, [], 12)   Log Likelihood               -1111.196\n",
            "Date:                             Sun, 21 May 2023   AIC                           2228.392\n",
            "Time:                                     20:56:17   BIC                           2233.533\n",
            "Sample:                                 12-31-1960   HQIC                          2230.264\n",
            "                                      - 12-31-2013                                         \n",
            "Covariance Type:                               opg                                         \n",
            "==============================================================================\n",
            "                 coef    std err          z      P>|z|      [0.025      0.975]\n",
            "------------------------------------------------------------------------------\n",
            "ma.L1          0.6164      0.236      2.615      0.009       0.154       1.078\n",
            "ar.S.L12      -1.0000      0.300     -3.338      0.001      -1.587      -0.413\n",
            "sigma2      3.099e+22      7e-24   4.43e+45      0.000     3.1e+22     3.1e+22\n",
            "===================================================================================\n",
            "Ljung-Box (L1) (Q):                   0.44   Jarque-Bera (JB):                59.35\n",
            "Prob(Q):                              0.51   Prob(JB):                         0.00\n",
            "Heteroskedasticity (H):              41.10   Skew:                             1.29\n",
            "Prob(H) (two-sided):                  0.00   Kurtosis:                         8.30\n",
            "===================================================================================\n",
            "\n",
            "Warnings:\n",
            "[1] Covariance matrix calculated using the outer product of gradients (complex-step).\n",
            "[2] Covariance matrix is singular or near-singular, with condition number 3.61e+60. Standard errors may be unstable.\n"
          ]
        }
      ],
      "source": [
        "modbra = SARIMAX(df_train['bra'],order = (0, 1, 1), \n",
        "                seasonal_order =(1, 1, [], 12))\n",
        "resbra = modbra.fit()\n",
        "print(resbra.summary())"
      ]
    },
    {
      "cell_type": "code",
      "execution_count": 32,
      "metadata": {
        "colab": {
          "base_uri": "https://localhost:8080/"
        },
        "id": "FYFXar2cQ9UC",
        "outputId": "0b959c2a-99bb-4b81-f516-095d596b00a1"
      },
      "outputs": [
        {
          "name": "stdout",
          "output_type": "stream",
          "text": [
            "                                      SARIMAX Results                                       \n",
            "============================================================================================\n",
            "Dep. Variable:                                  mex   No. Observations:                   54\n",
            "Model:             SARIMAX(2, 1, 0)x(0, 1, [1], 12)   Log Likelihood               -1083.469\n",
            "Date:                              Sun, 21 May 2023   AIC                           2174.939\n",
            "Time:                                      20:56:17   BIC                           2181.793\n",
            "Sample:                                  12-31-1960   HQIC                          2177.435\n",
            "                                       - 12-31-2013                                         \n",
            "Covariance Type:                                opg                                         \n",
            "==============================================================================\n",
            "                 coef    std err          z      P>|z|      [0.025      0.975]\n",
            "------------------------------------------------------------------------------\n",
            "ar.L1          0.0053      0.132      0.040      0.968      -0.254       0.264\n",
            "ar.L2         -0.3541      0.151     -2.340      0.019      -0.651      -0.058\n",
            "ma.S.L12      -0.4393      0.270     -1.630      0.103      -0.968       0.089\n",
            "sigma2      5.829e+21        nan        nan        nan         nan         nan\n",
            "===================================================================================\n",
            "Ljung-Box (L1) (Q):                   0.31   Jarque-Bera (JB):                 9.54\n",
            "Prob(Q):                              0.58   Prob(JB):                         0.01\n",
            "Heteroskedasticity (H):               7.22   Skew:                            -0.60\n",
            "Prob(H) (two-sided):                  0.00   Kurtosis:                         5.04\n",
            "===================================================================================\n",
            "\n",
            "Warnings:\n",
            "[1] Covariance matrix calculated using the outer product of gradients (complex-step).\n",
            "[2] Covariance matrix is singular or near-singular, with condition number    inf. Standard errors may be unstable.\n"
          ]
        }
      ],
      "source": [
        "modmex = SARIMAX(df_train['mex'],order = (2, 1, 0), \n",
        "                seasonal_order =(0, 1, [1], 12))\n",
        "resmex = modmex.fit()\n",
        "print(resmex.summary())"
      ]
    },
    {
      "cell_type": "code",
      "execution_count": 33,
      "metadata": {
        "colab": {
          "base_uri": "https://localhost:8080/"
        },
        "id": "wY_rHU4h36T_",
        "outputId": "d40d8e14-71e8-41cd-8861-eb9d3f71920f"
      },
      "outputs": [
        {
          "name": "stdout",
          "output_type": "stream",
          "text": [
            "                                     SARIMAX Results                                      \n",
            "==========================================================================================\n",
            "Dep. Variable:                                arg   No. Observations:                   54\n",
            "Model:             SARIMAX(0, 1, 1)x(0, 1, 1, 12)   Log Likelihood               -1065.745\n",
            "Date:                            Sun, 21 May 2023   AIC                           2137.489\n",
            "Time:                                    20:56:17   BIC                           2142.630\n",
            "Sample:                                12-31-1960   HQIC                          2139.361\n",
            "                                     - 12-31-2013                                         \n",
            "Covariance Type:                              opg                                         \n",
            "==============================================================================\n",
            "                 coef    std err          z      P>|z|      [0.025      0.975]\n",
            "------------------------------------------------------------------------------\n",
            "ma.L1          0.1026      0.205      0.501      0.616      -0.299       0.504\n",
            "ma.S.L12      -0.6397      0.203     -3.155      0.002      -1.037      -0.242\n",
            "sigma2      2.809e+21   1.53e-22   1.84e+43      0.000    2.81e+21    2.81e+21\n",
            "===================================================================================\n",
            "Ljung-Box (L1) (Q):                   0.03   Jarque-Bera (JB):               176.74\n",
            "Prob(Q):                              0.85   Prob(JB):                         0.00\n",
            "Heteroskedasticity (H):              24.87   Skew:                            -2.01\n",
            "Prob(H) (two-sided):                  0.00   Kurtosis:                        12.34\n",
            "===================================================================================\n",
            "\n",
            "Warnings:\n",
            "[1] Covariance matrix calculated using the outer product of gradients (complex-step).\n",
            "[2] Covariance matrix is singular or near-singular, with condition number    inf. Standard errors may be unstable.\n"
          ]
        }
      ],
      "source": [
        "modarg = SARIMAX(df_train['arg'],order = (0, 1, 1), \n",
        "                seasonal_order =(0, 1, [1], 12))\n",
        "resarg = modarg.fit()\n",
        "print(resarg.summary())"
      ]
    },
    {
      "cell_type": "code",
      "execution_count": 34,
      "metadata": {
        "colab": {
          "base_uri": "https://localhost:8080/"
        },
        "id": "V6s9SVNe4W1N",
        "outputId": "ef73dcb2-044b-4ae2-a7c4-7bb72394357e"
      },
      "outputs": [
        {
          "name": "stdout",
          "output_type": "stream",
          "text": [
            "                                      SARIMAX Results                                      \n",
            "===========================================================================================\n",
            "Dep. Variable:                                 col   No. Observations:                   54\n",
            "Model:             SARIMAX(0, 1, 1)x(1, 1, [], 12)   Log Likelihood               -1018.928\n",
            "Date:                             Sun, 21 May 2023   AIC                           2043.855\n",
            "Time:                                     20:56:17   BIC                           2048.996\n",
            "Sample:                                 12-31-1960   HQIC                          2045.727\n",
            "                                      - 12-31-2013                                         \n",
            "Covariance Type:                               opg                                         \n",
            "==============================================================================\n",
            "                 coef    std err          z      P>|z|      [0.025      0.975]\n",
            "------------------------------------------------------------------------------\n",
            "ma.L1          0.5411      0.195      2.775      0.006       0.159       0.923\n",
            "ar.S.L12      -0.9999      0.301     -3.325      0.001      -1.589      -0.411\n",
            "sigma2      3.018e+20   1.96e-21   1.54e+41      0.000    3.02e+20    3.02e+20\n",
            "===================================================================================\n",
            "Ljung-Box (L1) (Q):                   0.13   Jarque-Bera (JB):                89.53\n",
            "Prob(Q):                              0.72   Prob(JB):                         0.00\n",
            "Heteroskedasticity (H):             111.41   Skew:                             2.07\n",
            "Prob(H) (two-sided):                  0.00   Kurtosis:                         8.93\n",
            "===================================================================================\n",
            "\n",
            "Warnings:\n",
            "[1] Covariance matrix calculated using the outer product of gradients (complex-step).\n",
            "[2] Covariance matrix is singular or near-singular, with condition number 2.9e+56. Standard errors may be unstable.\n"
          ]
        }
      ],
      "source": [
        "modcol = SARIMAX(df_train['col'],order = (0, 1, 1), \n",
        "                seasonal_order =(1, 1, [0], 12))\n",
        "rescol = modcol.fit()\n",
        "print(rescol.summary())"
      ]
    },
    {
      "cell_type": "markdown",
      "metadata": {
        "id": "yjtRe1RlRnqL"
      },
      "source": [
        "## **Pronosticos**"
      ]
    },
    {
      "cell_type": "code",
      "execution_count": 35,
      "metadata": {
        "id": "d225sInb5kh5"
      },
      "outputs": [],
      "source": [
        "df_originalperiod.index = df_originalperiod.index.to_timestamp()\n",
        "df_train.index = df_train.index.to_timestamp()\n",
        "df_test.index = df_test.index.to_timestamp()"
      ]
    },
    {
      "cell_type": "code",
      "execution_count": 36,
      "metadata": {
        "colab": {
          "base_uri": "https://localhost:8080/",
          "height": 542
        },
        "id": "z_VVhbE75CBJ",
        "outputId": "58655888-d823-49d7-f63d-9e554d641eed"
      },
      "outputs": [
        {
          "data": {
            "application/vnd.plotly.v1+json": {
              "config": {
                "plotlyServerURL": "https://plot.ly"
              },
              "data": [
                {
                  "mode": "lines",
                  "name": "Brasil",
                  "type": "scatter",
                  "x": [
                    "1960-01-01T00:00:00",
                    "1961-01-01T00:00:00",
                    "1962-01-01T00:00:00",
                    "1963-01-01T00:00:00",
                    "1964-01-01T00:00:00",
                    "1965-01-01T00:00:00",
                    "1966-01-01T00:00:00",
                    "1967-01-01T00:00:00",
                    "1968-01-01T00:00:00",
                    "1969-01-01T00:00:00",
                    "1970-01-01T00:00:00",
                    "1971-01-01T00:00:00",
                    "1972-01-01T00:00:00",
                    "1973-01-01T00:00:00",
                    "1974-01-01T00:00:00",
                    "1975-01-01T00:00:00",
                    "1976-01-01T00:00:00",
                    "1977-01-01T00:00:00",
                    "1978-01-01T00:00:00",
                    "1979-01-01T00:00:00",
                    "1980-01-01T00:00:00",
                    "1981-01-01T00:00:00",
                    "1982-01-01T00:00:00",
                    "1983-01-01T00:00:00",
                    "1984-01-01T00:00:00",
                    "1985-01-01T00:00:00",
                    "1986-01-01T00:00:00",
                    "1987-01-01T00:00:00",
                    "1988-01-01T00:00:00",
                    "1989-01-01T00:00:00",
                    "1990-01-01T00:00:00",
                    "1991-01-01T00:00:00",
                    "1992-01-01T00:00:00",
                    "1993-01-01T00:00:00",
                    "1994-01-01T00:00:00",
                    "1995-01-01T00:00:00",
                    "1996-01-01T00:00:00",
                    "1997-01-01T00:00:00",
                    "1998-01-01T00:00:00",
                    "1999-01-01T00:00:00",
                    "2000-01-01T00:00:00",
                    "2001-01-01T00:00:00",
                    "2002-01-01T00:00:00",
                    "2003-01-01T00:00:00",
                    "2004-01-01T00:00:00",
                    "2005-01-01T00:00:00",
                    "2006-01-01T00:00:00",
                    "2007-01-01T00:00:00",
                    "2008-01-01T00:00:00",
                    "2009-01-01T00:00:00",
                    "2010-01-01T00:00:00",
                    "2011-01-01T00:00:00",
                    "2012-01-01T00:00:00",
                    "2013-01-01T00:00:00",
                    "2014-01-01T00:00:00",
                    "2015-01-01T00:00:00",
                    "2016-01-01T00:00:00",
                    "2017-01-01T00:00:00",
                    "2018-01-01T00:00:00",
                    "2019-01-01T00:00:00",
                    "2020-01-01T00:00:00",
                    "2021-01-01T00:00:00"
                  ],
                  "y": [
                    17030465539.390615,
                    17275940449.383743,
                    19231747851.533188,
                    23287712878.20023,
                    20963733694.974895,
                    22465522884.098793,
                    28283323733.11135,
                    31086389194.96098,
                    33930457425.261284,
                    37171640818.58632,
                    42327664793.69339,
                    48869830901.78776,
                    58434858374.8696,
                    83592275862.9982,
                    109794519727.53831,
                    129203555238.82715,
                    153168949208.2069,
                    176344101401.94095,
                    200278646123.5813,
                    221338204480.22247,
                    237393489892.63696,
                    258015174748.64758,
                    271314113768.41696,
                    189656506321.4308,
                    188339974086.58005,
                    176123719326.59256,
                    215878631802.7797,
                    237517984427.80588,
                    258816125587.50485,
                    347028139590.2275,
                    390725626002.86566,
                    342609231342.78314,
                    328187960871.95056,
                    368295778245.09015,
                    525369851353.7422,
                    769333330411.5753,
                    850426432991.7421,
                    883206452805.5039,
                    863711007313.8772,
                    599642075029.8354,
                    655448188237.3712,
                    559991261406.1968,
                    509788814956.8552,
                    558229210852.9651,
                    669293772178.7289,
                    891630177209.99,
                    1107640289661.196,
                    1397084349956.3452,
                    1695824565928.6726,
                    1667019783635.0906,
                    2208871646202.8193,
                    2616201578192.2524,
                    2465188674415.032,
                    2472806919901.6743,
                    2455993625159.3706,
                    1802214373741.3206,
                    1795700168991.4932,
                    2063507864886.8835,
                    1916947014067.5461,
                    1873274432754.4683,
                    1448559976218.1875,
                    1608981456325.078
                  ]
                },
                {
                  "mode": "lines",
                  "name": "train",
                  "type": "scatter",
                  "x": [
                    "1960-01-01T00:00:00",
                    "1961-01-01T00:00:00",
                    "1962-01-01T00:00:00",
                    "1963-01-01T00:00:00",
                    "1964-01-01T00:00:00",
                    "1965-01-01T00:00:00",
                    "1966-01-01T00:00:00",
                    "1967-01-01T00:00:00",
                    "1968-01-01T00:00:00",
                    "1969-01-01T00:00:00",
                    "1970-01-01T00:00:00",
                    "1971-01-01T00:00:00",
                    "1972-01-01T00:00:00",
                    "1973-01-01T00:00:00",
                    "1974-01-01T00:00:00",
                    "1975-01-01T00:00:00",
                    "1976-01-01T00:00:00",
                    "1977-01-01T00:00:00",
                    "1978-01-01T00:00:00",
                    "1979-01-01T00:00:00",
                    "1980-01-01T00:00:00",
                    "1981-01-01T00:00:00",
                    "1982-01-01T00:00:00",
                    "1983-01-01T00:00:00",
                    "1984-01-01T00:00:00",
                    "1985-01-01T00:00:00",
                    "1986-01-01T00:00:00",
                    "1987-01-01T00:00:00",
                    "1988-01-01T00:00:00",
                    "1989-01-01T00:00:00",
                    "1990-01-01T00:00:00",
                    "1991-01-01T00:00:00",
                    "1992-01-01T00:00:00",
                    "1993-01-01T00:00:00",
                    "1994-01-01T00:00:00",
                    "1995-01-01T00:00:00",
                    "1996-01-01T00:00:00",
                    "1997-01-01T00:00:00",
                    "1998-01-01T00:00:00",
                    "1999-01-01T00:00:00",
                    "2000-01-01T00:00:00",
                    "2001-01-01T00:00:00",
                    "2002-01-01T00:00:00",
                    "2003-01-01T00:00:00",
                    "2004-01-01T00:00:00",
                    "2005-01-01T00:00:00",
                    "2006-01-01T00:00:00",
                    "2007-01-01T00:00:00",
                    "2008-01-01T00:00:00",
                    "2009-01-01T00:00:00",
                    "2010-01-01T00:00:00",
                    "2011-01-01T00:00:00",
                    "2012-01-01T00:00:00",
                    "2013-01-01T00:00:00"
                  ],
                  "y": [
                    17030465539.390615,
                    17275940449.383743,
                    19231747851.533188,
                    23287712878.20023,
                    20963733694.974895,
                    22465522884.098793,
                    28283323733.11135,
                    31086389194.96098,
                    33930457425.261284,
                    37171640818.58632,
                    42327664793.69339,
                    48869830901.78776,
                    58434858374.8696,
                    83592275862.9982,
                    109794519727.53831,
                    129203555238.82715,
                    153168949208.2069,
                    176344101401.94095,
                    200278646123.5813,
                    221338204480.22247,
                    237393489892.63696,
                    258015174748.64758,
                    271314113768.41696,
                    189656506321.4308,
                    188339974086.58005,
                    176123719326.59256,
                    215878631802.7797,
                    237517984427.80588,
                    258816125587.50485,
                    347028139590.2275,
                    390725626002.86566,
                    342609231342.78314,
                    328187960871.95056,
                    368295778245.09015,
                    525369851353.7422,
                    769333330411.5753,
                    850426432991.7421,
                    883206452805.5039,
                    863711007313.8772,
                    599642075029.8354,
                    655448188237.3712,
                    559991261406.1968,
                    509788814956.8552,
                    558229210852.9651,
                    669293772178.7289,
                    891630177209.99,
                    1107640289661.196,
                    1397084349956.3452,
                    1695824565928.6726,
                    1667019783635.0906,
                    2208871646202.8193,
                    2616201578192.2524,
                    2465188674415.032,
                    2472806919901.6743
                  ]
                },
                {
                  "mode": "lines",
                  "name": "test",
                  "type": "scatter",
                  "x": [
                    "2014-01-01T00:00:00",
                    "2015-01-01T00:00:00",
                    "2016-01-01T00:00:00",
                    "2017-01-01T00:00:00",
                    "2018-01-01T00:00:00",
                    "2019-01-01T00:00:00",
                    "2020-01-01T00:00:00",
                    "2021-01-01T00:00:00"
                  ],
                  "y": [
                    2455993625159.3706,
                    1802214373741.3206,
                    1795700168991.4932,
                    2063507864886.8835,
                    1916947014067.5461,
                    1873274432754.4683,
                    1448559976218.1875,
                    1608981456325.078
                  ]
                },
                {
                  "mode": "lines",
                  "name": "Predicción",
                  "type": "scatter",
                  "x": [
                    "2014-01-01T00:00:00",
                    "2015-01-01T00:00:00",
                    "2016-01-01T00:00:00",
                    "2017-01-01T00:00:00",
                    "2018-01-01T00:00:00",
                    "2019-01-01T00:00:00",
                    "2020-01-01T00:00:00",
                    "2021-01-01T00:00:00",
                    "2022-01-01T00:00:00",
                    "2023-01-01T00:00:00",
                    "2024-01-01T00:00:00",
                    "2025-01-01T00:00:00",
                    "2026-01-01T00:00:00"
                  ],
                  "y": [
                    2542295596023.696,
                    2494181794590.255,
                    2479763894293.5996,
                    2519876605781.65,
                    2676952261736.071,
                    2920916962266.3066,
                    3002015910197.0664,
                    3034794276027.213,
                    3015313906645.574,
                    2751263006127.2114,
                    2807063564794.443,
                    2711609406254.1514,
                    2661410174350.426
                  ]
                },
                {
                  "fill": "tonexty",
                  "mode": "lines",
                  "name": "Intervalo de confianza superior",
                  "type": "scatter",
                  "x": [
                    "2014-01-01T00:00:00",
                    "2015-01-01T00:00:00",
                    "2016-01-01T00:00:00",
                    "2017-01-01T00:00:00",
                    "2018-01-01T00:00:00",
                    "2019-01-01T00:00:00",
                    "2020-01-01T00:00:00",
                    "2021-01-01T00:00:00",
                    "2022-01-01T00:00:00",
                    "2023-01-01T00:00:00",
                    "2024-01-01T00:00:00",
                    "2025-01-01T00:00:00",
                    "2026-01-01T00:00:00"
                  ],
                  "y": [
                    2887340054339.678,
                    3150005734477.832,
                    3340667142077.4365,
                    3545646445443.478,
                    3844536573841.602,
                    4214865372285.0527,
                    4411041051812.764,
                    4550182414960.678,
                    4630074128330.306,
                    4459624775615.869,
                    4604158247154.143,
                    4593257263660.155,
                    4623974404604.635
                  ]
                },
                {
                  "fill": "tonexty",
                  "mode": "lines",
                  "name": "Intervalo de confianza inferior",
                  "type": "scatter",
                  "x": [
                    "2014-01-01T00:00:00",
                    "2015-01-01T00:00:00",
                    "2016-01-01T00:00:00",
                    "2017-01-01T00:00:00",
                    "2018-01-01T00:00:00",
                    "2019-01-01T00:00:00",
                    "2020-01-01T00:00:00",
                    "2021-01-01T00:00:00",
                    "2022-01-01T00:00:00",
                    "2023-01-01T00:00:00",
                    "2024-01-01T00:00:00",
                    "2025-01-01T00:00:00",
                    "2026-01-01T00:00:00"
                  ],
                  "y": [
                    2197251137707.7134,
                    1838357854702.678,
                    1618860646509.7627,
                    1494106766119.8218,
                    1509367949630.5396,
                    1626968552247.5605,
                    1592990768581.3694,
                    1519406137093.7483,
                    1400553684960.8425,
                    1042901236638.554,
                    1009968882434.7427,
                    829961548848.1472,
                    698845944096.2173
                  ]
                }
              ],
              "layout": {
                "hovermode": "x",
                "template": {
                  "data": {
                    "bar": [
                      {
                        "error_x": {
                          "color": "#2a3f5f"
                        },
                        "error_y": {
                          "color": "#2a3f5f"
                        },
                        "marker": {
                          "line": {
                            "color": "#E5ECF6",
                            "width": 0.5
                          },
                          "pattern": {
                            "fillmode": "overlay",
                            "size": 10,
                            "solidity": 0.2
                          }
                        },
                        "type": "bar"
                      }
                    ],
                    "barpolar": [
                      {
                        "marker": {
                          "line": {
                            "color": "#E5ECF6",
                            "width": 0.5
                          },
                          "pattern": {
                            "fillmode": "overlay",
                            "size": 10,
                            "solidity": 0.2
                          }
                        },
                        "type": "barpolar"
                      }
                    ],
                    "carpet": [
                      {
                        "aaxis": {
                          "endlinecolor": "#2a3f5f",
                          "gridcolor": "white",
                          "linecolor": "white",
                          "minorgridcolor": "white",
                          "startlinecolor": "#2a3f5f"
                        },
                        "baxis": {
                          "endlinecolor": "#2a3f5f",
                          "gridcolor": "white",
                          "linecolor": "white",
                          "minorgridcolor": "white",
                          "startlinecolor": "#2a3f5f"
                        },
                        "type": "carpet"
                      }
                    ],
                    "choropleth": [
                      {
                        "colorbar": {
                          "outlinewidth": 0,
                          "ticks": ""
                        },
                        "type": "choropleth"
                      }
                    ],
                    "contour": [
                      {
                        "colorbar": {
                          "outlinewidth": 0,
                          "ticks": ""
                        },
                        "colorscale": [
                          [
                            0,
                            "#0d0887"
                          ],
                          [
                            0.1111111111111111,
                            "#46039f"
                          ],
                          [
                            0.2222222222222222,
                            "#7201a8"
                          ],
                          [
                            0.3333333333333333,
                            "#9c179e"
                          ],
                          [
                            0.4444444444444444,
                            "#bd3786"
                          ],
                          [
                            0.5555555555555556,
                            "#d8576b"
                          ],
                          [
                            0.6666666666666666,
                            "#ed7953"
                          ],
                          [
                            0.7777777777777778,
                            "#fb9f3a"
                          ],
                          [
                            0.8888888888888888,
                            "#fdca26"
                          ],
                          [
                            1,
                            "#f0f921"
                          ]
                        ],
                        "type": "contour"
                      }
                    ],
                    "contourcarpet": [
                      {
                        "colorbar": {
                          "outlinewidth": 0,
                          "ticks": ""
                        },
                        "type": "contourcarpet"
                      }
                    ],
                    "heatmap": [
                      {
                        "colorbar": {
                          "outlinewidth": 0,
                          "ticks": ""
                        },
                        "colorscale": [
                          [
                            0,
                            "#0d0887"
                          ],
                          [
                            0.1111111111111111,
                            "#46039f"
                          ],
                          [
                            0.2222222222222222,
                            "#7201a8"
                          ],
                          [
                            0.3333333333333333,
                            "#9c179e"
                          ],
                          [
                            0.4444444444444444,
                            "#bd3786"
                          ],
                          [
                            0.5555555555555556,
                            "#d8576b"
                          ],
                          [
                            0.6666666666666666,
                            "#ed7953"
                          ],
                          [
                            0.7777777777777778,
                            "#fb9f3a"
                          ],
                          [
                            0.8888888888888888,
                            "#fdca26"
                          ],
                          [
                            1,
                            "#f0f921"
                          ]
                        ],
                        "type": "heatmap"
                      }
                    ],
                    "heatmapgl": [
                      {
                        "colorbar": {
                          "outlinewidth": 0,
                          "ticks": ""
                        },
                        "colorscale": [
                          [
                            0,
                            "#0d0887"
                          ],
                          [
                            0.1111111111111111,
                            "#46039f"
                          ],
                          [
                            0.2222222222222222,
                            "#7201a8"
                          ],
                          [
                            0.3333333333333333,
                            "#9c179e"
                          ],
                          [
                            0.4444444444444444,
                            "#bd3786"
                          ],
                          [
                            0.5555555555555556,
                            "#d8576b"
                          ],
                          [
                            0.6666666666666666,
                            "#ed7953"
                          ],
                          [
                            0.7777777777777778,
                            "#fb9f3a"
                          ],
                          [
                            0.8888888888888888,
                            "#fdca26"
                          ],
                          [
                            1,
                            "#f0f921"
                          ]
                        ],
                        "type": "heatmapgl"
                      }
                    ],
                    "histogram": [
                      {
                        "marker": {
                          "pattern": {
                            "fillmode": "overlay",
                            "size": 10,
                            "solidity": 0.2
                          }
                        },
                        "type": "histogram"
                      }
                    ],
                    "histogram2d": [
                      {
                        "colorbar": {
                          "outlinewidth": 0,
                          "ticks": ""
                        },
                        "colorscale": [
                          [
                            0,
                            "#0d0887"
                          ],
                          [
                            0.1111111111111111,
                            "#46039f"
                          ],
                          [
                            0.2222222222222222,
                            "#7201a8"
                          ],
                          [
                            0.3333333333333333,
                            "#9c179e"
                          ],
                          [
                            0.4444444444444444,
                            "#bd3786"
                          ],
                          [
                            0.5555555555555556,
                            "#d8576b"
                          ],
                          [
                            0.6666666666666666,
                            "#ed7953"
                          ],
                          [
                            0.7777777777777778,
                            "#fb9f3a"
                          ],
                          [
                            0.8888888888888888,
                            "#fdca26"
                          ],
                          [
                            1,
                            "#f0f921"
                          ]
                        ],
                        "type": "histogram2d"
                      }
                    ],
                    "histogram2dcontour": [
                      {
                        "colorbar": {
                          "outlinewidth": 0,
                          "ticks": ""
                        },
                        "colorscale": [
                          [
                            0,
                            "#0d0887"
                          ],
                          [
                            0.1111111111111111,
                            "#46039f"
                          ],
                          [
                            0.2222222222222222,
                            "#7201a8"
                          ],
                          [
                            0.3333333333333333,
                            "#9c179e"
                          ],
                          [
                            0.4444444444444444,
                            "#bd3786"
                          ],
                          [
                            0.5555555555555556,
                            "#d8576b"
                          ],
                          [
                            0.6666666666666666,
                            "#ed7953"
                          ],
                          [
                            0.7777777777777778,
                            "#fb9f3a"
                          ],
                          [
                            0.8888888888888888,
                            "#fdca26"
                          ],
                          [
                            1,
                            "#f0f921"
                          ]
                        ],
                        "type": "histogram2dcontour"
                      }
                    ],
                    "mesh3d": [
                      {
                        "colorbar": {
                          "outlinewidth": 0,
                          "ticks": ""
                        },
                        "type": "mesh3d"
                      }
                    ],
                    "parcoords": [
                      {
                        "line": {
                          "colorbar": {
                            "outlinewidth": 0,
                            "ticks": ""
                          }
                        },
                        "type": "parcoords"
                      }
                    ],
                    "pie": [
                      {
                        "automargin": true,
                        "type": "pie"
                      }
                    ],
                    "scatter": [
                      {
                        "fillpattern": {
                          "fillmode": "overlay",
                          "size": 10,
                          "solidity": 0.2
                        },
                        "type": "scatter"
                      }
                    ],
                    "scatter3d": [
                      {
                        "line": {
                          "colorbar": {
                            "outlinewidth": 0,
                            "ticks": ""
                          }
                        },
                        "marker": {
                          "colorbar": {
                            "outlinewidth": 0,
                            "ticks": ""
                          }
                        },
                        "type": "scatter3d"
                      }
                    ],
                    "scattercarpet": [
                      {
                        "marker": {
                          "colorbar": {
                            "outlinewidth": 0,
                            "ticks": ""
                          }
                        },
                        "type": "scattercarpet"
                      }
                    ],
                    "scattergeo": [
                      {
                        "marker": {
                          "colorbar": {
                            "outlinewidth": 0,
                            "ticks": ""
                          }
                        },
                        "type": "scattergeo"
                      }
                    ],
                    "scattergl": [
                      {
                        "marker": {
                          "colorbar": {
                            "outlinewidth": 0,
                            "ticks": ""
                          }
                        },
                        "type": "scattergl"
                      }
                    ],
                    "scattermapbox": [
                      {
                        "marker": {
                          "colorbar": {
                            "outlinewidth": 0,
                            "ticks": ""
                          }
                        },
                        "type": "scattermapbox"
                      }
                    ],
                    "scatterpolar": [
                      {
                        "marker": {
                          "colorbar": {
                            "outlinewidth": 0,
                            "ticks": ""
                          }
                        },
                        "type": "scatterpolar"
                      }
                    ],
                    "scatterpolargl": [
                      {
                        "marker": {
                          "colorbar": {
                            "outlinewidth": 0,
                            "ticks": ""
                          }
                        },
                        "type": "scatterpolargl"
                      }
                    ],
                    "scatterternary": [
                      {
                        "marker": {
                          "colorbar": {
                            "outlinewidth": 0,
                            "ticks": ""
                          }
                        },
                        "type": "scatterternary"
                      }
                    ],
                    "surface": [
                      {
                        "colorbar": {
                          "outlinewidth": 0,
                          "ticks": ""
                        },
                        "colorscale": [
                          [
                            0,
                            "#0d0887"
                          ],
                          [
                            0.1111111111111111,
                            "#46039f"
                          ],
                          [
                            0.2222222222222222,
                            "#7201a8"
                          ],
                          [
                            0.3333333333333333,
                            "#9c179e"
                          ],
                          [
                            0.4444444444444444,
                            "#bd3786"
                          ],
                          [
                            0.5555555555555556,
                            "#d8576b"
                          ],
                          [
                            0.6666666666666666,
                            "#ed7953"
                          ],
                          [
                            0.7777777777777778,
                            "#fb9f3a"
                          ],
                          [
                            0.8888888888888888,
                            "#fdca26"
                          ],
                          [
                            1,
                            "#f0f921"
                          ]
                        ],
                        "type": "surface"
                      }
                    ],
                    "table": [
                      {
                        "cells": {
                          "fill": {
                            "color": "#EBF0F8"
                          },
                          "line": {
                            "color": "white"
                          }
                        },
                        "header": {
                          "fill": {
                            "color": "#C8D4E3"
                          },
                          "line": {
                            "color": "white"
                          }
                        },
                        "type": "table"
                      }
                    ]
                  },
                  "layout": {
                    "annotationdefaults": {
                      "arrowcolor": "#2a3f5f",
                      "arrowhead": 0,
                      "arrowwidth": 1
                    },
                    "autotypenumbers": "strict",
                    "coloraxis": {
                      "colorbar": {
                        "outlinewidth": 0,
                        "ticks": ""
                      }
                    },
                    "colorscale": {
                      "diverging": [
                        [
                          0,
                          "#8e0152"
                        ],
                        [
                          0.1,
                          "#c51b7d"
                        ],
                        [
                          0.2,
                          "#de77ae"
                        ],
                        [
                          0.3,
                          "#f1b6da"
                        ],
                        [
                          0.4,
                          "#fde0ef"
                        ],
                        [
                          0.5,
                          "#f7f7f7"
                        ],
                        [
                          0.6,
                          "#e6f5d0"
                        ],
                        [
                          0.7,
                          "#b8e186"
                        ],
                        [
                          0.8,
                          "#7fbc41"
                        ],
                        [
                          0.9,
                          "#4d9221"
                        ],
                        [
                          1,
                          "#276419"
                        ]
                      ],
                      "sequential": [
                        [
                          0,
                          "#0d0887"
                        ],
                        [
                          0.1111111111111111,
                          "#46039f"
                        ],
                        [
                          0.2222222222222222,
                          "#7201a8"
                        ],
                        [
                          0.3333333333333333,
                          "#9c179e"
                        ],
                        [
                          0.4444444444444444,
                          "#bd3786"
                        ],
                        [
                          0.5555555555555556,
                          "#d8576b"
                        ],
                        [
                          0.6666666666666666,
                          "#ed7953"
                        ],
                        [
                          0.7777777777777778,
                          "#fb9f3a"
                        ],
                        [
                          0.8888888888888888,
                          "#fdca26"
                        ],
                        [
                          1,
                          "#f0f921"
                        ]
                      ],
                      "sequentialminus": [
                        [
                          0,
                          "#0d0887"
                        ],
                        [
                          0.1111111111111111,
                          "#46039f"
                        ],
                        [
                          0.2222222222222222,
                          "#7201a8"
                        ],
                        [
                          0.3333333333333333,
                          "#9c179e"
                        ],
                        [
                          0.4444444444444444,
                          "#bd3786"
                        ],
                        [
                          0.5555555555555556,
                          "#d8576b"
                        ],
                        [
                          0.6666666666666666,
                          "#ed7953"
                        ],
                        [
                          0.7777777777777778,
                          "#fb9f3a"
                        ],
                        [
                          0.8888888888888888,
                          "#fdca26"
                        ],
                        [
                          1,
                          "#f0f921"
                        ]
                      ]
                    },
                    "colorway": [
                      "#636efa",
                      "#EF553B",
                      "#00cc96",
                      "#ab63fa",
                      "#FFA15A",
                      "#19d3f3",
                      "#FF6692",
                      "#B6E880",
                      "#FF97FF",
                      "#FECB52"
                    ],
                    "font": {
                      "color": "#2a3f5f"
                    },
                    "geo": {
                      "bgcolor": "white",
                      "lakecolor": "white",
                      "landcolor": "#E5ECF6",
                      "showlakes": true,
                      "showland": true,
                      "subunitcolor": "white"
                    },
                    "hoverlabel": {
                      "align": "left"
                    },
                    "hovermode": "closest",
                    "mapbox": {
                      "style": "light"
                    },
                    "paper_bgcolor": "white",
                    "plot_bgcolor": "#E5ECF6",
                    "polar": {
                      "angularaxis": {
                        "gridcolor": "white",
                        "linecolor": "white",
                        "ticks": ""
                      },
                      "bgcolor": "#E5ECF6",
                      "radialaxis": {
                        "gridcolor": "white",
                        "linecolor": "white",
                        "ticks": ""
                      }
                    },
                    "scene": {
                      "xaxis": {
                        "backgroundcolor": "#E5ECF6",
                        "gridcolor": "white",
                        "gridwidth": 2,
                        "linecolor": "white",
                        "showbackground": true,
                        "ticks": "",
                        "zerolinecolor": "white"
                      },
                      "yaxis": {
                        "backgroundcolor": "#E5ECF6",
                        "gridcolor": "white",
                        "gridwidth": 2,
                        "linecolor": "white",
                        "showbackground": true,
                        "ticks": "",
                        "zerolinecolor": "white"
                      },
                      "zaxis": {
                        "backgroundcolor": "#E5ECF6",
                        "gridcolor": "white",
                        "gridwidth": 2,
                        "linecolor": "white",
                        "showbackground": true,
                        "ticks": "",
                        "zerolinecolor": "white"
                      }
                    },
                    "shapedefaults": {
                      "line": {
                        "color": "#2a3f5f"
                      }
                    },
                    "ternary": {
                      "aaxis": {
                        "gridcolor": "white",
                        "linecolor": "white",
                        "ticks": ""
                      },
                      "baxis": {
                        "gridcolor": "white",
                        "linecolor": "white",
                        "ticks": ""
                      },
                      "bgcolor": "#E5ECF6",
                      "caxis": {
                        "gridcolor": "white",
                        "linecolor": "white",
                        "ticks": ""
                      }
                    },
                    "title": {
                      "x": 0.05
                    },
                    "xaxis": {
                      "automargin": true,
                      "gridcolor": "white",
                      "linecolor": "white",
                      "ticks": "",
                      "title": {
                        "standoff": 15
                      },
                      "zerolinecolor": "white",
                      "zerolinewidth": 2
                    },
                    "yaxis": {
                      "automargin": true,
                      "gridcolor": "white",
                      "linecolor": "white",
                      "ticks": "",
                      "title": {
                        "standoff": 15
                      },
                      "zerolinecolor": "white",
                      "zerolinewidth": 2
                    }
                  }
                },
                "title": {
                  "text": "PIB de Brasil (2000-2023)"
                },
                "xaxis": {
                  "anchor": "y",
                  "domain": [
                    0,
                    1
                  ],
                  "range": [
                    "2000-01-01",
                    "2026-01-01"
                  ],
                  "title": {
                    "text": "Año"
                  }
                },
                "yaxis": {
                  "anchor": "x",
                  "domain": [
                    0,
                    1
                  ],
                  "title": {
                    "text": "PIB (en dólares)"
                  }
                }
              }
            }
          },
          "metadata": {},
          "output_type": "display_data"
        }
      ],
      "source": [
        "# Crear figura\n",
        "fig = make_subplots(rows=1, cols=1)\n",
        "# Añadir gráfico de línea para Brasil\n",
        "fig.add_trace(go.Scatter(x=df_originalperiod.index, y=df_originalperiod['bra'], mode='lines', name='Brasil'))\n",
        "fig.add_trace(go.Scatter(x=df_train.index, y=df_train['bra'], mode='lines', name='train'))\n",
        "fig.add_trace(go.Scatter(x=df_test.index, y=df_test['bra'], mode='lines', name='test'))\n",
        "# Añadir predicciones\n",
        "fcastbra = resbra.get_forecast('2026').summary_frame()\n",
        "fcastbra.index = fcastbra.index.to_timestamp()\n",
        "fig.add_trace(go.Scatter(x=fcastbra.index, y=fcastbra['mean'], mode='lines', name='Predicción'))\n",
        "fig.add_trace(go.Scatter(x=fcastbra.index, y=fcastbra['mean_ci_upper'], mode='lines', name='Intervalo de confianza superior', fill='tonexty'))\n",
        "fig.add_trace(go.Scatter(x=fcastbra.index, y=fcastbra['mean_ci_lower'], mode='lines', name='Intervalo de confianza inferior', fill='tonexty'))\n",
        "# Ajustal el rango del eje x de la grafica\n",
        "fig.update_xaxes(range=['2000-01-01', '2026-01-01'])\n",
        "# Configurar diseño\n",
        "fig.update_layout(title='PIB de Brasil (2000-2023)', xaxis_title='Año', yaxis_title='PIB (en dólares)', hovermode='x')\n",
        "# Mostrar figura\n",
        "fig.show();"
      ]
    },
    {
      "attachments": {},
      "cell_type": "markdown",
      "metadata": {},
      "source": [
        "Para observar la grafica sin ejecutar el codigo dirigase al siguiente link\n",
        "\n",
        "[Pronostico PIB Brasil](https://github.com/juanguzman2/Proyecto1/blob/master/Imagenes/PibBrasil.png)"
      ]
    },
    {
      "cell_type": "code",
      "execution_count": 37,
      "metadata": {
        "colab": {
          "base_uri": "https://localhost:8080/",
          "height": 542
        },
        "id": "A-18AvMhgzMX",
        "outputId": "ed0326d6-c81c-41dd-d801-f7600df5a102"
      },
      "outputs": [
        {
          "data": {
            "application/vnd.plotly.v1+json": {
              "config": {
                "plotlyServerURL": "https://plot.ly"
              },
              "data": [
                {
                  "mode": "lines",
                  "name": "Mexico",
                  "type": "scatter",
                  "x": [
                    "1960-01-01T00:00:00",
                    "1961-01-01T00:00:00",
                    "1962-01-01T00:00:00",
                    "1963-01-01T00:00:00",
                    "1964-01-01T00:00:00",
                    "1965-01-01T00:00:00",
                    "1966-01-01T00:00:00",
                    "1967-01-01T00:00:00",
                    "1968-01-01T00:00:00",
                    "1969-01-01T00:00:00",
                    "1970-01-01T00:00:00",
                    "1971-01-01T00:00:00",
                    "1972-01-01T00:00:00",
                    "1973-01-01T00:00:00",
                    "1974-01-01T00:00:00",
                    "1975-01-01T00:00:00",
                    "1976-01-01T00:00:00",
                    "1977-01-01T00:00:00",
                    "1978-01-01T00:00:00",
                    "1979-01-01T00:00:00",
                    "1980-01-01T00:00:00",
                    "1981-01-01T00:00:00",
                    "1982-01-01T00:00:00",
                    "1983-01-01T00:00:00",
                    "1984-01-01T00:00:00",
                    "1985-01-01T00:00:00",
                    "1986-01-01T00:00:00",
                    "1987-01-01T00:00:00",
                    "1988-01-01T00:00:00",
                    "1989-01-01T00:00:00",
                    "1990-01-01T00:00:00",
                    "1991-01-01T00:00:00",
                    "1992-01-01T00:00:00",
                    "1993-01-01T00:00:00",
                    "1994-01-01T00:00:00",
                    "1995-01-01T00:00:00",
                    "1996-01-01T00:00:00",
                    "1997-01-01T00:00:00",
                    "1998-01-01T00:00:00",
                    "1999-01-01T00:00:00",
                    "2000-01-01T00:00:00",
                    "2001-01-01T00:00:00",
                    "2002-01-01T00:00:00",
                    "2003-01-01T00:00:00",
                    "2004-01-01T00:00:00",
                    "2005-01-01T00:00:00",
                    "2006-01-01T00:00:00",
                    "2007-01-01T00:00:00",
                    "2008-01-01T00:00:00",
                    "2009-01-01T00:00:00",
                    "2010-01-01T00:00:00",
                    "2011-01-01T00:00:00",
                    "2012-01-01T00:00:00",
                    "2013-01-01T00:00:00",
                    "2014-01-01T00:00:00",
                    "2015-01-01T00:00:00",
                    "2016-01-01T00:00:00",
                    "2017-01-01T00:00:00",
                    "2018-01-01T00:00:00",
                    "2019-01-01T00:00:00",
                    "2020-01-01T00:00:00",
                    "2021-01-01T00:00:00"
                  ],
                  "y": [
                    13040000000,
                    14160000000,
                    15200000000,
                    16960000000,
                    20080000000,
                    21840000000,
                    24320000000,
                    26560000000,
                    29360000000,
                    32480000000,
                    35520000000,
                    39200000000,
                    45200000000,
                    55280000000,
                    72000000000,
                    88000000000,
                    89025974025.97403,
                    81814159292.0354,
                    102500000000,
                    134561403508.77193,
                    205139086956.52173,
                    263959336734.69388,
                    184609157801.41846,
                    156159198584.5129,
                    184261495828.3671,
                    195219789801.47916,
                    134550096436.74403,
                    147540738281.81686,
                    181611549975.804,
                    221400669713.58926,
                    261253582805.94467,
                    313142768453.4853,
                    363157598242.26953,
                    500736065605.3408,
                    527813238126.2777,
                    360073909243.85455,
                    410975595310.15607,
                    500413483109.17474,
                    526502129378.28375,
                    600232874042.9271,
                    707906744574.6436,
                    756706300589.7905,
                    772106378935.377,
                    729336319677.4492,
                    782240601984.7599,
                    877476221382.1012,
                    975387131716.0892,
                    1052696282278.8748,
                    1109989063586.6196,
                    900045350649.3506,
                    1057801295584.0457,
                    1180489601957.612,
                    1201089987015.4524,
                    1274443084716.5674,
                    1315351183524.544,
                    1171867608197.7246,
                    1078490651625.3127,
                    1158913035796.37,
                    1222408203104.296,
                    1269011767478.5605,
                    1090515389749.4135,
                    1272839334119.2952
                  ]
                },
                {
                  "mode": "lines",
                  "name": "train",
                  "type": "scatter",
                  "x": [
                    "1960-01-01T00:00:00",
                    "1961-01-01T00:00:00",
                    "1962-01-01T00:00:00",
                    "1963-01-01T00:00:00",
                    "1964-01-01T00:00:00",
                    "1965-01-01T00:00:00",
                    "1966-01-01T00:00:00",
                    "1967-01-01T00:00:00",
                    "1968-01-01T00:00:00",
                    "1969-01-01T00:00:00",
                    "1970-01-01T00:00:00",
                    "1971-01-01T00:00:00",
                    "1972-01-01T00:00:00",
                    "1973-01-01T00:00:00",
                    "1974-01-01T00:00:00",
                    "1975-01-01T00:00:00",
                    "1976-01-01T00:00:00",
                    "1977-01-01T00:00:00",
                    "1978-01-01T00:00:00",
                    "1979-01-01T00:00:00",
                    "1980-01-01T00:00:00",
                    "1981-01-01T00:00:00",
                    "1982-01-01T00:00:00",
                    "1983-01-01T00:00:00",
                    "1984-01-01T00:00:00",
                    "1985-01-01T00:00:00",
                    "1986-01-01T00:00:00",
                    "1987-01-01T00:00:00",
                    "1988-01-01T00:00:00",
                    "1989-01-01T00:00:00",
                    "1990-01-01T00:00:00",
                    "1991-01-01T00:00:00",
                    "1992-01-01T00:00:00",
                    "1993-01-01T00:00:00",
                    "1994-01-01T00:00:00",
                    "1995-01-01T00:00:00",
                    "1996-01-01T00:00:00",
                    "1997-01-01T00:00:00",
                    "1998-01-01T00:00:00",
                    "1999-01-01T00:00:00",
                    "2000-01-01T00:00:00",
                    "2001-01-01T00:00:00",
                    "2002-01-01T00:00:00",
                    "2003-01-01T00:00:00",
                    "2004-01-01T00:00:00",
                    "2005-01-01T00:00:00",
                    "2006-01-01T00:00:00",
                    "2007-01-01T00:00:00",
                    "2008-01-01T00:00:00",
                    "2009-01-01T00:00:00",
                    "2010-01-01T00:00:00",
                    "2011-01-01T00:00:00",
                    "2012-01-01T00:00:00",
                    "2013-01-01T00:00:00"
                  ],
                  "y": [
                    13040000000,
                    14160000000,
                    15200000000,
                    16960000000,
                    20080000000,
                    21840000000,
                    24320000000,
                    26560000000,
                    29360000000,
                    32480000000,
                    35520000000,
                    39200000000,
                    45200000000,
                    55280000000,
                    72000000000,
                    88000000000,
                    89025974025.97403,
                    81814159292.0354,
                    102500000000,
                    134561403508.77193,
                    205139086956.52173,
                    263959336734.69388,
                    184609157801.41846,
                    156159198584.5129,
                    184261495828.3671,
                    195219789801.47916,
                    134550096436.74403,
                    147540738281.81686,
                    181611549975.804,
                    221400669713.58926,
                    261253582805.94467,
                    313142768453.4853,
                    363157598242.26953,
                    500736065605.3408,
                    527813238126.2777,
                    360073909243.85455,
                    410975595310.15607,
                    500413483109.17474,
                    526502129378.28375,
                    600232874042.9271,
                    707906744574.6436,
                    756706300589.7905,
                    772106378935.377,
                    729336319677.4492,
                    782240601984.7599,
                    877476221382.1012,
                    975387131716.0892,
                    1052696282278.8748,
                    1109989063586.6196,
                    900045350649.3506,
                    1057801295584.0457,
                    1180489601957.612,
                    1201089987015.4524,
                    1274443084716.5674
                  ]
                },
                {
                  "mode": "lines",
                  "name": "test",
                  "type": "scatter",
                  "x": [
                    "2014-01-01T00:00:00",
                    "2015-01-01T00:00:00",
                    "2016-01-01T00:00:00",
                    "2017-01-01T00:00:00",
                    "2018-01-01T00:00:00",
                    "2019-01-01T00:00:00",
                    "2020-01-01T00:00:00",
                    "2021-01-01T00:00:00"
                  ],
                  "y": [
                    1315351183524.544,
                    1171867608197.7246,
                    1078490651625.3127,
                    1158913035796.37,
                    1222408203104.296,
                    1269011767478.5605,
                    1090515389749.4135,
                    1272839334119.2952
                  ]
                },
                {
                  "mode": "lines",
                  "name": "Predicción",
                  "type": "scatter",
                  "x": [
                    "2014-01-01T00:00:00",
                    "2015-01-01T00:00:00",
                    "2016-01-01T00:00:00",
                    "2017-01-01T00:00:00",
                    "2018-01-01T00:00:00",
                    "2019-01-01T00:00:00",
                    "2020-01-01T00:00:00",
                    "2021-01-01T00:00:00",
                    "2022-01-01T00:00:00",
                    "2023-01-01T00:00:00",
                    "2024-01-01T00:00:00",
                    "2025-01-01T00:00:00",
                    "2026-01-01T00:00:00"
                  ],
                  "y": [
                    1312722873727.051,
                    1292235511415.487,
                    1335948889505.1616,
                    1434581561871.7344,
                    1489955750983.8374,
                    1487357891294.747,
                    1534874231606.8896,
                    1441438440289.8062,
                    1530875393548.4585,
                    1619881193376.6182,
                    1661688202988.8677,
                    1718934579218.3665,
                    1749620691398.1455
                  ]
                },
                {
                  "fill": "tonexty",
                  "mode": "lines",
                  "name": "Intervalo de confianza superior",
                  "type": "scatter",
                  "x": [
                    "2014-01-01T00:00:00",
                    "2015-01-01T00:00:00",
                    "2016-01-01T00:00:00",
                    "2017-01-01T00:00:00",
                    "2018-01-01T00:00:00",
                    "2019-01-01T00:00:00",
                    "2020-01-01T00:00:00",
                    "2021-01-01T00:00:00",
                    "2022-01-01T00:00:00",
                    "2023-01-01T00:00:00",
                    "2024-01-01T00:00:00",
                    "2025-01-01T00:00:00",
                    "2026-01-01T00:00:00"
                  ],
                  "y": [
                    1462378286873.2944,
                    1504437148487.6675,
                    1569458978828.7188,
                    1687397967214.8005,
                    1767970855696.1147,
                    1788584032329.7334,
                    1855318024882.7302,
                    1779965772863.9348,
                    1887296494045.0408,
                    1993358143827.9595,
                    2051238025341.73,
                    2123912706522.4092,
                    2199078215366.4497
                  ]
                },
                {
                  "fill": "tonexty",
                  "mode": "lines",
                  "name": "Intervalo de confianza inferior",
                  "type": "scatter",
                  "x": [
                    "2014-01-01T00:00:00",
                    "2015-01-01T00:00:00",
                    "2016-01-01T00:00:00",
                    "2017-01-01T00:00:00",
                    "2018-01-01T00:00:00",
                    "2019-01-01T00:00:00",
                    "2020-01-01T00:00:00",
                    "2021-01-01T00:00:00",
                    "2022-01-01T00:00:00",
                    "2023-01-01T00:00:00",
                    "2024-01-01T00:00:00",
                    "2025-01-01T00:00:00",
                    "2026-01-01T00:00:00"
                  ],
                  "y": [
                    1163067460580.8076,
                    1080033874343.3066,
                    1102438800181.6045,
                    1181765156528.6682,
                    1211940646271.56,
                    1186131750259.7607,
                    1214430438331.049,
                    1102911107715.6775,
                    1174454293051.8762,
                    1246404242925.2769,
                    1272138380636.0054,
                    1313956451914.3237,
                    1300163167429.8413
                  ]
                }
              ],
              "layout": {
                "hovermode": "x",
                "template": {
                  "data": {
                    "bar": [
                      {
                        "error_x": {
                          "color": "#2a3f5f"
                        },
                        "error_y": {
                          "color": "#2a3f5f"
                        },
                        "marker": {
                          "line": {
                            "color": "#E5ECF6",
                            "width": 0.5
                          },
                          "pattern": {
                            "fillmode": "overlay",
                            "size": 10,
                            "solidity": 0.2
                          }
                        },
                        "type": "bar"
                      }
                    ],
                    "barpolar": [
                      {
                        "marker": {
                          "line": {
                            "color": "#E5ECF6",
                            "width": 0.5
                          },
                          "pattern": {
                            "fillmode": "overlay",
                            "size": 10,
                            "solidity": 0.2
                          }
                        },
                        "type": "barpolar"
                      }
                    ],
                    "carpet": [
                      {
                        "aaxis": {
                          "endlinecolor": "#2a3f5f",
                          "gridcolor": "white",
                          "linecolor": "white",
                          "minorgridcolor": "white",
                          "startlinecolor": "#2a3f5f"
                        },
                        "baxis": {
                          "endlinecolor": "#2a3f5f",
                          "gridcolor": "white",
                          "linecolor": "white",
                          "minorgridcolor": "white",
                          "startlinecolor": "#2a3f5f"
                        },
                        "type": "carpet"
                      }
                    ],
                    "choropleth": [
                      {
                        "colorbar": {
                          "outlinewidth": 0,
                          "ticks": ""
                        },
                        "type": "choropleth"
                      }
                    ],
                    "contour": [
                      {
                        "colorbar": {
                          "outlinewidth": 0,
                          "ticks": ""
                        },
                        "colorscale": [
                          [
                            0,
                            "#0d0887"
                          ],
                          [
                            0.1111111111111111,
                            "#46039f"
                          ],
                          [
                            0.2222222222222222,
                            "#7201a8"
                          ],
                          [
                            0.3333333333333333,
                            "#9c179e"
                          ],
                          [
                            0.4444444444444444,
                            "#bd3786"
                          ],
                          [
                            0.5555555555555556,
                            "#d8576b"
                          ],
                          [
                            0.6666666666666666,
                            "#ed7953"
                          ],
                          [
                            0.7777777777777778,
                            "#fb9f3a"
                          ],
                          [
                            0.8888888888888888,
                            "#fdca26"
                          ],
                          [
                            1,
                            "#f0f921"
                          ]
                        ],
                        "type": "contour"
                      }
                    ],
                    "contourcarpet": [
                      {
                        "colorbar": {
                          "outlinewidth": 0,
                          "ticks": ""
                        },
                        "type": "contourcarpet"
                      }
                    ],
                    "heatmap": [
                      {
                        "colorbar": {
                          "outlinewidth": 0,
                          "ticks": ""
                        },
                        "colorscale": [
                          [
                            0,
                            "#0d0887"
                          ],
                          [
                            0.1111111111111111,
                            "#46039f"
                          ],
                          [
                            0.2222222222222222,
                            "#7201a8"
                          ],
                          [
                            0.3333333333333333,
                            "#9c179e"
                          ],
                          [
                            0.4444444444444444,
                            "#bd3786"
                          ],
                          [
                            0.5555555555555556,
                            "#d8576b"
                          ],
                          [
                            0.6666666666666666,
                            "#ed7953"
                          ],
                          [
                            0.7777777777777778,
                            "#fb9f3a"
                          ],
                          [
                            0.8888888888888888,
                            "#fdca26"
                          ],
                          [
                            1,
                            "#f0f921"
                          ]
                        ],
                        "type": "heatmap"
                      }
                    ],
                    "heatmapgl": [
                      {
                        "colorbar": {
                          "outlinewidth": 0,
                          "ticks": ""
                        },
                        "colorscale": [
                          [
                            0,
                            "#0d0887"
                          ],
                          [
                            0.1111111111111111,
                            "#46039f"
                          ],
                          [
                            0.2222222222222222,
                            "#7201a8"
                          ],
                          [
                            0.3333333333333333,
                            "#9c179e"
                          ],
                          [
                            0.4444444444444444,
                            "#bd3786"
                          ],
                          [
                            0.5555555555555556,
                            "#d8576b"
                          ],
                          [
                            0.6666666666666666,
                            "#ed7953"
                          ],
                          [
                            0.7777777777777778,
                            "#fb9f3a"
                          ],
                          [
                            0.8888888888888888,
                            "#fdca26"
                          ],
                          [
                            1,
                            "#f0f921"
                          ]
                        ],
                        "type": "heatmapgl"
                      }
                    ],
                    "histogram": [
                      {
                        "marker": {
                          "pattern": {
                            "fillmode": "overlay",
                            "size": 10,
                            "solidity": 0.2
                          }
                        },
                        "type": "histogram"
                      }
                    ],
                    "histogram2d": [
                      {
                        "colorbar": {
                          "outlinewidth": 0,
                          "ticks": ""
                        },
                        "colorscale": [
                          [
                            0,
                            "#0d0887"
                          ],
                          [
                            0.1111111111111111,
                            "#46039f"
                          ],
                          [
                            0.2222222222222222,
                            "#7201a8"
                          ],
                          [
                            0.3333333333333333,
                            "#9c179e"
                          ],
                          [
                            0.4444444444444444,
                            "#bd3786"
                          ],
                          [
                            0.5555555555555556,
                            "#d8576b"
                          ],
                          [
                            0.6666666666666666,
                            "#ed7953"
                          ],
                          [
                            0.7777777777777778,
                            "#fb9f3a"
                          ],
                          [
                            0.8888888888888888,
                            "#fdca26"
                          ],
                          [
                            1,
                            "#f0f921"
                          ]
                        ],
                        "type": "histogram2d"
                      }
                    ],
                    "histogram2dcontour": [
                      {
                        "colorbar": {
                          "outlinewidth": 0,
                          "ticks": ""
                        },
                        "colorscale": [
                          [
                            0,
                            "#0d0887"
                          ],
                          [
                            0.1111111111111111,
                            "#46039f"
                          ],
                          [
                            0.2222222222222222,
                            "#7201a8"
                          ],
                          [
                            0.3333333333333333,
                            "#9c179e"
                          ],
                          [
                            0.4444444444444444,
                            "#bd3786"
                          ],
                          [
                            0.5555555555555556,
                            "#d8576b"
                          ],
                          [
                            0.6666666666666666,
                            "#ed7953"
                          ],
                          [
                            0.7777777777777778,
                            "#fb9f3a"
                          ],
                          [
                            0.8888888888888888,
                            "#fdca26"
                          ],
                          [
                            1,
                            "#f0f921"
                          ]
                        ],
                        "type": "histogram2dcontour"
                      }
                    ],
                    "mesh3d": [
                      {
                        "colorbar": {
                          "outlinewidth": 0,
                          "ticks": ""
                        },
                        "type": "mesh3d"
                      }
                    ],
                    "parcoords": [
                      {
                        "line": {
                          "colorbar": {
                            "outlinewidth": 0,
                            "ticks": ""
                          }
                        },
                        "type": "parcoords"
                      }
                    ],
                    "pie": [
                      {
                        "automargin": true,
                        "type": "pie"
                      }
                    ],
                    "scatter": [
                      {
                        "fillpattern": {
                          "fillmode": "overlay",
                          "size": 10,
                          "solidity": 0.2
                        },
                        "type": "scatter"
                      }
                    ],
                    "scatter3d": [
                      {
                        "line": {
                          "colorbar": {
                            "outlinewidth": 0,
                            "ticks": ""
                          }
                        },
                        "marker": {
                          "colorbar": {
                            "outlinewidth": 0,
                            "ticks": ""
                          }
                        },
                        "type": "scatter3d"
                      }
                    ],
                    "scattercarpet": [
                      {
                        "marker": {
                          "colorbar": {
                            "outlinewidth": 0,
                            "ticks": ""
                          }
                        },
                        "type": "scattercarpet"
                      }
                    ],
                    "scattergeo": [
                      {
                        "marker": {
                          "colorbar": {
                            "outlinewidth": 0,
                            "ticks": ""
                          }
                        },
                        "type": "scattergeo"
                      }
                    ],
                    "scattergl": [
                      {
                        "marker": {
                          "colorbar": {
                            "outlinewidth": 0,
                            "ticks": ""
                          }
                        },
                        "type": "scattergl"
                      }
                    ],
                    "scattermapbox": [
                      {
                        "marker": {
                          "colorbar": {
                            "outlinewidth": 0,
                            "ticks": ""
                          }
                        },
                        "type": "scattermapbox"
                      }
                    ],
                    "scatterpolar": [
                      {
                        "marker": {
                          "colorbar": {
                            "outlinewidth": 0,
                            "ticks": ""
                          }
                        },
                        "type": "scatterpolar"
                      }
                    ],
                    "scatterpolargl": [
                      {
                        "marker": {
                          "colorbar": {
                            "outlinewidth": 0,
                            "ticks": ""
                          }
                        },
                        "type": "scatterpolargl"
                      }
                    ],
                    "scatterternary": [
                      {
                        "marker": {
                          "colorbar": {
                            "outlinewidth": 0,
                            "ticks": ""
                          }
                        },
                        "type": "scatterternary"
                      }
                    ],
                    "surface": [
                      {
                        "colorbar": {
                          "outlinewidth": 0,
                          "ticks": ""
                        },
                        "colorscale": [
                          [
                            0,
                            "#0d0887"
                          ],
                          [
                            0.1111111111111111,
                            "#46039f"
                          ],
                          [
                            0.2222222222222222,
                            "#7201a8"
                          ],
                          [
                            0.3333333333333333,
                            "#9c179e"
                          ],
                          [
                            0.4444444444444444,
                            "#bd3786"
                          ],
                          [
                            0.5555555555555556,
                            "#d8576b"
                          ],
                          [
                            0.6666666666666666,
                            "#ed7953"
                          ],
                          [
                            0.7777777777777778,
                            "#fb9f3a"
                          ],
                          [
                            0.8888888888888888,
                            "#fdca26"
                          ],
                          [
                            1,
                            "#f0f921"
                          ]
                        ],
                        "type": "surface"
                      }
                    ],
                    "table": [
                      {
                        "cells": {
                          "fill": {
                            "color": "#EBF0F8"
                          },
                          "line": {
                            "color": "white"
                          }
                        },
                        "header": {
                          "fill": {
                            "color": "#C8D4E3"
                          },
                          "line": {
                            "color": "white"
                          }
                        },
                        "type": "table"
                      }
                    ]
                  },
                  "layout": {
                    "annotationdefaults": {
                      "arrowcolor": "#2a3f5f",
                      "arrowhead": 0,
                      "arrowwidth": 1
                    },
                    "autotypenumbers": "strict",
                    "coloraxis": {
                      "colorbar": {
                        "outlinewidth": 0,
                        "ticks": ""
                      }
                    },
                    "colorscale": {
                      "diverging": [
                        [
                          0,
                          "#8e0152"
                        ],
                        [
                          0.1,
                          "#c51b7d"
                        ],
                        [
                          0.2,
                          "#de77ae"
                        ],
                        [
                          0.3,
                          "#f1b6da"
                        ],
                        [
                          0.4,
                          "#fde0ef"
                        ],
                        [
                          0.5,
                          "#f7f7f7"
                        ],
                        [
                          0.6,
                          "#e6f5d0"
                        ],
                        [
                          0.7,
                          "#b8e186"
                        ],
                        [
                          0.8,
                          "#7fbc41"
                        ],
                        [
                          0.9,
                          "#4d9221"
                        ],
                        [
                          1,
                          "#276419"
                        ]
                      ],
                      "sequential": [
                        [
                          0,
                          "#0d0887"
                        ],
                        [
                          0.1111111111111111,
                          "#46039f"
                        ],
                        [
                          0.2222222222222222,
                          "#7201a8"
                        ],
                        [
                          0.3333333333333333,
                          "#9c179e"
                        ],
                        [
                          0.4444444444444444,
                          "#bd3786"
                        ],
                        [
                          0.5555555555555556,
                          "#d8576b"
                        ],
                        [
                          0.6666666666666666,
                          "#ed7953"
                        ],
                        [
                          0.7777777777777778,
                          "#fb9f3a"
                        ],
                        [
                          0.8888888888888888,
                          "#fdca26"
                        ],
                        [
                          1,
                          "#f0f921"
                        ]
                      ],
                      "sequentialminus": [
                        [
                          0,
                          "#0d0887"
                        ],
                        [
                          0.1111111111111111,
                          "#46039f"
                        ],
                        [
                          0.2222222222222222,
                          "#7201a8"
                        ],
                        [
                          0.3333333333333333,
                          "#9c179e"
                        ],
                        [
                          0.4444444444444444,
                          "#bd3786"
                        ],
                        [
                          0.5555555555555556,
                          "#d8576b"
                        ],
                        [
                          0.6666666666666666,
                          "#ed7953"
                        ],
                        [
                          0.7777777777777778,
                          "#fb9f3a"
                        ],
                        [
                          0.8888888888888888,
                          "#fdca26"
                        ],
                        [
                          1,
                          "#f0f921"
                        ]
                      ]
                    },
                    "colorway": [
                      "#636efa",
                      "#EF553B",
                      "#00cc96",
                      "#ab63fa",
                      "#FFA15A",
                      "#19d3f3",
                      "#FF6692",
                      "#B6E880",
                      "#FF97FF",
                      "#FECB52"
                    ],
                    "font": {
                      "color": "#2a3f5f"
                    },
                    "geo": {
                      "bgcolor": "white",
                      "lakecolor": "white",
                      "landcolor": "#E5ECF6",
                      "showlakes": true,
                      "showland": true,
                      "subunitcolor": "white"
                    },
                    "hoverlabel": {
                      "align": "left"
                    },
                    "hovermode": "closest",
                    "mapbox": {
                      "style": "light"
                    },
                    "paper_bgcolor": "white",
                    "plot_bgcolor": "#E5ECF6",
                    "polar": {
                      "angularaxis": {
                        "gridcolor": "white",
                        "linecolor": "white",
                        "ticks": ""
                      },
                      "bgcolor": "#E5ECF6",
                      "radialaxis": {
                        "gridcolor": "white",
                        "linecolor": "white",
                        "ticks": ""
                      }
                    },
                    "scene": {
                      "xaxis": {
                        "backgroundcolor": "#E5ECF6",
                        "gridcolor": "white",
                        "gridwidth": 2,
                        "linecolor": "white",
                        "showbackground": true,
                        "ticks": "",
                        "zerolinecolor": "white"
                      },
                      "yaxis": {
                        "backgroundcolor": "#E5ECF6",
                        "gridcolor": "white",
                        "gridwidth": 2,
                        "linecolor": "white",
                        "showbackground": true,
                        "ticks": "",
                        "zerolinecolor": "white"
                      },
                      "zaxis": {
                        "backgroundcolor": "#E5ECF6",
                        "gridcolor": "white",
                        "gridwidth": 2,
                        "linecolor": "white",
                        "showbackground": true,
                        "ticks": "",
                        "zerolinecolor": "white"
                      }
                    },
                    "shapedefaults": {
                      "line": {
                        "color": "#2a3f5f"
                      }
                    },
                    "ternary": {
                      "aaxis": {
                        "gridcolor": "white",
                        "linecolor": "white",
                        "ticks": ""
                      },
                      "baxis": {
                        "gridcolor": "white",
                        "linecolor": "white",
                        "ticks": ""
                      },
                      "bgcolor": "#E5ECF6",
                      "caxis": {
                        "gridcolor": "white",
                        "linecolor": "white",
                        "ticks": ""
                      }
                    },
                    "title": {
                      "x": 0.05
                    },
                    "xaxis": {
                      "automargin": true,
                      "gridcolor": "white",
                      "linecolor": "white",
                      "ticks": "",
                      "title": {
                        "standoff": 15
                      },
                      "zerolinecolor": "white",
                      "zerolinewidth": 2
                    },
                    "yaxis": {
                      "automargin": true,
                      "gridcolor": "white",
                      "linecolor": "white",
                      "ticks": "",
                      "title": {
                        "standoff": 15
                      },
                      "zerolinecolor": "white",
                      "zerolinewidth": 2
                    }
                  }
                },
                "title": {
                  "text": "PIB de Mexico (2000-2023)"
                },
                "xaxis": {
                  "anchor": "y",
                  "domain": [
                    0,
                    1
                  ],
                  "range": [
                    "2000-01-01",
                    "2026-01-01"
                  ],
                  "title": {
                    "text": "Año"
                  }
                },
                "yaxis": {
                  "anchor": "x",
                  "domain": [
                    0,
                    1
                  ],
                  "title": {
                    "text": "PIB (en dólares)"
                  }
                }
              }
            }
          },
          "metadata": {},
          "output_type": "display_data"
        }
      ],
      "source": [
        "# Crear figura\n",
        "fig = make_subplots(rows=1, cols=1)\n",
        "# Añadir gráfico de línea para Mexico\n",
        "fig.add_trace(go.Scatter(x=df_originalperiod.index, y=df_originalperiod['mex'], mode='lines', name='Mexico'))\n",
        "fig.add_trace(go.Scatter(x=df_train.index, y=df_train['mex'], mode='lines', name='train'))\n",
        "fig.add_trace(go.Scatter(x=df_test.index, y=df_test['mex'], mode='lines', name='test'))\n",
        "# Añadir predicciones\n",
        "fcastmex = resmex.get_forecast('2026').summary_frame()\n",
        "fcastmex.index = fcastmex.index.to_timestamp()\n",
        "fig.add_trace(go.Scatter(x=fcastmex.index, y=fcastmex['mean'], mode='lines', name='Predicción'))\n",
        "fig.add_trace(go.Scatter(x=fcastmex.index, y=fcastmex['mean_ci_upper'], mode='lines', name='Intervalo de confianza superior', fill='tonexty'))\n",
        "fig.add_trace(go.Scatter(x=fcastmex.index, y=fcastmex['mean_ci_lower'], mode='lines', name='Intervalo de confianza inferior', fill='tonexty'))\n",
        "# Ajustal el rango del eje x de la grafica\n",
        "fig.update_xaxes(range=['2000-01-01', '2026-01-01'])\n",
        "# Configurar diseño\n",
        "fig.update_layout(title='PIB de Mexico (2000-2023)', xaxis_title='Año', yaxis_title='PIB (en dólares)', hovermode='x')\n",
        "# Mostrar figura\n",
        "fig.show();"
      ]
    },
    {
      "attachments": {},
      "cell_type": "markdown",
      "metadata": {},
      "source": [
        "Para observar la grafica sin ejecutar el codigo dirigase al siguiente link\n",
        "\n",
        "[Pronostico PIB Mexico](https://github.com/juanguzman2/Proyecto1/blob/master/Imagenes/PibMexico.png)"
      ]
    },
    {
      "cell_type": "code",
      "execution_count": 38,
      "metadata": {
        "colab": {
          "base_uri": "https://localhost:8080/",
          "height": 542
        },
        "id": "oJOOqBexg7P4",
        "outputId": "f2689e02-068f-4792-a391-221aacf7848d"
      },
      "outputs": [
        {
          "data": {
            "application/vnd.plotly.v1+json": {
              "config": {
                "plotlyServerURL": "https://plot.ly"
              },
              "data": [
                {
                  "mode": "lines",
                  "name": "Argentina",
                  "type": "scatter",
                  "x": [
                    "1960-01-01T00:00:00",
                    "1961-01-01T00:00:00",
                    "1962-01-01T00:00:00",
                    "1963-01-01T00:00:00",
                    "1964-01-01T00:00:00",
                    "1965-01-01T00:00:00",
                    "1966-01-01T00:00:00",
                    "1967-01-01T00:00:00",
                    "1968-01-01T00:00:00",
                    "1969-01-01T00:00:00",
                    "1970-01-01T00:00:00",
                    "1971-01-01T00:00:00",
                    "1972-01-01T00:00:00",
                    "1973-01-01T00:00:00",
                    "1974-01-01T00:00:00",
                    "1975-01-01T00:00:00",
                    "1976-01-01T00:00:00",
                    "1977-01-01T00:00:00",
                    "1978-01-01T00:00:00",
                    "1979-01-01T00:00:00",
                    "1980-01-01T00:00:00",
                    "1981-01-01T00:00:00",
                    "1982-01-01T00:00:00",
                    "1983-01-01T00:00:00",
                    "1984-01-01T00:00:00",
                    "1985-01-01T00:00:00",
                    "1986-01-01T00:00:00",
                    "1987-01-01T00:00:00",
                    "1988-01-01T00:00:00",
                    "1989-01-01T00:00:00",
                    "1990-01-01T00:00:00",
                    "1991-01-01T00:00:00",
                    "1992-01-01T00:00:00",
                    "1993-01-01T00:00:00",
                    "1994-01-01T00:00:00",
                    "1995-01-01T00:00:00",
                    "1996-01-01T00:00:00",
                    "1997-01-01T00:00:00",
                    "1998-01-01T00:00:00",
                    "1999-01-01T00:00:00",
                    "2000-01-01T00:00:00",
                    "2001-01-01T00:00:00",
                    "2002-01-01T00:00:00",
                    "2003-01-01T00:00:00",
                    "2004-01-01T00:00:00",
                    "2005-01-01T00:00:00",
                    "2006-01-01T00:00:00",
                    "2007-01-01T00:00:00",
                    "2008-01-01T00:00:00",
                    "2009-01-01T00:00:00",
                    "2010-01-01T00:00:00",
                    "2011-01-01T00:00:00",
                    "2012-01-01T00:00:00",
                    "2013-01-01T00:00:00",
                    "2014-01-01T00:00:00",
                    "2015-01-01T00:00:00",
                    "2016-01-01T00:00:00",
                    "2017-01-01T00:00:00",
                    "2018-01-01T00:00:00",
                    "2019-01-01T00:00:00",
                    "2020-01-01T00:00:00",
                    "2021-01-01T00:00:00"
                  ],
                  "y": [
                    22775992641.27978,
                    22775992641.27978,
                    24450604877.608116,
                    18272123664.47152,
                    25605249381.75971,
                    28344705966.63891,
                    28630474727.90226,
                    24256667553.25692,
                    26436857247.498184,
                    31256284543.61548,
                    31584210365.54465,
                    33293199095.488117,
                    34733000536.28621,
                    52544000116.90373,
                    72436777342.45541,
                    52438647921.9226,
                    51169499892.17222,
                    56781000101.08483,
                    58082870156.329,
                    69252328951.6441,
                    76961923741.0701,
                    78676842366.5529,
                    84307486836.72401,
                    103979106777.91101,
                    79092001998.03204,
                    88416668900.2596,
                    110934442762.69357,
                    111106191358.19745,
                    126206817196.09116,
                    76636898036.47118,
                    141352368714.6913,
                    189719984268.48453,
                    228788617201.69592,
                    236741715015.015,
                    257440000000,
                    258031750000,
                    272149750000,
                    292859000000,
                    298948250000,
                    283523000000,
                    284203750000,
                    268696750000,
                    97724004251.8602,
                    127586973492.17664,
                    164657930452.78662,
                    198737095012.28165,
                    232557260817.3077,
                    287530508430.568,
                    361558037110.41925,
                    332976484577.6189,
                    423627422092.4897,
                    530163281574.65753,
                    545982375701.128,
                    552025140252.2463,
                    526319673731.6383,
                    594749285413.2124,
                    557531376217.9669,
                    643628665302.1549,
                    524819742918.6688,
                    447754609218.6783,
                    385540224628.2918,
                    487227339102.67004
                  ]
                },
                {
                  "mode": "lines",
                  "name": "train",
                  "type": "scatter",
                  "x": [
                    "1960-01-01T00:00:00",
                    "1961-01-01T00:00:00",
                    "1962-01-01T00:00:00",
                    "1963-01-01T00:00:00",
                    "1964-01-01T00:00:00",
                    "1965-01-01T00:00:00",
                    "1966-01-01T00:00:00",
                    "1967-01-01T00:00:00",
                    "1968-01-01T00:00:00",
                    "1969-01-01T00:00:00",
                    "1970-01-01T00:00:00",
                    "1971-01-01T00:00:00",
                    "1972-01-01T00:00:00",
                    "1973-01-01T00:00:00",
                    "1974-01-01T00:00:00",
                    "1975-01-01T00:00:00",
                    "1976-01-01T00:00:00",
                    "1977-01-01T00:00:00",
                    "1978-01-01T00:00:00",
                    "1979-01-01T00:00:00",
                    "1980-01-01T00:00:00",
                    "1981-01-01T00:00:00",
                    "1982-01-01T00:00:00",
                    "1983-01-01T00:00:00",
                    "1984-01-01T00:00:00",
                    "1985-01-01T00:00:00",
                    "1986-01-01T00:00:00",
                    "1987-01-01T00:00:00",
                    "1988-01-01T00:00:00",
                    "1989-01-01T00:00:00",
                    "1990-01-01T00:00:00",
                    "1991-01-01T00:00:00",
                    "1992-01-01T00:00:00",
                    "1993-01-01T00:00:00",
                    "1994-01-01T00:00:00",
                    "1995-01-01T00:00:00",
                    "1996-01-01T00:00:00",
                    "1997-01-01T00:00:00",
                    "1998-01-01T00:00:00",
                    "1999-01-01T00:00:00",
                    "2000-01-01T00:00:00",
                    "2001-01-01T00:00:00",
                    "2002-01-01T00:00:00",
                    "2003-01-01T00:00:00",
                    "2004-01-01T00:00:00",
                    "2005-01-01T00:00:00",
                    "2006-01-01T00:00:00",
                    "2007-01-01T00:00:00",
                    "2008-01-01T00:00:00",
                    "2009-01-01T00:00:00",
                    "2010-01-01T00:00:00",
                    "2011-01-01T00:00:00",
                    "2012-01-01T00:00:00",
                    "2013-01-01T00:00:00"
                  ],
                  "y": [
                    22775992641.27978,
                    22775992641.27978,
                    24450604877.608116,
                    18272123664.47152,
                    25605249381.75971,
                    28344705966.63891,
                    28630474727.90226,
                    24256667553.25692,
                    26436857247.498184,
                    31256284543.61548,
                    31584210365.54465,
                    33293199095.488117,
                    34733000536.28621,
                    52544000116.90373,
                    72436777342.45541,
                    52438647921.9226,
                    51169499892.17222,
                    56781000101.08483,
                    58082870156.329,
                    69252328951.6441,
                    76961923741.0701,
                    78676842366.5529,
                    84307486836.72401,
                    103979106777.91101,
                    79092001998.03204,
                    88416668900.2596,
                    110934442762.69357,
                    111106191358.19745,
                    126206817196.09116,
                    76636898036.47118,
                    141352368714.6913,
                    189719984268.48453,
                    228788617201.69592,
                    236741715015.015,
                    257440000000,
                    258031750000,
                    272149750000,
                    292859000000,
                    298948250000,
                    283523000000,
                    284203750000,
                    268696750000,
                    97724004251.8602,
                    127586973492.17664,
                    164657930452.78662,
                    198737095012.28165,
                    232557260817.3077,
                    287530508430.568,
                    361558037110.41925,
                    332976484577.6189,
                    423627422092.4897,
                    530163281574.65753,
                    545982375701.128,
                    552025140252.2463
                  ]
                },
                {
                  "mode": "lines",
                  "name": "test",
                  "type": "scatter",
                  "x": [
                    "2014-01-01T00:00:00",
                    "2015-01-01T00:00:00",
                    "2016-01-01T00:00:00",
                    "2017-01-01T00:00:00",
                    "2018-01-01T00:00:00",
                    "2019-01-01T00:00:00",
                    "2020-01-01T00:00:00",
                    "2021-01-01T00:00:00"
                  ],
                  "y": [
                    526319673731.6383,
                    594749285413.2124,
                    557531376217.9669,
                    643628665302.1549,
                    524819742918.6688,
                    447754609218.6783,
                    385540224628.2918,
                    487227339102.67004
                  ]
                },
                {
                  "mode": "lines",
                  "name": "Predicción",
                  "type": "scatter",
                  "x": [
                    "2014-01-01T00:00:00",
                    "2015-01-01T00:00:00",
                    "2016-01-01T00:00:00",
                    "2017-01-01T00:00:00",
                    "2018-01-01T00:00:00",
                    "2019-01-01T00:00:00",
                    "2020-01-01T00:00:00",
                    "2021-01-01T00:00:00",
                    "2022-01-01T00:00:00",
                    "2023-01-01T00:00:00",
                    "2024-01-01T00:00:00",
                    "2025-01-01T00:00:00",
                    "2026-01-01T00:00:00"
                  ],
                  "y": [
                    506909511379.3827,
                    531078332446.21515,
                    555875926622.2902,
                    571318542583.0396,
                    589872826562.9982,
                    613778829573.7273,
                    642145206490.47,
                    639915414576.2002,
                    680103077409.171,
                    712770160977.9556,
                    721461755910.4146,
                    713143054239.0513,
                    666555553657.7432
                  ]
                },
                {
                  "fill": "tonexty",
                  "mode": "lines",
                  "name": "Intervalo de confianza superior",
                  "type": "scatter",
                  "x": [
                    "2014-01-01T00:00:00",
                    "2015-01-01T00:00:00",
                    "2016-01-01T00:00:00",
                    "2017-01-01T00:00:00",
                    "2018-01-01T00:00:00",
                    "2019-01-01T00:00:00",
                    "2020-01-01T00:00:00",
                    "2021-01-01T00:00:00",
                    "2022-01-01T00:00:00",
                    "2023-01-01T00:00:00",
                    "2024-01-01T00:00:00",
                    "2025-01-01T00:00:00",
                    "2026-01-01T00:00:00"
                  ],
                  "y": [
                    611151956052.5367,
                    686244329146.3059,
                    748973015653.7656,
                    796032772334.7991,
                    842274261411.1852,
                    891116207587.7749,
                    942266184528.9318,
                    961208398741.4618,
                    1021256652634.2815,
                    1072690071658.0002,
                    1099216864835.4792,
                    1107928442182.9866,
                    1089869297883.2278
                  ]
                },
                {
                  "fill": "tonexty",
                  "mode": "lines",
                  "name": "Intervalo de confianza inferior",
                  "type": "scatter",
                  "x": [
                    "2014-01-01T00:00:00",
                    "2015-01-01T00:00:00",
                    "2016-01-01T00:00:00",
                    "2017-01-01T00:00:00",
                    "2018-01-01T00:00:00",
                    "2019-01-01T00:00:00",
                    "2020-01-01T00:00:00",
                    "2021-01-01T00:00:00",
                    "2022-01-01T00:00:00",
                    "2023-01-01T00:00:00",
                    "2024-01-01T00:00:00",
                    "2025-01-01T00:00:00",
                    "2026-01-01T00:00:00"
                  ],
                  "y": [
                    402667066706.22864,
                    375912335746.1244,
                    362778837590.81464,
                    346604312831.28,
                    337471391714.81116,
                    336441451559.6796,
                    342024228452.0082,
                    318622430410.9386,
                    338949502184.0605,
                    352850250297.91095,
                    343706646985.3499,
                    318357666295.1159,
                    243241809432.25848
                  ]
                }
              ],
              "layout": {
                "hovermode": "x",
                "template": {
                  "data": {
                    "bar": [
                      {
                        "error_x": {
                          "color": "#2a3f5f"
                        },
                        "error_y": {
                          "color": "#2a3f5f"
                        },
                        "marker": {
                          "line": {
                            "color": "#E5ECF6",
                            "width": 0.5
                          },
                          "pattern": {
                            "fillmode": "overlay",
                            "size": 10,
                            "solidity": 0.2
                          }
                        },
                        "type": "bar"
                      }
                    ],
                    "barpolar": [
                      {
                        "marker": {
                          "line": {
                            "color": "#E5ECF6",
                            "width": 0.5
                          },
                          "pattern": {
                            "fillmode": "overlay",
                            "size": 10,
                            "solidity": 0.2
                          }
                        },
                        "type": "barpolar"
                      }
                    ],
                    "carpet": [
                      {
                        "aaxis": {
                          "endlinecolor": "#2a3f5f",
                          "gridcolor": "white",
                          "linecolor": "white",
                          "minorgridcolor": "white",
                          "startlinecolor": "#2a3f5f"
                        },
                        "baxis": {
                          "endlinecolor": "#2a3f5f",
                          "gridcolor": "white",
                          "linecolor": "white",
                          "minorgridcolor": "white",
                          "startlinecolor": "#2a3f5f"
                        },
                        "type": "carpet"
                      }
                    ],
                    "choropleth": [
                      {
                        "colorbar": {
                          "outlinewidth": 0,
                          "ticks": ""
                        },
                        "type": "choropleth"
                      }
                    ],
                    "contour": [
                      {
                        "colorbar": {
                          "outlinewidth": 0,
                          "ticks": ""
                        },
                        "colorscale": [
                          [
                            0,
                            "#0d0887"
                          ],
                          [
                            0.1111111111111111,
                            "#46039f"
                          ],
                          [
                            0.2222222222222222,
                            "#7201a8"
                          ],
                          [
                            0.3333333333333333,
                            "#9c179e"
                          ],
                          [
                            0.4444444444444444,
                            "#bd3786"
                          ],
                          [
                            0.5555555555555556,
                            "#d8576b"
                          ],
                          [
                            0.6666666666666666,
                            "#ed7953"
                          ],
                          [
                            0.7777777777777778,
                            "#fb9f3a"
                          ],
                          [
                            0.8888888888888888,
                            "#fdca26"
                          ],
                          [
                            1,
                            "#f0f921"
                          ]
                        ],
                        "type": "contour"
                      }
                    ],
                    "contourcarpet": [
                      {
                        "colorbar": {
                          "outlinewidth": 0,
                          "ticks": ""
                        },
                        "type": "contourcarpet"
                      }
                    ],
                    "heatmap": [
                      {
                        "colorbar": {
                          "outlinewidth": 0,
                          "ticks": ""
                        },
                        "colorscale": [
                          [
                            0,
                            "#0d0887"
                          ],
                          [
                            0.1111111111111111,
                            "#46039f"
                          ],
                          [
                            0.2222222222222222,
                            "#7201a8"
                          ],
                          [
                            0.3333333333333333,
                            "#9c179e"
                          ],
                          [
                            0.4444444444444444,
                            "#bd3786"
                          ],
                          [
                            0.5555555555555556,
                            "#d8576b"
                          ],
                          [
                            0.6666666666666666,
                            "#ed7953"
                          ],
                          [
                            0.7777777777777778,
                            "#fb9f3a"
                          ],
                          [
                            0.8888888888888888,
                            "#fdca26"
                          ],
                          [
                            1,
                            "#f0f921"
                          ]
                        ],
                        "type": "heatmap"
                      }
                    ],
                    "heatmapgl": [
                      {
                        "colorbar": {
                          "outlinewidth": 0,
                          "ticks": ""
                        },
                        "colorscale": [
                          [
                            0,
                            "#0d0887"
                          ],
                          [
                            0.1111111111111111,
                            "#46039f"
                          ],
                          [
                            0.2222222222222222,
                            "#7201a8"
                          ],
                          [
                            0.3333333333333333,
                            "#9c179e"
                          ],
                          [
                            0.4444444444444444,
                            "#bd3786"
                          ],
                          [
                            0.5555555555555556,
                            "#d8576b"
                          ],
                          [
                            0.6666666666666666,
                            "#ed7953"
                          ],
                          [
                            0.7777777777777778,
                            "#fb9f3a"
                          ],
                          [
                            0.8888888888888888,
                            "#fdca26"
                          ],
                          [
                            1,
                            "#f0f921"
                          ]
                        ],
                        "type": "heatmapgl"
                      }
                    ],
                    "histogram": [
                      {
                        "marker": {
                          "pattern": {
                            "fillmode": "overlay",
                            "size": 10,
                            "solidity": 0.2
                          }
                        },
                        "type": "histogram"
                      }
                    ],
                    "histogram2d": [
                      {
                        "colorbar": {
                          "outlinewidth": 0,
                          "ticks": ""
                        },
                        "colorscale": [
                          [
                            0,
                            "#0d0887"
                          ],
                          [
                            0.1111111111111111,
                            "#46039f"
                          ],
                          [
                            0.2222222222222222,
                            "#7201a8"
                          ],
                          [
                            0.3333333333333333,
                            "#9c179e"
                          ],
                          [
                            0.4444444444444444,
                            "#bd3786"
                          ],
                          [
                            0.5555555555555556,
                            "#d8576b"
                          ],
                          [
                            0.6666666666666666,
                            "#ed7953"
                          ],
                          [
                            0.7777777777777778,
                            "#fb9f3a"
                          ],
                          [
                            0.8888888888888888,
                            "#fdca26"
                          ],
                          [
                            1,
                            "#f0f921"
                          ]
                        ],
                        "type": "histogram2d"
                      }
                    ],
                    "histogram2dcontour": [
                      {
                        "colorbar": {
                          "outlinewidth": 0,
                          "ticks": ""
                        },
                        "colorscale": [
                          [
                            0,
                            "#0d0887"
                          ],
                          [
                            0.1111111111111111,
                            "#46039f"
                          ],
                          [
                            0.2222222222222222,
                            "#7201a8"
                          ],
                          [
                            0.3333333333333333,
                            "#9c179e"
                          ],
                          [
                            0.4444444444444444,
                            "#bd3786"
                          ],
                          [
                            0.5555555555555556,
                            "#d8576b"
                          ],
                          [
                            0.6666666666666666,
                            "#ed7953"
                          ],
                          [
                            0.7777777777777778,
                            "#fb9f3a"
                          ],
                          [
                            0.8888888888888888,
                            "#fdca26"
                          ],
                          [
                            1,
                            "#f0f921"
                          ]
                        ],
                        "type": "histogram2dcontour"
                      }
                    ],
                    "mesh3d": [
                      {
                        "colorbar": {
                          "outlinewidth": 0,
                          "ticks": ""
                        },
                        "type": "mesh3d"
                      }
                    ],
                    "parcoords": [
                      {
                        "line": {
                          "colorbar": {
                            "outlinewidth": 0,
                            "ticks": ""
                          }
                        },
                        "type": "parcoords"
                      }
                    ],
                    "pie": [
                      {
                        "automargin": true,
                        "type": "pie"
                      }
                    ],
                    "scatter": [
                      {
                        "fillpattern": {
                          "fillmode": "overlay",
                          "size": 10,
                          "solidity": 0.2
                        },
                        "type": "scatter"
                      }
                    ],
                    "scatter3d": [
                      {
                        "line": {
                          "colorbar": {
                            "outlinewidth": 0,
                            "ticks": ""
                          }
                        },
                        "marker": {
                          "colorbar": {
                            "outlinewidth": 0,
                            "ticks": ""
                          }
                        },
                        "type": "scatter3d"
                      }
                    ],
                    "scattercarpet": [
                      {
                        "marker": {
                          "colorbar": {
                            "outlinewidth": 0,
                            "ticks": ""
                          }
                        },
                        "type": "scattercarpet"
                      }
                    ],
                    "scattergeo": [
                      {
                        "marker": {
                          "colorbar": {
                            "outlinewidth": 0,
                            "ticks": ""
                          }
                        },
                        "type": "scattergeo"
                      }
                    ],
                    "scattergl": [
                      {
                        "marker": {
                          "colorbar": {
                            "outlinewidth": 0,
                            "ticks": ""
                          }
                        },
                        "type": "scattergl"
                      }
                    ],
                    "scattermapbox": [
                      {
                        "marker": {
                          "colorbar": {
                            "outlinewidth": 0,
                            "ticks": ""
                          }
                        },
                        "type": "scattermapbox"
                      }
                    ],
                    "scatterpolar": [
                      {
                        "marker": {
                          "colorbar": {
                            "outlinewidth": 0,
                            "ticks": ""
                          }
                        },
                        "type": "scatterpolar"
                      }
                    ],
                    "scatterpolargl": [
                      {
                        "marker": {
                          "colorbar": {
                            "outlinewidth": 0,
                            "ticks": ""
                          }
                        },
                        "type": "scatterpolargl"
                      }
                    ],
                    "scatterternary": [
                      {
                        "marker": {
                          "colorbar": {
                            "outlinewidth": 0,
                            "ticks": ""
                          }
                        },
                        "type": "scatterternary"
                      }
                    ],
                    "surface": [
                      {
                        "colorbar": {
                          "outlinewidth": 0,
                          "ticks": ""
                        },
                        "colorscale": [
                          [
                            0,
                            "#0d0887"
                          ],
                          [
                            0.1111111111111111,
                            "#46039f"
                          ],
                          [
                            0.2222222222222222,
                            "#7201a8"
                          ],
                          [
                            0.3333333333333333,
                            "#9c179e"
                          ],
                          [
                            0.4444444444444444,
                            "#bd3786"
                          ],
                          [
                            0.5555555555555556,
                            "#d8576b"
                          ],
                          [
                            0.6666666666666666,
                            "#ed7953"
                          ],
                          [
                            0.7777777777777778,
                            "#fb9f3a"
                          ],
                          [
                            0.8888888888888888,
                            "#fdca26"
                          ],
                          [
                            1,
                            "#f0f921"
                          ]
                        ],
                        "type": "surface"
                      }
                    ],
                    "table": [
                      {
                        "cells": {
                          "fill": {
                            "color": "#EBF0F8"
                          },
                          "line": {
                            "color": "white"
                          }
                        },
                        "header": {
                          "fill": {
                            "color": "#C8D4E3"
                          },
                          "line": {
                            "color": "white"
                          }
                        },
                        "type": "table"
                      }
                    ]
                  },
                  "layout": {
                    "annotationdefaults": {
                      "arrowcolor": "#2a3f5f",
                      "arrowhead": 0,
                      "arrowwidth": 1
                    },
                    "autotypenumbers": "strict",
                    "coloraxis": {
                      "colorbar": {
                        "outlinewidth": 0,
                        "ticks": ""
                      }
                    },
                    "colorscale": {
                      "diverging": [
                        [
                          0,
                          "#8e0152"
                        ],
                        [
                          0.1,
                          "#c51b7d"
                        ],
                        [
                          0.2,
                          "#de77ae"
                        ],
                        [
                          0.3,
                          "#f1b6da"
                        ],
                        [
                          0.4,
                          "#fde0ef"
                        ],
                        [
                          0.5,
                          "#f7f7f7"
                        ],
                        [
                          0.6,
                          "#e6f5d0"
                        ],
                        [
                          0.7,
                          "#b8e186"
                        ],
                        [
                          0.8,
                          "#7fbc41"
                        ],
                        [
                          0.9,
                          "#4d9221"
                        ],
                        [
                          1,
                          "#276419"
                        ]
                      ],
                      "sequential": [
                        [
                          0,
                          "#0d0887"
                        ],
                        [
                          0.1111111111111111,
                          "#46039f"
                        ],
                        [
                          0.2222222222222222,
                          "#7201a8"
                        ],
                        [
                          0.3333333333333333,
                          "#9c179e"
                        ],
                        [
                          0.4444444444444444,
                          "#bd3786"
                        ],
                        [
                          0.5555555555555556,
                          "#d8576b"
                        ],
                        [
                          0.6666666666666666,
                          "#ed7953"
                        ],
                        [
                          0.7777777777777778,
                          "#fb9f3a"
                        ],
                        [
                          0.8888888888888888,
                          "#fdca26"
                        ],
                        [
                          1,
                          "#f0f921"
                        ]
                      ],
                      "sequentialminus": [
                        [
                          0,
                          "#0d0887"
                        ],
                        [
                          0.1111111111111111,
                          "#46039f"
                        ],
                        [
                          0.2222222222222222,
                          "#7201a8"
                        ],
                        [
                          0.3333333333333333,
                          "#9c179e"
                        ],
                        [
                          0.4444444444444444,
                          "#bd3786"
                        ],
                        [
                          0.5555555555555556,
                          "#d8576b"
                        ],
                        [
                          0.6666666666666666,
                          "#ed7953"
                        ],
                        [
                          0.7777777777777778,
                          "#fb9f3a"
                        ],
                        [
                          0.8888888888888888,
                          "#fdca26"
                        ],
                        [
                          1,
                          "#f0f921"
                        ]
                      ]
                    },
                    "colorway": [
                      "#636efa",
                      "#EF553B",
                      "#00cc96",
                      "#ab63fa",
                      "#FFA15A",
                      "#19d3f3",
                      "#FF6692",
                      "#B6E880",
                      "#FF97FF",
                      "#FECB52"
                    ],
                    "font": {
                      "color": "#2a3f5f"
                    },
                    "geo": {
                      "bgcolor": "white",
                      "lakecolor": "white",
                      "landcolor": "#E5ECF6",
                      "showlakes": true,
                      "showland": true,
                      "subunitcolor": "white"
                    },
                    "hoverlabel": {
                      "align": "left"
                    },
                    "hovermode": "closest",
                    "mapbox": {
                      "style": "light"
                    },
                    "paper_bgcolor": "white",
                    "plot_bgcolor": "#E5ECF6",
                    "polar": {
                      "angularaxis": {
                        "gridcolor": "white",
                        "linecolor": "white",
                        "ticks": ""
                      },
                      "bgcolor": "#E5ECF6",
                      "radialaxis": {
                        "gridcolor": "white",
                        "linecolor": "white",
                        "ticks": ""
                      }
                    },
                    "scene": {
                      "xaxis": {
                        "backgroundcolor": "#E5ECF6",
                        "gridcolor": "white",
                        "gridwidth": 2,
                        "linecolor": "white",
                        "showbackground": true,
                        "ticks": "",
                        "zerolinecolor": "white"
                      },
                      "yaxis": {
                        "backgroundcolor": "#E5ECF6",
                        "gridcolor": "white",
                        "gridwidth": 2,
                        "linecolor": "white",
                        "showbackground": true,
                        "ticks": "",
                        "zerolinecolor": "white"
                      },
                      "zaxis": {
                        "backgroundcolor": "#E5ECF6",
                        "gridcolor": "white",
                        "gridwidth": 2,
                        "linecolor": "white",
                        "showbackground": true,
                        "ticks": "",
                        "zerolinecolor": "white"
                      }
                    },
                    "shapedefaults": {
                      "line": {
                        "color": "#2a3f5f"
                      }
                    },
                    "ternary": {
                      "aaxis": {
                        "gridcolor": "white",
                        "linecolor": "white",
                        "ticks": ""
                      },
                      "baxis": {
                        "gridcolor": "white",
                        "linecolor": "white",
                        "ticks": ""
                      },
                      "bgcolor": "#E5ECF6",
                      "caxis": {
                        "gridcolor": "white",
                        "linecolor": "white",
                        "ticks": ""
                      }
                    },
                    "title": {
                      "x": 0.05
                    },
                    "xaxis": {
                      "automargin": true,
                      "gridcolor": "white",
                      "linecolor": "white",
                      "ticks": "",
                      "title": {
                        "standoff": 15
                      },
                      "zerolinecolor": "white",
                      "zerolinewidth": 2
                    },
                    "yaxis": {
                      "automargin": true,
                      "gridcolor": "white",
                      "linecolor": "white",
                      "ticks": "",
                      "title": {
                        "standoff": 15
                      },
                      "zerolinecolor": "white",
                      "zerolinewidth": 2
                    }
                  }
                },
                "title": {
                  "text": "PIB de Argentina (2000-2023)"
                },
                "xaxis": {
                  "anchor": "y",
                  "domain": [
                    0,
                    1
                  ],
                  "range": [
                    "2000-01-01",
                    "2026-01-01"
                  ],
                  "title": {
                    "text": "Año"
                  }
                },
                "yaxis": {
                  "anchor": "x",
                  "domain": [
                    0,
                    1
                  ],
                  "title": {
                    "text": "PIB (en dólares)"
                  }
                }
              }
            }
          },
          "metadata": {},
          "output_type": "display_data"
        }
      ],
      "source": [
        "# Crear figura\n",
        "fig = make_subplots(rows=1, cols=1)\n",
        "# Añadir gráfico de línea para Argentina\n",
        "fig.add_trace(go.Scatter(x=df_originalperiod.index, y=df_originalperiod['arg'], mode='lines', name='Argentina'))\n",
        "fig.add_trace(go.Scatter(x=df_train.index, y=df_train['arg'], mode='lines', name='train'))\n",
        "fig.add_trace(go.Scatter(x=df_test.index, y=df_test['arg'], mode='lines', name='test'))\n",
        "# Añadir predicciones\n",
        "fcastarg = resarg.get_forecast('2026').summary_frame()\n",
        "fcastarg.index = fcastarg.index.to_timestamp()\n",
        "fig.add_trace(go.Scatter(x=fcastarg.index, y=fcastarg['mean'], mode='lines', name='Predicción'))\n",
        "fig.add_trace(go.Scatter(x=fcastarg.index, y=fcastarg['mean_ci_upper'], mode='lines', name='Intervalo de confianza superior', fill='tonexty'))\n",
        "fig.add_trace(go.Scatter(x=fcastarg.index, y=fcastarg['mean_ci_lower'], mode='lines', name='Intervalo de confianza inferior', fill='tonexty'))\n",
        "# Ajustal el rango del eje x de la grafica\n",
        "fig.update_xaxes(range=['2000-01-01', '2026-01-01'])\n",
        "# Configurar diseño\n",
        "fig.update_layout(title='PIB de Argentina (2000-2023)', xaxis_title='Año', yaxis_title='PIB (en dólares)', hovermode='x')\n",
        "# Mostrar figura\n",
        "fig.show();"
      ]
    },
    {
      "attachments": {},
      "cell_type": "markdown",
      "metadata": {},
      "source": [
        "Para observar la grafica sin ejecutar el codigo dirigase al siguiente link\n",
        "\n",
        "[Pronostico PIB Argentina](https://github.com/juanguzman2/Proyecto1/blob/master/Imagenes/PibArgentina.png)"
      ]
    },
    {
      "cell_type": "code",
      "execution_count": 39,
      "metadata": {
        "colab": {
          "base_uri": "https://localhost:8080/",
          "height": 542
        },
        "id": "wOLoWgoogf56",
        "outputId": "6355c4db-4b9f-4c2b-a7af-b54193ea53c1"
      },
      "outputs": [
        {
          "data": {
            "application/vnd.plotly.v1+json": {
              "config": {
                "plotlyServerURL": "https://plot.ly"
              },
              "data": [
                {
                  "mode": "lines",
                  "name": "Colombia",
                  "type": "scatter",
                  "x": [
                    "1960-01-01T00:00:00",
                    "1961-01-01T00:00:00",
                    "1962-01-01T00:00:00",
                    "1963-01-01T00:00:00",
                    "1964-01-01T00:00:00",
                    "1965-01-01T00:00:00",
                    "1966-01-01T00:00:00",
                    "1967-01-01T00:00:00",
                    "1968-01-01T00:00:00",
                    "1969-01-01T00:00:00",
                    "1970-01-01T00:00:00",
                    "1971-01-01T00:00:00",
                    "1972-01-01T00:00:00",
                    "1973-01-01T00:00:00",
                    "1974-01-01T00:00:00",
                    "1975-01-01T00:00:00",
                    "1976-01-01T00:00:00",
                    "1977-01-01T00:00:00",
                    "1978-01-01T00:00:00",
                    "1979-01-01T00:00:00",
                    "1980-01-01T00:00:00",
                    "1981-01-01T00:00:00",
                    "1982-01-01T00:00:00",
                    "1983-01-01T00:00:00",
                    "1984-01-01T00:00:00",
                    "1985-01-01T00:00:00",
                    "1986-01-01T00:00:00",
                    "1987-01-01T00:00:00",
                    "1988-01-01T00:00:00",
                    "1989-01-01T00:00:00",
                    "1990-01-01T00:00:00",
                    "1991-01-01T00:00:00",
                    "1992-01-01T00:00:00",
                    "1993-01-01T00:00:00",
                    "1994-01-01T00:00:00",
                    "1995-01-01T00:00:00",
                    "1996-01-01T00:00:00",
                    "1997-01-01T00:00:00",
                    "1998-01-01T00:00:00",
                    "1999-01-01T00:00:00",
                    "2000-01-01T00:00:00",
                    "2001-01-01T00:00:00",
                    "2002-01-01T00:00:00",
                    "2003-01-01T00:00:00",
                    "2004-01-01T00:00:00",
                    "2005-01-01T00:00:00",
                    "2006-01-01T00:00:00",
                    "2007-01-01T00:00:00",
                    "2008-01-01T00:00:00",
                    "2009-01-01T00:00:00",
                    "2010-01-01T00:00:00",
                    "2011-01-01T00:00:00",
                    "2012-01-01T00:00:00",
                    "2013-01-01T00:00:00",
                    "2014-01-01T00:00:00",
                    "2015-01-01T00:00:00",
                    "2016-01-01T00:00:00",
                    "2017-01-01T00:00:00",
                    "2018-01-01T00:00:00",
                    "2019-01-01T00:00:00",
                    "2020-01-01T00:00:00",
                    "2021-01-01T00:00:00"
                  ],
                  "y": [
                    4031152976.6390357,
                    4540447761.19403,
                    4955543963.368689,
                    4836166666.666667,
                    5973366666.666667,
                    5760761904.761905,
                    5428518518.518518,
                    5825170438.487043,
                    5960212869.12968,
                    6450175213.749228,
                    7198360460.198871,
                    7820380970.53674,
                    8671358732.684858,
                    10315760000.33939,
                    12370029583.641897,
                    13098633901.867271,
                    15341403660.469809,
                    19470960619.129715,
                    23263511958.050903,
                    27940411250.27322,
                    33400735644.048115,
                    36388366869.03093,
                    38968039721.74803,
                    38729822781.599724,
                    38253120737.96712,
                    34894411351.98301,
                    34942489683.97124,
                    36373307085.088745,
                    39212550050.42228,
                    39540080200.393814,
                    47844090709.990845,
                    49175565911.06548,
                    58418985443.317154,
                    66446804802.5747,
                    81703500846.03638,
                    92507279383.03873,
                    97160109277.80867,
                    106659508271.25496,
                    98443739941.1664,
                    86186158684.7685,
                    99886577330.72711,
                    98211749595.54419,
                    97963003804.7851,
                    94641378693.22304,
                    117081522349.67728,
                    145619193046.0941,
                    161618580752.94565,
                    206181823187.6746,
                    242186949772.53314,
                    232397835356.3565,
                    286563099757.48175,
                    334943877377.47156,
                    370921317942.56396,
                    382116120909.2182,
                    381112110485.38477,
                    293481753078.868,
                    282825012368.25525,
                    311883730442.0454,
                    334198218100.71857,
                    323109540251.855,
                    270299984937.97015,
                    314464137241.3301
                  ]
                },
                {
                  "mode": "lines",
                  "name": "train",
                  "type": "scatter",
                  "x": [
                    "1960-01-01T00:00:00",
                    "1961-01-01T00:00:00",
                    "1962-01-01T00:00:00",
                    "1963-01-01T00:00:00",
                    "1964-01-01T00:00:00",
                    "1965-01-01T00:00:00",
                    "1966-01-01T00:00:00",
                    "1967-01-01T00:00:00",
                    "1968-01-01T00:00:00",
                    "1969-01-01T00:00:00",
                    "1970-01-01T00:00:00",
                    "1971-01-01T00:00:00",
                    "1972-01-01T00:00:00",
                    "1973-01-01T00:00:00",
                    "1974-01-01T00:00:00",
                    "1975-01-01T00:00:00",
                    "1976-01-01T00:00:00",
                    "1977-01-01T00:00:00",
                    "1978-01-01T00:00:00",
                    "1979-01-01T00:00:00",
                    "1980-01-01T00:00:00",
                    "1981-01-01T00:00:00",
                    "1982-01-01T00:00:00",
                    "1983-01-01T00:00:00",
                    "1984-01-01T00:00:00",
                    "1985-01-01T00:00:00",
                    "1986-01-01T00:00:00",
                    "1987-01-01T00:00:00",
                    "1988-01-01T00:00:00",
                    "1989-01-01T00:00:00",
                    "1990-01-01T00:00:00",
                    "1991-01-01T00:00:00",
                    "1992-01-01T00:00:00",
                    "1993-01-01T00:00:00",
                    "1994-01-01T00:00:00",
                    "1995-01-01T00:00:00",
                    "1996-01-01T00:00:00",
                    "1997-01-01T00:00:00",
                    "1998-01-01T00:00:00",
                    "1999-01-01T00:00:00",
                    "2000-01-01T00:00:00",
                    "2001-01-01T00:00:00",
                    "2002-01-01T00:00:00",
                    "2003-01-01T00:00:00",
                    "2004-01-01T00:00:00",
                    "2005-01-01T00:00:00",
                    "2006-01-01T00:00:00",
                    "2007-01-01T00:00:00",
                    "2008-01-01T00:00:00",
                    "2009-01-01T00:00:00",
                    "2010-01-01T00:00:00",
                    "2011-01-01T00:00:00",
                    "2012-01-01T00:00:00",
                    "2013-01-01T00:00:00"
                  ],
                  "y": [
                    4031152976.6390357,
                    4540447761.19403,
                    4955543963.368689,
                    4836166666.666667,
                    5973366666.666667,
                    5760761904.761905,
                    5428518518.518518,
                    5825170438.487043,
                    5960212869.12968,
                    6450175213.749228,
                    7198360460.198871,
                    7820380970.53674,
                    8671358732.684858,
                    10315760000.33939,
                    12370029583.641897,
                    13098633901.867271,
                    15341403660.469809,
                    19470960619.129715,
                    23263511958.050903,
                    27940411250.27322,
                    33400735644.048115,
                    36388366869.03093,
                    38968039721.74803,
                    38729822781.599724,
                    38253120737.96712,
                    34894411351.98301,
                    34942489683.97124,
                    36373307085.088745,
                    39212550050.42228,
                    39540080200.393814,
                    47844090709.990845,
                    49175565911.06548,
                    58418985443.317154,
                    66446804802.5747,
                    81703500846.03638,
                    92507279383.03873,
                    97160109277.80867,
                    106659508271.25496,
                    98443739941.1664,
                    86186158684.7685,
                    99886577330.72711,
                    98211749595.54419,
                    97963003804.7851,
                    94641378693.22304,
                    117081522349.67728,
                    145619193046.0941,
                    161618580752.94565,
                    206181823187.6746,
                    242186949772.53314,
                    232397835356.3565,
                    286563099757.48175,
                    334943877377.47156,
                    370921317942.56396,
                    382116120909.2182
                  ]
                },
                {
                  "mode": "lines",
                  "name": "test",
                  "type": "scatter",
                  "x": [
                    "2014-01-01T00:00:00",
                    "2015-01-01T00:00:00",
                    "2016-01-01T00:00:00",
                    "2017-01-01T00:00:00",
                    "2018-01-01T00:00:00",
                    "2019-01-01T00:00:00",
                    "2020-01-01T00:00:00",
                    "2021-01-01T00:00:00"
                  ],
                  "y": [
                    381112110485.38477,
                    293481753078.868,
                    282825012368.25525,
                    311883730442.0454,
                    334198218100.71857,
                    323109540251.855,
                    270299984937.97015,
                    314464137241.3301
                  ]
                },
                {
                  "mode": "lines",
                  "name": "Predicción",
                  "type": "scatter",
                  "x": [
                    "2014-01-01T00:00:00",
                    "2015-01-01T00:00:00",
                    "2016-01-01T00:00:00",
                    "2017-01-01T00:00:00",
                    "2018-01-01T00:00:00",
                    "2019-01-01T00:00:00",
                    "2020-01-01T00:00:00",
                    "2021-01-01T00:00:00",
                    "2022-01-01T00:00:00",
                    "2023-01-01T00:00:00",
                    "2024-01-01T00:00:00",
                    "2025-01-01T00:00:00",
                    "2026-01-01T00:00:00"
                  ],
                  "y": [
                    388745097595.37683,
                    390075948920.1153,
                    399321137836.93695,
                    407351707107.01685,
                    422608502728.7645,
                    433416807652.31177,
                    438073841186.52094,
                    447570654023.15405,
                    439363249589.7217,
                    427113798576.5217,
                    440817204071.2224,
                    439144101864.72156,
                    438896278222.21027
                  ]
                },
                {
                  "fill": "tonexty",
                  "mode": "lines",
                  "name": "Intervalo de confianza superior",
                  "type": "scatter",
                  "x": [
                    "2014-01-01T00:00:00",
                    "2015-01-01T00:00:00",
                    "2016-01-01T00:00:00",
                    "2017-01-01T00:00:00",
                    "2018-01-01T00:00:00",
                    "2019-01-01T00:00:00",
                    "2020-01-01T00:00:00",
                    "2021-01-01T00:00:00",
                    "2022-01-01T00:00:00",
                    "2023-01-01T00:00:00",
                    "2024-01-01T00:00:00",
                    "2025-01-01T00:00:00",
                    "2026-01-01T00:00:00"
                  ],
                  "y": [
                    422793987663.88544,
                    452628709068.6775,
                    480968971179.34546,
                    504407822714.51416,
                    532941682072.614,
                    555592629120.5066,
                    571041702862.6958,
                    590518102849.7789,
                    591637653260.6825,
                    588175944658.8737,
                    610211819652.5892,
                    616480101242.3584,
                    623834258883.8667
                  ]
                },
                {
                  "fill": "tonexty",
                  "mode": "lines",
                  "name": "Intervalo de confianza inferior",
                  "type": "scatter",
                  "x": [
                    "2014-01-01T00:00:00",
                    "2015-01-01T00:00:00",
                    "2016-01-01T00:00:00",
                    "2017-01-01T00:00:00",
                    "2018-01-01T00:00:00",
                    "2019-01-01T00:00:00",
                    "2020-01-01T00:00:00",
                    "2021-01-01T00:00:00",
                    "2022-01-01T00:00:00",
                    "2023-01-01T00:00:00",
                    "2024-01-01T00:00:00",
                    "2025-01-01T00:00:00",
                    "2026-01-01T00:00:00"
                  ],
                  "y": [
                    354696207526.8682,
                    327523188771.5531,
                    317673304494.52844,
                    310295591499.51953,
                    312275323384.91504,
                    311240986184.11694,
                    305105979510.34607,
                    304623205196.5292,
                    287088845918.76086,
                    266051652494.16977,
                    271422588489.8556,
                    261808102487.08472,
                    253958297560.55386
                  ]
                }
              ],
              "layout": {
                "hovermode": "x",
                "template": {
                  "data": {
                    "bar": [
                      {
                        "error_x": {
                          "color": "#2a3f5f"
                        },
                        "error_y": {
                          "color": "#2a3f5f"
                        },
                        "marker": {
                          "line": {
                            "color": "#E5ECF6",
                            "width": 0.5
                          },
                          "pattern": {
                            "fillmode": "overlay",
                            "size": 10,
                            "solidity": 0.2
                          }
                        },
                        "type": "bar"
                      }
                    ],
                    "barpolar": [
                      {
                        "marker": {
                          "line": {
                            "color": "#E5ECF6",
                            "width": 0.5
                          },
                          "pattern": {
                            "fillmode": "overlay",
                            "size": 10,
                            "solidity": 0.2
                          }
                        },
                        "type": "barpolar"
                      }
                    ],
                    "carpet": [
                      {
                        "aaxis": {
                          "endlinecolor": "#2a3f5f",
                          "gridcolor": "white",
                          "linecolor": "white",
                          "minorgridcolor": "white",
                          "startlinecolor": "#2a3f5f"
                        },
                        "baxis": {
                          "endlinecolor": "#2a3f5f",
                          "gridcolor": "white",
                          "linecolor": "white",
                          "minorgridcolor": "white",
                          "startlinecolor": "#2a3f5f"
                        },
                        "type": "carpet"
                      }
                    ],
                    "choropleth": [
                      {
                        "colorbar": {
                          "outlinewidth": 0,
                          "ticks": ""
                        },
                        "type": "choropleth"
                      }
                    ],
                    "contour": [
                      {
                        "colorbar": {
                          "outlinewidth": 0,
                          "ticks": ""
                        },
                        "colorscale": [
                          [
                            0,
                            "#0d0887"
                          ],
                          [
                            0.1111111111111111,
                            "#46039f"
                          ],
                          [
                            0.2222222222222222,
                            "#7201a8"
                          ],
                          [
                            0.3333333333333333,
                            "#9c179e"
                          ],
                          [
                            0.4444444444444444,
                            "#bd3786"
                          ],
                          [
                            0.5555555555555556,
                            "#d8576b"
                          ],
                          [
                            0.6666666666666666,
                            "#ed7953"
                          ],
                          [
                            0.7777777777777778,
                            "#fb9f3a"
                          ],
                          [
                            0.8888888888888888,
                            "#fdca26"
                          ],
                          [
                            1,
                            "#f0f921"
                          ]
                        ],
                        "type": "contour"
                      }
                    ],
                    "contourcarpet": [
                      {
                        "colorbar": {
                          "outlinewidth": 0,
                          "ticks": ""
                        },
                        "type": "contourcarpet"
                      }
                    ],
                    "heatmap": [
                      {
                        "colorbar": {
                          "outlinewidth": 0,
                          "ticks": ""
                        },
                        "colorscale": [
                          [
                            0,
                            "#0d0887"
                          ],
                          [
                            0.1111111111111111,
                            "#46039f"
                          ],
                          [
                            0.2222222222222222,
                            "#7201a8"
                          ],
                          [
                            0.3333333333333333,
                            "#9c179e"
                          ],
                          [
                            0.4444444444444444,
                            "#bd3786"
                          ],
                          [
                            0.5555555555555556,
                            "#d8576b"
                          ],
                          [
                            0.6666666666666666,
                            "#ed7953"
                          ],
                          [
                            0.7777777777777778,
                            "#fb9f3a"
                          ],
                          [
                            0.8888888888888888,
                            "#fdca26"
                          ],
                          [
                            1,
                            "#f0f921"
                          ]
                        ],
                        "type": "heatmap"
                      }
                    ],
                    "heatmapgl": [
                      {
                        "colorbar": {
                          "outlinewidth": 0,
                          "ticks": ""
                        },
                        "colorscale": [
                          [
                            0,
                            "#0d0887"
                          ],
                          [
                            0.1111111111111111,
                            "#46039f"
                          ],
                          [
                            0.2222222222222222,
                            "#7201a8"
                          ],
                          [
                            0.3333333333333333,
                            "#9c179e"
                          ],
                          [
                            0.4444444444444444,
                            "#bd3786"
                          ],
                          [
                            0.5555555555555556,
                            "#d8576b"
                          ],
                          [
                            0.6666666666666666,
                            "#ed7953"
                          ],
                          [
                            0.7777777777777778,
                            "#fb9f3a"
                          ],
                          [
                            0.8888888888888888,
                            "#fdca26"
                          ],
                          [
                            1,
                            "#f0f921"
                          ]
                        ],
                        "type": "heatmapgl"
                      }
                    ],
                    "histogram": [
                      {
                        "marker": {
                          "pattern": {
                            "fillmode": "overlay",
                            "size": 10,
                            "solidity": 0.2
                          }
                        },
                        "type": "histogram"
                      }
                    ],
                    "histogram2d": [
                      {
                        "colorbar": {
                          "outlinewidth": 0,
                          "ticks": ""
                        },
                        "colorscale": [
                          [
                            0,
                            "#0d0887"
                          ],
                          [
                            0.1111111111111111,
                            "#46039f"
                          ],
                          [
                            0.2222222222222222,
                            "#7201a8"
                          ],
                          [
                            0.3333333333333333,
                            "#9c179e"
                          ],
                          [
                            0.4444444444444444,
                            "#bd3786"
                          ],
                          [
                            0.5555555555555556,
                            "#d8576b"
                          ],
                          [
                            0.6666666666666666,
                            "#ed7953"
                          ],
                          [
                            0.7777777777777778,
                            "#fb9f3a"
                          ],
                          [
                            0.8888888888888888,
                            "#fdca26"
                          ],
                          [
                            1,
                            "#f0f921"
                          ]
                        ],
                        "type": "histogram2d"
                      }
                    ],
                    "histogram2dcontour": [
                      {
                        "colorbar": {
                          "outlinewidth": 0,
                          "ticks": ""
                        },
                        "colorscale": [
                          [
                            0,
                            "#0d0887"
                          ],
                          [
                            0.1111111111111111,
                            "#46039f"
                          ],
                          [
                            0.2222222222222222,
                            "#7201a8"
                          ],
                          [
                            0.3333333333333333,
                            "#9c179e"
                          ],
                          [
                            0.4444444444444444,
                            "#bd3786"
                          ],
                          [
                            0.5555555555555556,
                            "#d8576b"
                          ],
                          [
                            0.6666666666666666,
                            "#ed7953"
                          ],
                          [
                            0.7777777777777778,
                            "#fb9f3a"
                          ],
                          [
                            0.8888888888888888,
                            "#fdca26"
                          ],
                          [
                            1,
                            "#f0f921"
                          ]
                        ],
                        "type": "histogram2dcontour"
                      }
                    ],
                    "mesh3d": [
                      {
                        "colorbar": {
                          "outlinewidth": 0,
                          "ticks": ""
                        },
                        "type": "mesh3d"
                      }
                    ],
                    "parcoords": [
                      {
                        "line": {
                          "colorbar": {
                            "outlinewidth": 0,
                            "ticks": ""
                          }
                        },
                        "type": "parcoords"
                      }
                    ],
                    "pie": [
                      {
                        "automargin": true,
                        "type": "pie"
                      }
                    ],
                    "scatter": [
                      {
                        "fillpattern": {
                          "fillmode": "overlay",
                          "size": 10,
                          "solidity": 0.2
                        },
                        "type": "scatter"
                      }
                    ],
                    "scatter3d": [
                      {
                        "line": {
                          "colorbar": {
                            "outlinewidth": 0,
                            "ticks": ""
                          }
                        },
                        "marker": {
                          "colorbar": {
                            "outlinewidth": 0,
                            "ticks": ""
                          }
                        },
                        "type": "scatter3d"
                      }
                    ],
                    "scattercarpet": [
                      {
                        "marker": {
                          "colorbar": {
                            "outlinewidth": 0,
                            "ticks": ""
                          }
                        },
                        "type": "scattercarpet"
                      }
                    ],
                    "scattergeo": [
                      {
                        "marker": {
                          "colorbar": {
                            "outlinewidth": 0,
                            "ticks": ""
                          }
                        },
                        "type": "scattergeo"
                      }
                    ],
                    "scattergl": [
                      {
                        "marker": {
                          "colorbar": {
                            "outlinewidth": 0,
                            "ticks": ""
                          }
                        },
                        "type": "scattergl"
                      }
                    ],
                    "scattermapbox": [
                      {
                        "marker": {
                          "colorbar": {
                            "outlinewidth": 0,
                            "ticks": ""
                          }
                        },
                        "type": "scattermapbox"
                      }
                    ],
                    "scatterpolar": [
                      {
                        "marker": {
                          "colorbar": {
                            "outlinewidth": 0,
                            "ticks": ""
                          }
                        },
                        "type": "scatterpolar"
                      }
                    ],
                    "scatterpolargl": [
                      {
                        "marker": {
                          "colorbar": {
                            "outlinewidth": 0,
                            "ticks": ""
                          }
                        },
                        "type": "scatterpolargl"
                      }
                    ],
                    "scatterternary": [
                      {
                        "marker": {
                          "colorbar": {
                            "outlinewidth": 0,
                            "ticks": ""
                          }
                        },
                        "type": "scatterternary"
                      }
                    ],
                    "surface": [
                      {
                        "colorbar": {
                          "outlinewidth": 0,
                          "ticks": ""
                        },
                        "colorscale": [
                          [
                            0,
                            "#0d0887"
                          ],
                          [
                            0.1111111111111111,
                            "#46039f"
                          ],
                          [
                            0.2222222222222222,
                            "#7201a8"
                          ],
                          [
                            0.3333333333333333,
                            "#9c179e"
                          ],
                          [
                            0.4444444444444444,
                            "#bd3786"
                          ],
                          [
                            0.5555555555555556,
                            "#d8576b"
                          ],
                          [
                            0.6666666666666666,
                            "#ed7953"
                          ],
                          [
                            0.7777777777777778,
                            "#fb9f3a"
                          ],
                          [
                            0.8888888888888888,
                            "#fdca26"
                          ],
                          [
                            1,
                            "#f0f921"
                          ]
                        ],
                        "type": "surface"
                      }
                    ],
                    "table": [
                      {
                        "cells": {
                          "fill": {
                            "color": "#EBF0F8"
                          },
                          "line": {
                            "color": "white"
                          }
                        },
                        "header": {
                          "fill": {
                            "color": "#C8D4E3"
                          },
                          "line": {
                            "color": "white"
                          }
                        },
                        "type": "table"
                      }
                    ]
                  },
                  "layout": {
                    "annotationdefaults": {
                      "arrowcolor": "#2a3f5f",
                      "arrowhead": 0,
                      "arrowwidth": 1
                    },
                    "autotypenumbers": "strict",
                    "coloraxis": {
                      "colorbar": {
                        "outlinewidth": 0,
                        "ticks": ""
                      }
                    },
                    "colorscale": {
                      "diverging": [
                        [
                          0,
                          "#8e0152"
                        ],
                        [
                          0.1,
                          "#c51b7d"
                        ],
                        [
                          0.2,
                          "#de77ae"
                        ],
                        [
                          0.3,
                          "#f1b6da"
                        ],
                        [
                          0.4,
                          "#fde0ef"
                        ],
                        [
                          0.5,
                          "#f7f7f7"
                        ],
                        [
                          0.6,
                          "#e6f5d0"
                        ],
                        [
                          0.7,
                          "#b8e186"
                        ],
                        [
                          0.8,
                          "#7fbc41"
                        ],
                        [
                          0.9,
                          "#4d9221"
                        ],
                        [
                          1,
                          "#276419"
                        ]
                      ],
                      "sequential": [
                        [
                          0,
                          "#0d0887"
                        ],
                        [
                          0.1111111111111111,
                          "#46039f"
                        ],
                        [
                          0.2222222222222222,
                          "#7201a8"
                        ],
                        [
                          0.3333333333333333,
                          "#9c179e"
                        ],
                        [
                          0.4444444444444444,
                          "#bd3786"
                        ],
                        [
                          0.5555555555555556,
                          "#d8576b"
                        ],
                        [
                          0.6666666666666666,
                          "#ed7953"
                        ],
                        [
                          0.7777777777777778,
                          "#fb9f3a"
                        ],
                        [
                          0.8888888888888888,
                          "#fdca26"
                        ],
                        [
                          1,
                          "#f0f921"
                        ]
                      ],
                      "sequentialminus": [
                        [
                          0,
                          "#0d0887"
                        ],
                        [
                          0.1111111111111111,
                          "#46039f"
                        ],
                        [
                          0.2222222222222222,
                          "#7201a8"
                        ],
                        [
                          0.3333333333333333,
                          "#9c179e"
                        ],
                        [
                          0.4444444444444444,
                          "#bd3786"
                        ],
                        [
                          0.5555555555555556,
                          "#d8576b"
                        ],
                        [
                          0.6666666666666666,
                          "#ed7953"
                        ],
                        [
                          0.7777777777777778,
                          "#fb9f3a"
                        ],
                        [
                          0.8888888888888888,
                          "#fdca26"
                        ],
                        [
                          1,
                          "#f0f921"
                        ]
                      ]
                    },
                    "colorway": [
                      "#636efa",
                      "#EF553B",
                      "#00cc96",
                      "#ab63fa",
                      "#FFA15A",
                      "#19d3f3",
                      "#FF6692",
                      "#B6E880",
                      "#FF97FF",
                      "#FECB52"
                    ],
                    "font": {
                      "color": "#2a3f5f"
                    },
                    "geo": {
                      "bgcolor": "white",
                      "lakecolor": "white",
                      "landcolor": "#E5ECF6",
                      "showlakes": true,
                      "showland": true,
                      "subunitcolor": "white"
                    },
                    "hoverlabel": {
                      "align": "left"
                    },
                    "hovermode": "closest",
                    "mapbox": {
                      "style": "light"
                    },
                    "paper_bgcolor": "white",
                    "plot_bgcolor": "#E5ECF6",
                    "polar": {
                      "angularaxis": {
                        "gridcolor": "white",
                        "linecolor": "white",
                        "ticks": ""
                      },
                      "bgcolor": "#E5ECF6",
                      "radialaxis": {
                        "gridcolor": "white",
                        "linecolor": "white",
                        "ticks": ""
                      }
                    },
                    "scene": {
                      "xaxis": {
                        "backgroundcolor": "#E5ECF6",
                        "gridcolor": "white",
                        "gridwidth": 2,
                        "linecolor": "white",
                        "showbackground": true,
                        "ticks": "",
                        "zerolinecolor": "white"
                      },
                      "yaxis": {
                        "backgroundcolor": "#E5ECF6",
                        "gridcolor": "white",
                        "gridwidth": 2,
                        "linecolor": "white",
                        "showbackground": true,
                        "ticks": "",
                        "zerolinecolor": "white"
                      },
                      "zaxis": {
                        "backgroundcolor": "#E5ECF6",
                        "gridcolor": "white",
                        "gridwidth": 2,
                        "linecolor": "white",
                        "showbackground": true,
                        "ticks": "",
                        "zerolinecolor": "white"
                      }
                    },
                    "shapedefaults": {
                      "line": {
                        "color": "#2a3f5f"
                      }
                    },
                    "ternary": {
                      "aaxis": {
                        "gridcolor": "white",
                        "linecolor": "white",
                        "ticks": ""
                      },
                      "baxis": {
                        "gridcolor": "white",
                        "linecolor": "white",
                        "ticks": ""
                      },
                      "bgcolor": "#E5ECF6",
                      "caxis": {
                        "gridcolor": "white",
                        "linecolor": "white",
                        "ticks": ""
                      }
                    },
                    "title": {
                      "x": 0.05
                    },
                    "xaxis": {
                      "automargin": true,
                      "gridcolor": "white",
                      "linecolor": "white",
                      "ticks": "",
                      "title": {
                        "standoff": 15
                      },
                      "zerolinecolor": "white",
                      "zerolinewidth": 2
                    },
                    "yaxis": {
                      "automargin": true,
                      "gridcolor": "white",
                      "linecolor": "white",
                      "ticks": "",
                      "title": {
                        "standoff": 15
                      },
                      "zerolinecolor": "white",
                      "zerolinewidth": 2
                    }
                  }
                },
                "title": {
                  "text": "PIB de Colombia (2000-2023)"
                },
                "xaxis": {
                  "anchor": "y",
                  "domain": [
                    0,
                    1
                  ],
                  "range": [
                    "2000-01-01",
                    "2026-01-01"
                  ],
                  "title": {
                    "text": "Año"
                  }
                },
                "yaxis": {
                  "anchor": "x",
                  "domain": [
                    0,
                    1
                  ],
                  "title": {
                    "text": "PIB (en dólares)"
                  }
                }
              }
            }
          },
          "metadata": {},
          "output_type": "display_data"
        }
      ],
      "source": [
        "# Crear figura\n",
        "fig = make_subplots(rows=1, cols=1)\n",
        "# Añadir gráfico de línea para Colombia\n",
        "fig.add_trace(go.Scatter(x=df_originalperiod.index, y=df_originalperiod['col'], mode='lines', name='Colombia'))\n",
        "fig.add_trace(go.Scatter(x=df_train.index, y=df_train['col'], mode='lines', name='train'))\n",
        "fig.add_trace(go.Scatter(x=df_test.index, y=df_test['col'], mode='lines', name='test'))\n",
        "# Añadir predicciones\n",
        "fcastcol = rescol.get_forecast('2026').summary_frame()\n",
        "fcastcol.index = fcastcol.index.to_timestamp()\n",
        "fig.add_trace(go.Scatter(x=fcastcol.index, y=fcastcol['mean'], mode='lines', name='Predicción'))\n",
        "fig.add_trace(go.Scatter(x=fcastcol.index, y=fcastcol['mean_ci_upper'], mode='lines', name='Intervalo de confianza superior', fill='tonexty'))\n",
        "fig.add_trace(go.Scatter(x=fcastcol.index, y=fcastcol['mean_ci_lower'], mode='lines', name='Intervalo de confianza inferior', fill='tonexty'))\n",
        "# Ajustal el rango del eje x de la grafica\n",
        "fig.update_xaxes(range=['2000-01-01', '2026-01-01'])\n",
        "# Configurar diseño\n",
        "fig.update_layout(title='PIB de Colombia (2000-2023)', xaxis_title='Año', yaxis_title='PIB (en dólares)', hovermode='x')\n",
        "# Mostrar figura\n",
        "fig.show();"
      ]
    },
    {
      "attachments": {},
      "cell_type": "markdown",
      "metadata": {},
      "source": [
        "Para observar la grafica sin ejecutar el codigo dirigase al siguiente link\n",
        "\n",
        "[Pronostico PIB Colombia](https://github.com/juanguzman2/Proyecto1/blob/master/Imagenes/PibColombia.png)"
      ]
    },
    {
      "cell_type": "markdown",
      "metadata": {
        "id": "8ohGKVLwA_Vj"
      },
      "source": [
        "## Evaluar el modelo mediante MSE y RMSE\n",
        "\n"
      ]
    },
    {
      "cell_type": "code",
      "execution_count": 40,
      "metadata": {
        "colab": {
          "base_uri": "https://localhost:8080/"
        },
        "id": "GdwiTJIWGRu_",
        "outputId": "34615300-2cb5-4624-deb0-bcd96f0d3c50"
      },
      "outputs": [
        {
          "name": "stdout",
          "output_type": "stream",
          "text": [
            "El rmse y mse para bra es: 728679775703, 5.309742155189954e+23\n",
            "El rmse y mse para mex es: 141157525995, 1.9925447145148507e+22\n",
            "El rmse y mse para arg es: 77689486957, 6.035656383672728e+21\n",
            "El rmse y mse para col es: 81463485493, 6.636299468729627e+21\n"
          ]
        }
      ],
      "source": [
        "forecasts = [resbra.forecast(), resmex.forecast(), resarg.forecast(), rescol.forecast()]\n",
        "test_data = [df_test[pais] for pais in paises]\n",
        "for pais, forecast, data in zip(paises, forecasts, test_data):\n",
        "    rmse_value = round(rmse(data, forecast))\n",
        "    mse_value = mse(data, forecast)\n",
        "    print(f\"El rmse y mse para {pais} es: {rmse_value}, {mse_value}\")"
      ]
    }
  ],
  "metadata": {
    "colab": {
      "provenance": []
    },
    "kernelspec": {
      "display_name": "base",
      "language": "python",
      "name": "python3"
    },
    "language_info": {
      "codemirror_mode": {
        "name": "ipython",
        "version": 3
      },
      "file_extension": ".py",
      "mimetype": "text/x-python",
      "name": "python",
      "nbconvert_exporter": "python",
      "pygments_lexer": "ipython3",
      "version": "3.9.13"
    },
    "vscode": {
      "interpreter": {
        "hash": "3383eef6cf5dadfe9a0000af274ebd1f54185d2acf00686d392cb21533caf17d"
      }
    }
  },
  "nbformat": 4,
  "nbformat_minor": 0
}
